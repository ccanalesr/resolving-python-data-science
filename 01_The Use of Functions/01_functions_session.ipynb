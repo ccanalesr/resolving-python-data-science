{
 "cells": [
  {
   "cell_type": "markdown",
   "id": "8e52b97d-1dd5-4585-b589-964f954af941",
   "metadata": {},
   "source": [
    "<font size=\"+5\">#01 | The Use of Functions</font>"
   ]
  },
  {
   "cell_type": "markdown",
   "id": "ee404e98-7cce-4d1a-897d-572ec26ee648",
   "metadata": {},
   "source": [
    "\n",
    "<div class=\"alert alert-warning\">\n",
    "  <ul>\n",
    "    <li>\n",
    "      <b>Python</b> + <b>Data Science</b> Tutorials in ↓\n",
    "      <ul>\n",
    "        <li>\n",
    "          <a href=\"https://www.youtube.com/c/PythonResolver?sub_confirmation=1\"\n",
    "            >YouTube</a\n",
    "          >\n",
    "        </li>\n",
    "        <li>\n",
    "          <a href=\"https://blog.pythonresolver.com/\">Blog</a>\n",
    "        </li>\n",
    "        <li>\n",
    "          <a href=\"https://github.com/jsulopz/00-python-resolver-discipline\">GitHub</a>\n",
    "        </li>\n",
    "      </ul>\n",
    "    </li>\n",
    "    <li>\n",
    "      Author: <a href=\"https://twitter.com/jsulopz\"><b>@jsulopz</b></a>\n",
    "    </li>\n",
    "  </ul>\n",
    "</div>\n",
    "\n",
    "<a href=\"https://colab.research.google.com/github/jsulopz/resolving-python-data-science/blob/main/01_The%20Use%20of%20Functions/01_functions_session.ipynb\">\n",
    "  <img src=\"https://colab.research.google.com/assets/colab-badge.svg\" alt=\"Open In Colab\"/>\n",
    "</a>\n"
   ]
  },
  {
   "cell_type": "markdown",
   "id": "ff269276-6dc1-406c-a20a-952c1792b995",
   "metadata": {},
   "source": [
    "# The Starting *Thing*"
   ]
  },
  {
   "cell_type": "code",
   "execution_count": 1,
   "id": "f1ff71e2-efc5-4870-96c5-b755e3568a83",
   "metadata": {},
   "outputs": [
    {
     "ename": "NameError",
     "evalue": "name 'internet_usage_spain' is not defined",
     "output_type": "error",
     "traceback": [
      "\u001b[0;31m---------------------------------------------------------------------------\u001b[0m",
      "\u001b[0;31mNameError\u001b[0m                                 Traceback (most recent call last)",
      "\u001b[0;32m/var/folders/24/tg28vxls25l9mjvqrnh0plc80000gn/T/ipykernel_9147/1915596964.py\u001b[0m in \u001b[0;36m<module>\u001b[0;34m\u001b[0m\n\u001b[0;32m----> 1\u001b[0;31m \u001b[0minternet_usage_spain\u001b[0m\u001b[0;34m.\u001b[0m\u001b[0mxlsx\u001b[0m \u001b[0;31m#!\u001b[0m\u001b[0;34m\u001b[0m\u001b[0;34m\u001b[0m\u001b[0m\n\u001b[0m",
      "\u001b[0;31mNameError\u001b[0m: name 'internet_usage_spain' is not defined"
     ]
    }
   ],
   "source": [
    "internet_usage_spain.xlsx #!"
   ]
  },
  {
   "cell_type": "markdown",
   "id": "ef8e6f83-a820-4c97-8da4-791c7679083c",
   "metadata": {},
   "source": [
    "- [ ] Type `your_name` and execute ↓"
   ]
  },
  {
   "cell_type": "code",
   "execution_count": null,
   "id": "7648540f-8bd3-4b97-9889-26ccc56d31d0",
   "metadata": {},
   "outputs": [],
   "source": []
  },
  {
   "cell_type": "markdown",
   "id": "b36f1c8f-8d3b-4629-afbe-2f8e29312c98",
   "metadata": {},
   "source": [
    "- [ ] Why is not Python recognising my name?"
   ]
  },
  {
   "cell_type": "markdown",
   "id": "8bd24a54-8440-4dae-8b39-7d20f1523af9",
   "metadata": {},
   "source": [
    "# Default *Things* in Python"
   ]
  },
  {
   "cell_type": "markdown",
   "id": "3913e701-8960-419c-949f-00b6e58026c7",
   "metadata": {},
   "source": [
    "- It is not [**predefined by default**]() in Python\n",
    "- [ ] Then, what is predefined by default?\n",
    "    - [Functions](https://docs.python.org/3/library/functions.html)\n",
    "    - [Constants](https://docs.python.org/3/library/constants.html)\n",
    "    - [Types](https://docs.python.org/3/library/stdtypes.html)\n",
    "    - [Exceptions](https://docs.python.org/3/library/exceptions.html)"
   ]
  },
  {
   "cell_type": "code",
   "execution_count": 1,
   "id": "d911c09f-1862-4ca3-b1e4-0f33bf007824",
   "metadata": {},
   "outputs": [
    {
     "data": {
      "text/plain": [
       "<function min>"
      ]
     },
     "execution_count": 1,
     "metadata": {},
     "output_type": "execute_result"
    }
   ],
   "source": [
    "min"
   ]
  },
  {
   "cell_type": "markdown",
   "id": "19ec6fba-a21b-4620-bcd8-52411509c1bd",
   "metadata": {},
   "source": [
    "- [ ] Why is it recognizing `sum`? Why not `your_name`?\n",
    "- [ ] How can Python recognize `your_name`?"
   ]
  },
  {
   "cell_type": "code",
   "execution_count": 2,
   "id": "fa512143-aaed-40c0-b934-06f54deba977",
   "metadata": {},
   "outputs": [
    {
     "data": {
      "text/plain": [
       "<function max>"
      ]
     },
     "execution_count": 2,
     "metadata": {},
     "output_type": "execute_result"
    }
   ],
   "source": [
    "max"
   ]
  },
  {
   "cell_type": "code",
   "execution_count": null,
   "id": "16607e87-dd23-48c3-9a56-92dca0db4168",
   "metadata": {},
   "outputs": [],
   "source": []
  },
  {
   "cell_type": "markdown",
   "id": "133439a5-12f3-42fa-a4af-156f21f49524",
   "metadata": {},
   "source": [
    "# Object-Oriented Programming"
   ]
  },
  {
   "cell_type": "markdown",
   "id": "f33fef3f-0171-46de-8b0d-1d903a354d1f",
   "metadata": {},
   "source": [
    "Which `objects` are predefined by Python?\n",
    "- Numbers\n",
    "    - `int`eger\n",
    "    - `float`\n",
    "- Text\n",
    "    - `str`\n",
    "- and [more...](https://docs.python.org/3/library/stdtypes.html#sequence-types-list-tuple-range)"
   ]
  },
  {
   "cell_type": "markdown",
   "id": "96bb17cf-8bb2-49eb-9451-61b3c5713224",
   "metadata": {},
   "source": [
    "## `string`"
   ]
  },
  {
   "cell_type": "code",
   "execution_count": 5,
   "id": "f150c97c-16b9-4929-80fc-7c4483060327",
   "metadata": {},
   "outputs": [],
   "source": [
    "import pandas as pd"
   ]
  },
  {
   "cell_type": "code",
   "execution_count": 6,
   "id": "7a9b3c44-02af-47dc-ba7f-261e28bd1554",
   "metadata": {},
   "outputs": [
    {
     "data": {
      "text/html": [
       "<div>\n",
       "<style scoped>\n",
       "    .dataframe tbody tr th:only-of-type {\n",
       "        vertical-align: middle;\n",
       "    }\n",
       "\n",
       "    .dataframe tbody tr th {\n",
       "        vertical-align: top;\n",
       "    }\n",
       "\n",
       "    .dataframe thead th {\n",
       "        text-align: right;\n",
       "    }\n",
       "</style>\n",
       "<table border=\"1\" class=\"dataframe\">\n",
       "  <thead>\n",
       "    <tr style=\"text-align: right;\">\n",
       "      <th></th>\n",
       "      <th>P</th>\n",
       "      <th>Piloto</th>\n",
       "      <th>Puntos</th>\n",
       "      <th>BH</th>\n",
       "      <th>IT</th>\n",
       "      <th>PO</th>\n",
       "      <th>ES</th>\n",
       "      <th>MN</th>\n",
       "      <th>AZ</th>\n",
       "      <th>FR</th>\n",
       "      <th>...</th>\n",
       "      <th>IT.1</th>\n",
       "      <th>RU</th>\n",
       "      <th>TU</th>\n",
       "      <th>US</th>\n",
       "      <th>MX</th>\n",
       "      <th>BR</th>\n",
       "      <th>CA</th>\n",
       "      <th>AS</th>\n",
       "      <th>AD</th>\n",
       "      <th>Unnamed: 25</th>\n",
       "    </tr>\n",
       "  </thead>\n",
       "  <tbody>\n",
       "    <tr>\n",
       "      <th>0</th>\n",
       "      <td>1</td>\n",
       "      <td>Max Verstappen</td>\n",
       "      <td>3955</td>\n",
       "      <td>18</td>\n",
       "      <td>25</td>\n",
       "      <td>18</td>\n",
       "      <td>19</td>\n",
       "      <td>25</td>\n",
       "      <td>RET</td>\n",
       "      <td>26</td>\n",
       "      <td>...</td>\n",
       "      <td>2</td>\n",
       "      <td>18</td>\n",
       "      <td>18</td>\n",
       "      <td>25</td>\n",
       "      <td>25</td>\n",
       "      <td>20</td>\n",
       "      <td>19</td>\n",
       "      <td>18</td>\n",
       "      <td>26</td>\n",
       "      <td>NaN</td>\n",
       "    </tr>\n",
       "    <tr>\n",
       "      <th>1</th>\n",
       "      <td>2</td>\n",
       "      <td>Lewis Hamilton</td>\n",
       "      <td>3875</td>\n",
       "      <td>25</td>\n",
       "      <td>19</td>\n",
       "      <td>25</td>\n",
       "      <td>25</td>\n",
       "      <td>7</td>\n",
       "      <td>15º</td>\n",
       "      <td>18</td>\n",
       "      <td>...</td>\n",
       "      <td>RET</td>\n",
       "      <td>25</td>\n",
       "      <td>10</td>\n",
       "      <td>19</td>\n",
       "      <td>18</td>\n",
       "      <td>25</td>\n",
       "      <td>25</td>\n",
       "      <td>26</td>\n",
       "      <td>18</td>\n",
       "      <td>NaN</td>\n",
       "    </tr>\n",
       "    <tr>\n",
       "      <th>2</th>\n",
       "      <td>3</td>\n",
       "      <td>Valtteri Bottas</td>\n",
       "      <td>226</td>\n",
       "      <td>16</td>\n",
       "      <td>RET</td>\n",
       "      <td>16</td>\n",
       "      <td>15</td>\n",
       "      <td>RET</td>\n",
       "      <td>12º</td>\n",
       "      <td>12</td>\n",
       "      <td>...</td>\n",
       "      <td>18</td>\n",
       "      <td>10</td>\n",
       "      <td>26</td>\n",
       "      <td>8</td>\n",
       "      <td>15º</td>\n",
       "      <td>18</td>\n",
       "      <td>RET</td>\n",
       "      <td>15</td>\n",
       "      <td>8</td>\n",
       "      <td>NaN</td>\n",
       "    </tr>\n",
       "    <tr>\n",
       "      <th>3</th>\n",
       "      <td>4</td>\n",
       "      <td>Sergio Pérez</td>\n",
       "      <td>190</td>\n",
       "      <td>10</td>\n",
       "      <td>11º</td>\n",
       "      <td>12</td>\n",
       "      <td>10</td>\n",
       "      <td>12</td>\n",
       "      <td>25</td>\n",
       "      <td>15</td>\n",
       "      <td>...</td>\n",
       "      <td>10</td>\n",
       "      <td>2</td>\n",
       "      <td>15</td>\n",
       "      <td>15</td>\n",
       "      <td>15</td>\n",
       "      <td>13</td>\n",
       "      <td>12</td>\n",
       "      <td>RET</td>\n",
       "      <td>RET</td>\n",
       "      <td>NaN</td>\n",
       "    </tr>\n",
       "    <tr>\n",
       "      <th>4</th>\n",
       "      <td>5</td>\n",
       "      <td>Carlos Sainz</td>\n",
       "      <td>1645</td>\n",
       "      <td>4</td>\n",
       "      <td>10</td>\n",
       "      <td>11º</td>\n",
       "      <td>6</td>\n",
       "      <td>18</td>\n",
       "      <td>4</td>\n",
       "      <td>11º</td>\n",
       "      <td>...</td>\n",
       "      <td>8</td>\n",
       "      <td>15</td>\n",
       "      <td>4</td>\n",
       "      <td>6</td>\n",
       "      <td>8</td>\n",
       "      <td>9</td>\n",
       "      <td>6</td>\n",
       "      <td>4</td>\n",
       "      <td>15</td>\n",
       "      <td>NaN</td>\n",
       "    </tr>\n",
       "    <tr>\n",
       "      <th>5</th>\n",
       "      <td>6</td>\n",
       "      <td>Lando Norris</td>\n",
       "      <td>160</td>\n",
       "      <td>12</td>\n",
       "      <td>15</td>\n",
       "      <td>10</td>\n",
       "      <td>4</td>\n",
       "      <td>15</td>\n",
       "      <td>10</td>\n",
       "      <td>10</td>\n",
       "      <td>...</td>\n",
       "      <td>18</td>\n",
       "      <td>7</td>\n",
       "      <td>6</td>\n",
       "      <td>4</td>\n",
       "      <td>1</td>\n",
       "      <td>1</td>\n",
       "      <td>2</td>\n",
       "      <td>1</td>\n",
       "      <td>6</td>\n",
       "      <td>NaN</td>\n",
       "    </tr>\n",
       "    <tr>\n",
       "      <th>6</th>\n",
       "      <td>7</td>\n",
       "      <td>Charles Leclerc</td>\n",
       "      <td>159</td>\n",
       "      <td>8</td>\n",
       "      <td>12</td>\n",
       "      <td>8</td>\n",
       "      <td>12</td>\n",
       "      <td>NaN</td>\n",
       "      <td>12</td>\n",
       "      <td>16º</td>\n",
       "      <td>...</td>\n",
       "      <td>12</td>\n",
       "      <td>15º</td>\n",
       "      <td>12</td>\n",
       "      <td>12</td>\n",
       "      <td>10</td>\n",
       "      <td>10</td>\n",
       "      <td>4</td>\n",
       "      <td>6</td>\n",
       "      <td>1</td>\n",
       "      <td>NaN</td>\n",
       "    </tr>\n",
       "    <tr>\n",
       "      <th>7</th>\n",
       "      <td>8</td>\n",
       "      <td>Daniel Ricciardo</td>\n",
       "      <td>115</td>\n",
       "      <td>6</td>\n",
       "      <td>8</td>\n",
       "      <td>2</td>\n",
       "      <td>8</td>\n",
       "      <td>12º</td>\n",
       "      <td>2</td>\n",
       "      <td>8</td>\n",
       "      <td>...</td>\n",
       "      <td>27</td>\n",
       "      <td>12</td>\n",
       "      <td>13º</td>\n",
       "      <td>10</td>\n",
       "      <td>12º</td>\n",
       "      <td>RET</td>\n",
       "      <td>12º</td>\n",
       "      <td>10</td>\n",
       "      <td>12º</td>\n",
       "      <td>NaN</td>\n",
       "    </tr>\n",
       "    <tr>\n",
       "      <th>8</th>\n",
       "      <td>9</td>\n",
       "      <td>Pierre Gasly</td>\n",
       "      <td>110</td>\n",
       "      <td>17º</td>\n",
       "      <td>6</td>\n",
       "      <td>1</td>\n",
       "      <td>1</td>\n",
       "      <td>8</td>\n",
       "      <td>15</td>\n",
       "      <td>6</td>\n",
       "      <td>...</td>\n",
       "      <td>RET</td>\n",
       "      <td>13º</td>\n",
       "      <td>8</td>\n",
       "      <td>RET</td>\n",
       "      <td>12</td>\n",
       "      <td>6</td>\n",
       "      <td>11º</td>\n",
       "      <td>8</td>\n",
       "      <td>10</td>\n",
       "      <td>NaN</td>\n",
       "    </tr>\n",
       "    <tr>\n",
       "      <th>9</th>\n",
       "      <td>10</td>\n",
       "      <td>Fernando Alonso</td>\n",
       "      <td>81</td>\n",
       "      <td>RET</td>\n",
       "      <td>1</td>\n",
       "      <td>4</td>\n",
       "      <td>17º</td>\n",
       "      <td>13º</td>\n",
       "      <td>8</td>\n",
       "      <td>4</td>\n",
       "      <td>...</td>\n",
       "      <td>4</td>\n",
       "      <td>8</td>\n",
       "      <td>16º</td>\n",
       "      <td>RET</td>\n",
       "      <td>2</td>\n",
       "      <td>2</td>\n",
       "      <td>15</td>\n",
       "      <td>13º</td>\n",
       "      <td>4</td>\n",
       "      <td>NaN</td>\n",
       "    </tr>\n",
       "    <tr>\n",
       "      <th>10</th>\n",
       "      <td>11</td>\n",
       "      <td>Esteban Ocon</td>\n",
       "      <td>74</td>\n",
       "      <td>13º</td>\n",
       "      <td>2</td>\n",
       "      <td>6</td>\n",
       "      <td>2</td>\n",
       "      <td>2</td>\n",
       "      <td>RET</td>\n",
       "      <td>14º</td>\n",
       "      <td>...</td>\n",
       "      <td>1</td>\n",
       "      <td>14º</td>\n",
       "      <td>1</td>\n",
       "      <td>RET</td>\n",
       "      <td>13º</td>\n",
       "      <td>4</td>\n",
       "      <td>10</td>\n",
       "      <td>12</td>\n",
       "      <td>2</td>\n",
       "      <td>NaN</td>\n",
       "    </tr>\n",
       "    <tr>\n",
       "      <th>11</th>\n",
       "      <td>12</td>\n",
       "      <td>Sebastian Vettel</td>\n",
       "      <td>43</td>\n",
       "      <td>15º</td>\n",
       "      <td>15º</td>\n",
       "      <td>13º</td>\n",
       "      <td>13º</td>\n",
       "      <td>10</td>\n",
       "      <td>18</td>\n",
       "      <td>2</td>\n",
       "      <td>...</td>\n",
       "      <td>12º</td>\n",
       "      <td>12º</td>\n",
       "      <td>18º</td>\n",
       "      <td>1</td>\n",
       "      <td>6</td>\n",
       "      <td>11º</td>\n",
       "      <td>1</td>\n",
       "      <td>RET</td>\n",
       "      <td>11º</td>\n",
       "      <td>NaN</td>\n",
       "    </tr>\n",
       "    <tr>\n",
       "      <th>12</th>\n",
       "      <td>13</td>\n",
       "      <td>Lance Stroll</td>\n",
       "      <td>34</td>\n",
       "      <td>1</td>\n",
       "      <td>4</td>\n",
       "      <td>14º</td>\n",
       "      <td>11º</td>\n",
       "      <td>4</td>\n",
       "      <td>RET</td>\n",
       "      <td>1</td>\n",
       "      <td>...</td>\n",
       "      <td>6</td>\n",
       "      <td>11º</td>\n",
       "      <td>2</td>\n",
       "      <td>12º</td>\n",
       "      <td>14º</td>\n",
       "      <td>RET</td>\n",
       "      <td>8</td>\n",
       "      <td>11º</td>\n",
       "      <td>13º</td>\n",
       "      <td>NaN</td>\n",
       "    </tr>\n",
       "    <tr>\n",
       "      <th>13</th>\n",
       "      <td>14</td>\n",
       "      <td>Yuki Tsunoda</td>\n",
       "      <td>32</td>\n",
       "      <td>2</td>\n",
       "      <td>12º</td>\n",
       "      <td>15º</td>\n",
       "      <td>RET</td>\n",
       "      <td>16º</td>\n",
       "      <td>6</td>\n",
       "      <td>13º</td>\n",
       "      <td>...</td>\n",
       "      <td>NaN</td>\n",
       "      <td>17º</td>\n",
       "      <td>14º</td>\n",
       "      <td>2</td>\n",
       "      <td>RET</td>\n",
       "      <td>15º</td>\n",
       "      <td>13º</td>\n",
       "      <td>14º</td>\n",
       "      <td>12</td>\n",
       "      <td>NaN</td>\n",
       "    </tr>\n",
       "    <tr>\n",
       "      <th>14</th>\n",
       "      <td>15</td>\n",
       "      <td>George Russell</td>\n",
       "      <td>16</td>\n",
       "      <td>14º</td>\n",
       "      <td>RET</td>\n",
       "      <td>16º</td>\n",
       "      <td>14º</td>\n",
       "      <td>14º</td>\n",
       "      <td>RET</td>\n",
       "      <td>12º</td>\n",
       "      <td>...</td>\n",
       "      <td>2</td>\n",
       "      <td>1</td>\n",
       "      <td>15º</td>\n",
       "      <td>14º</td>\n",
       "      <td>16º</td>\n",
       "      <td>13º</td>\n",
       "      <td>17º</td>\n",
       "      <td>RET</td>\n",
       "      <td>RET</td>\n",
       "      <td>NaN</td>\n",
       "    </tr>\n",
       "    <tr>\n",
       "      <th>15</th>\n",
       "      <td>16</td>\n",
       "      <td>Kimi Räikkönen</td>\n",
       "      <td>10</td>\n",
       "      <td>11º</td>\n",
       "      <td>14º</td>\n",
       "      <td>RET</td>\n",
       "      <td>12º</td>\n",
       "      <td>11º</td>\n",
       "      <td>1</td>\n",
       "      <td>17º</td>\n",
       "      <td>...</td>\n",
       "      <td>NaN</td>\n",
       "      <td>4</td>\n",
       "      <td>12º</td>\n",
       "      <td>13º</td>\n",
       "      <td>4</td>\n",
       "      <td>12º</td>\n",
       "      <td>14º</td>\n",
       "      <td>15º</td>\n",
       "      <td>RET</td>\n",
       "      <td>NaN</td>\n",
       "    </tr>\n",
       "    <tr>\n",
       "      <th>16</th>\n",
       "      <td>17</td>\n",
       "      <td>Nicholas Latifi</td>\n",
       "      <td>7</td>\n",
       "      <td>18º</td>\n",
       "      <td>RET</td>\n",
       "      <td>18º</td>\n",
       "      <td>16º</td>\n",
       "      <td>15º</td>\n",
       "      <td>16º</td>\n",
       "      <td>18º</td>\n",
       "      <td>...</td>\n",
       "      <td>11º</td>\n",
       "      <td>RET</td>\n",
       "      <td>17º</td>\n",
       "      <td>15º</td>\n",
       "      <td>17º</td>\n",
       "      <td>16º</td>\n",
       "      <td>RET</td>\n",
       "      <td>12º</td>\n",
       "      <td>RET</td>\n",
       "      <td>NaN</td>\n",
       "    </tr>\n",
       "    <tr>\n",
       "      <th>17</th>\n",
       "      <td>18</td>\n",
       "      <td>Antonio Giovinazzi</td>\n",
       "      <td>3</td>\n",
       "      <td>12º</td>\n",
       "      <td>13º</td>\n",
       "      <td>12º</td>\n",
       "      <td>15º</td>\n",
       "      <td>1</td>\n",
       "      <td>11º</td>\n",
       "      <td>15º</td>\n",
       "      <td>...</td>\n",
       "      <td>13º</td>\n",
       "      <td>16º</td>\n",
       "      <td>11º</td>\n",
       "      <td>11º</td>\n",
       "      <td>11º</td>\n",
       "      <td>14º</td>\n",
       "      <td>15º</td>\n",
       "      <td>2</td>\n",
       "      <td>RET</td>\n",
       "      <td>NaN</td>\n",
       "    </tr>\n",
       "    <tr>\n",
       "      <th>18</th>\n",
       "      <td>19</td>\n",
       "      <td>Mick Schumacher</td>\n",
       "      <td>0</td>\n",
       "      <td>16º</td>\n",
       "      <td>16º</td>\n",
       "      <td>17º</td>\n",
       "      <td>18º</td>\n",
       "      <td>18º</td>\n",
       "      <td>13º</td>\n",
       "      <td>19º</td>\n",
       "      <td>...</td>\n",
       "      <td>15º</td>\n",
       "      <td>RET</td>\n",
       "      <td>19º</td>\n",
       "      <td>16º</td>\n",
       "      <td>RET</td>\n",
       "      <td>18º</td>\n",
       "      <td>16º</td>\n",
       "      <td>RET</td>\n",
       "      <td>14º</td>\n",
       "      <td>NaN</td>\n",
       "    </tr>\n",
       "    <tr>\n",
       "      <th>19</th>\n",
       "      <td>20</td>\n",
       "      <td>Robert Kubica</td>\n",
       "      <td>0</td>\n",
       "      <td>NaN</td>\n",
       "      <td>NaN</td>\n",
       "      <td>NaN</td>\n",
       "      <td>NaN</td>\n",
       "      <td>NaN</td>\n",
       "      <td>NaN</td>\n",
       "      <td>NaN</td>\n",
       "      <td>...</td>\n",
       "      <td>14º</td>\n",
       "      <td>NaN</td>\n",
       "      <td>NaN</td>\n",
       "      <td>NaN</td>\n",
       "      <td>NaN</td>\n",
       "      <td>NaN</td>\n",
       "      <td>NaN</td>\n",
       "      <td>NaN</td>\n",
       "      <td>NaN</td>\n",
       "      <td>NaN</td>\n",
       "    </tr>\n",
       "    <tr>\n",
       "      <th>20</th>\n",
       "      <td>21</td>\n",
       "      <td>Nikita Mazepin</td>\n",
       "      <td>0</td>\n",
       "      <td>RET</td>\n",
       "      <td>17º</td>\n",
       "      <td>19º</td>\n",
       "      <td>19º</td>\n",
       "      <td>17º</td>\n",
       "      <td>14º</td>\n",
       "      <td>20º</td>\n",
       "      <td>...</td>\n",
       "      <td>RET</td>\n",
       "      <td>18º</td>\n",
       "      <td>20º</td>\n",
       "      <td>17º</td>\n",
       "      <td>18º</td>\n",
       "      <td>17º</td>\n",
       "      <td>18º</td>\n",
       "      <td>RET</td>\n",
       "      <td>NaN</td>\n",
       "      <td>NaN</td>\n",
       "    </tr>\n",
       "  </tbody>\n",
       "</table>\n",
       "<p>21 rows × 26 columns</p>\n",
       "</div>"
      ],
      "text/plain": [
       "     P              Piloto  Puntos   BH   IT   PO   ES   MN   AZ   FR  ...  \\\n",
       "0    1      Max Verstappen    3955   18   25   18   19   25  RET   26  ...   \n",
       "1    2      Lewis Hamilton    3875   25   19   25   25    7  15º   18  ...   \n",
       "2    3     Valtteri Bottas     226   16  RET   16   15  RET  12º   12  ...   \n",
       "3    4        Sergio Pérez     190   10  11º   12   10   12   25   15  ...   \n",
       "4    5        Carlos Sainz    1645    4   10  11º    6   18    4  11º  ...   \n",
       "5    6        Lando Norris     160   12   15   10    4   15   10   10  ...   \n",
       "6    7     Charles Leclerc     159    8   12    8   12  NaN   12  16º  ...   \n",
       "7    8    Daniel Ricciardo     115    6    8    2    8  12º    2    8  ...   \n",
       "8    9        Pierre Gasly     110  17º    6    1    1    8   15    6  ...   \n",
       "9   10     Fernando Alonso      81  RET    1    4  17º  13º    8    4  ...   \n",
       "10  11        Esteban Ocon      74  13º    2    6    2    2  RET  14º  ...   \n",
       "11  12    Sebastian Vettel      43  15º  15º  13º  13º   10   18    2  ...   \n",
       "12  13        Lance Stroll      34    1    4  14º  11º    4  RET    1  ...   \n",
       "13  14        Yuki Tsunoda      32    2  12º  15º  RET  16º    6  13º  ...   \n",
       "14  15      George Russell      16  14º  RET  16º  14º  14º  RET  12º  ...   \n",
       "15  16      Kimi Räikkönen      10  11º  14º  RET  12º  11º    1  17º  ...   \n",
       "16  17     Nicholas Latifi       7  18º  RET  18º  16º  15º  16º  18º  ...   \n",
       "17  18  Antonio Giovinazzi       3  12º  13º  12º  15º    1  11º  15º  ...   \n",
       "18  19     Mick Schumacher       0  16º  16º  17º  18º  18º  13º  19º  ...   \n",
       "19  20       Robert Kubica       0  NaN  NaN  NaN  NaN  NaN  NaN  NaN  ...   \n",
       "20  21      Nikita Mazepin       0  RET  17º  19º  19º  17º  14º  20º  ...   \n",
       "\n",
       "   IT.1   RU   TU   US   MX   BR   CA   AS   AD Unnamed: 25  \n",
       "0     2   18   18   25   25   20   19   18   26         NaN  \n",
       "1   RET   25   10   19   18   25   25   26   18         NaN  \n",
       "2    18   10   26    8  15º   18  RET   15    8         NaN  \n",
       "3    10    2   15   15   15   13   12  RET  RET         NaN  \n",
       "4     8   15    4    6    8    9    6    4   15         NaN  \n",
       "5    18    7    6    4    1    1    2    1    6         NaN  \n",
       "6    12  15º   12   12   10   10    4    6    1         NaN  \n",
       "7    27   12  13º   10  12º  RET  12º   10  12º         NaN  \n",
       "8   RET  13º    8  RET   12    6  11º    8   10         NaN  \n",
       "9     4    8  16º  RET    2    2   15  13º    4         NaN  \n",
       "10    1  14º    1  RET  13º    4   10   12    2         NaN  \n",
       "11  12º  12º  18º    1    6  11º    1  RET  11º         NaN  \n",
       "12    6  11º    2  12º  14º  RET    8  11º  13º         NaN  \n",
       "13  NaN  17º  14º    2  RET  15º  13º  14º   12         NaN  \n",
       "14    2    1  15º  14º  16º  13º  17º  RET  RET         NaN  \n",
       "15  NaN    4  12º  13º    4  12º  14º  15º  RET         NaN  \n",
       "16  11º  RET  17º  15º  17º  16º  RET  12º  RET         NaN  \n",
       "17  13º  16º  11º  11º  11º  14º  15º    2  RET         NaN  \n",
       "18  15º  RET  19º  16º  RET  18º  16º  RET  14º         NaN  \n",
       "19  14º  NaN  NaN  NaN  NaN  NaN  NaN  NaN  NaN         NaN  \n",
       "20  RET  18º  20º  17º  18º  17º  18º  RET  NaN         NaN  \n",
       "\n",
       "[21 rows x 26 columns]"
      ]
     },
     "execution_count": 6,
     "metadata": {},
     "output_type": "execute_result"
    }
   ],
   "source": [
    "pd.read_html('https://soymotor.com/clasificacion-mundial-f1/2021')[0]"
   ]
  },
  {
   "cell_type": "code",
   "execution_count": 1,
   "id": "0728ff44-e7a2-4328-afc1-4d6f78eff6a4",
   "metadata": {},
   "outputs": [
    {
     "data": {
      "text/plain": [
       "'hola'"
      ]
     },
     "execution_count": 1,
     "metadata": {},
     "output_type": "execute_result"
    }
   ],
   "source": [
    "'hola'"
   ]
  },
  {
   "cell_type": "code",
   "execution_count": 2,
   "id": "f65a3c88-b3e4-46b1-91ea-36599a0c4a9f",
   "metadata": {},
   "outputs": [
    {
     "data": {
      "text/plain": [
       "str"
      ]
     },
     "execution_count": 2,
     "metadata": {},
     "output_type": "execute_result"
    }
   ],
   "source": [
    "type('hola')"
   ]
  },
  {
   "cell_type": "code",
   "execution_count": 3,
   "id": "59b080b7-b2d9-4fcf-ab46-230091562fe9",
   "metadata": {},
   "outputs": [
    {
     "data": {
      "text/plain": [
       "list"
      ]
     },
     "execution_count": 3,
     "metadata": {},
     "output_type": "execute_result"
    }
   ],
   "source": [
    "type([])"
   ]
  },
  {
   "cell_type": "code",
   "execution_count": 15,
   "id": "344e5b29-aa2b-42dd-9db1-54924b2a2ce8",
   "metadata": {},
   "outputs": [
    {
     "data": {
      "text/plain": [
       "[     #             Team  Pl   W   D   L   F   A  GD  Pts  Last 6\n",
       " 0    1      Real Madrid  33  24   6   3  69  29  40   78     NaN\n",
       " 1    2        Barcelona  33  18   9   6  61  33  28   63     NaN\n",
       " 2    3          Sevilla  33  17  12   4  49  27  22   63     NaN\n",
       " 3    4  Atletico Madrid  33  18   7   8  59  39  20   61     NaN\n",
       " 4    5       Real Betis  33  17   6  10  56  38  18   57     NaN\n",
       " 5    6    Real Sociedad  33  15  10   8  32  31   1   55     NaN\n",
       " 6    7       Villarreal  33  14  10   9  53  31  22   52     NaN\n",
       " 7    8  Athletic Bilbao  33  12  12   9  39  34   5   48     NaN\n",
       " 8    9          Osasuna  33  12   8  13  34  44 -10   44     NaN\n",
       " 9   10         Valencia  33  10  12  11  44  48  -4   42     NaN\n",
       " 10  11   Rayo Vallecano  33  11   7  15  34  38  -4   40     NaN\n",
       " 11  12       Celta Vigo  33  10   9  14  36  37  -1   39     NaN\n",
       " 12  13         Espanyol  33  10   9  14  37  45  -8   39     NaN\n",
       " 13  14            Elche  33  10   8  15  36  44  -8   38     NaN\n",
       " 14  15           Getafe  33   8  11  14  31  37  -6   35     NaN\n",
       " 15  16    Real Mallorca  33   8   8  17  29  54 -25   32     NaN\n",
       " 16  17            Cadiz  33   6  13  14  29  46 -17   31     NaN\n",
       " 17  18          Granada  33   6  12  15  36  56 -20   30     NaN\n",
       " 18  19          Levante  33   5  10  18  41  65 -24   25     NaN\n",
       " 19  20           Alaves  33   6   7  20  26  55 -29   25     NaN]"
      ]
     },
     "execution_count": 15,
     "metadata": {},
     "output_type": "execute_result"
    }
   ],
   "source": [
    "pd.read_html('https://www.skysports.com/la-liga-table')"
   ]
  },
  {
   "cell_type": "markdown",
   "id": "349ccda8-726c-4c16-9a3b-564819d3c40e",
   "metadata": {},
   "source": [
    "## `integer`"
   ]
  },
  {
   "cell_type": "code",
   "execution_count": null,
   "id": "0cb69030-6107-4684-8a2c-3c199ab92ef2",
   "metadata": {},
   "outputs": [],
   "source": []
  },
  {
   "cell_type": "code",
   "execution_count": null,
   "id": "0d80807d-89b9-4953-8765-b79fd220ff4e",
   "metadata": {},
   "outputs": [],
   "source": []
  },
  {
   "cell_type": "markdown",
   "id": "854c79bb-3c80-49d1-be7b-eabe55bb0764",
   "metadata": {},
   "source": [
    "## `float`"
   ]
  },
  {
   "cell_type": "code",
   "execution_count": null,
   "id": "00c94f31-eb6d-4b49-8edc-83b92d3c1c35",
   "metadata": {},
   "outputs": [],
   "source": []
  },
  {
   "cell_type": "code",
   "execution_count": null,
   "id": "77b1b885-446f-4746-88d4-1913b75928e4",
   "metadata": {},
   "outputs": [],
   "source": []
  },
  {
   "cell_type": "markdown",
   "id": "1bf42dce-8ba7-4e31-bc5f-e7974a7ffb02",
   "metadata": {},
   "source": [
    "## `list`"
   ]
  },
  {
   "cell_type": "code",
   "execution_count": 8,
   "id": "99319fbd-dbfb-47c2-8719-d30d42ddf05d",
   "metadata": {},
   "outputs": [
    {
     "data": {
      "text/plain": [
       "str"
      ]
     },
     "execution_count": 8,
     "metadata": {},
     "output_type": "execute_result"
    }
   ],
   "source": [
    "type('pd')"
   ]
  },
  {
   "cell_type": "code",
   "execution_count": 9,
   "id": "211c7080-2114-4e58-a75c-74314eea2840",
   "metadata": {},
   "outputs": [
    {
     "data": {
      "text/plain": [
       "module"
      ]
     },
     "execution_count": 9,
     "metadata": {},
     "output_type": "execute_result"
    }
   ],
   "source": [
    "type(pd)"
   ]
  },
  {
   "cell_type": "code",
   "execution_count": null,
   "id": "14d10f2a-fc6e-4aac-a020-b3d8b39be6f9",
   "metadata": {},
   "outputs": [],
   "source": [
    "type(df)"
   ]
  },
  {
   "cell_type": "code",
   "execution_count": 16,
   "id": "bd7d2650-a0f3-4f9d-a33d-0e49685c1773",
   "metadata": {},
   "outputs": [
    {
     "data": {
      "text/html": [
       "<div>\n",
       "<style scoped>\n",
       "    .dataframe tbody tr th:only-of-type {\n",
       "        vertical-align: middle;\n",
       "    }\n",
       "\n",
       "    .dataframe tbody tr th {\n",
       "        vertical-align: top;\n",
       "    }\n",
       "\n",
       "    .dataframe thead th {\n",
       "        text-align: right;\n",
       "    }\n",
       "</style>\n",
       "<table border=\"1\" class=\"dataframe\">\n",
       "  <thead>\n",
       "    <tr style=\"text-align: right;\">\n",
       "      <th></th>\n",
       "      <th>#</th>\n",
       "      <th>Team</th>\n",
       "      <th>Pl</th>\n",
       "      <th>W</th>\n",
       "      <th>D</th>\n",
       "      <th>L</th>\n",
       "      <th>F</th>\n",
       "      <th>A</th>\n",
       "      <th>GD</th>\n",
       "      <th>Pts</th>\n",
       "      <th>Last 6</th>\n",
       "    </tr>\n",
       "  </thead>\n",
       "  <tbody>\n",
       "    <tr>\n",
       "      <th>0</th>\n",
       "      <td>1</td>\n",
       "      <td>Real Madrid</td>\n",
       "      <td>33</td>\n",
       "      <td>24</td>\n",
       "      <td>6</td>\n",
       "      <td>3</td>\n",
       "      <td>69</td>\n",
       "      <td>29</td>\n",
       "      <td>40</td>\n",
       "      <td>78</td>\n",
       "      <td>NaN</td>\n",
       "    </tr>\n",
       "    <tr>\n",
       "      <th>1</th>\n",
       "      <td>2</td>\n",
       "      <td>Barcelona</td>\n",
       "      <td>33</td>\n",
       "      <td>18</td>\n",
       "      <td>9</td>\n",
       "      <td>6</td>\n",
       "      <td>61</td>\n",
       "      <td>33</td>\n",
       "      <td>28</td>\n",
       "      <td>63</td>\n",
       "      <td>NaN</td>\n",
       "    </tr>\n",
       "    <tr>\n",
       "      <th>2</th>\n",
       "      <td>3</td>\n",
       "      <td>Sevilla</td>\n",
       "      <td>33</td>\n",
       "      <td>17</td>\n",
       "      <td>12</td>\n",
       "      <td>4</td>\n",
       "      <td>49</td>\n",
       "      <td>27</td>\n",
       "      <td>22</td>\n",
       "      <td>63</td>\n",
       "      <td>NaN</td>\n",
       "    </tr>\n",
       "    <tr>\n",
       "      <th>3</th>\n",
       "      <td>4</td>\n",
       "      <td>Atletico Madrid</td>\n",
       "      <td>33</td>\n",
       "      <td>18</td>\n",
       "      <td>7</td>\n",
       "      <td>8</td>\n",
       "      <td>59</td>\n",
       "      <td>39</td>\n",
       "      <td>20</td>\n",
       "      <td>61</td>\n",
       "      <td>NaN</td>\n",
       "    </tr>\n",
       "    <tr>\n",
       "      <th>4</th>\n",
       "      <td>5</td>\n",
       "      <td>Real Betis</td>\n",
       "      <td>33</td>\n",
       "      <td>17</td>\n",
       "      <td>6</td>\n",
       "      <td>10</td>\n",
       "      <td>56</td>\n",
       "      <td>38</td>\n",
       "      <td>18</td>\n",
       "      <td>57</td>\n",
       "      <td>NaN</td>\n",
       "    </tr>\n",
       "    <tr>\n",
       "      <th>5</th>\n",
       "      <td>6</td>\n",
       "      <td>Real Sociedad</td>\n",
       "      <td>33</td>\n",
       "      <td>15</td>\n",
       "      <td>10</td>\n",
       "      <td>8</td>\n",
       "      <td>32</td>\n",
       "      <td>31</td>\n",
       "      <td>1</td>\n",
       "      <td>55</td>\n",
       "      <td>NaN</td>\n",
       "    </tr>\n",
       "    <tr>\n",
       "      <th>6</th>\n",
       "      <td>7</td>\n",
       "      <td>Villarreal</td>\n",
       "      <td>33</td>\n",
       "      <td>14</td>\n",
       "      <td>10</td>\n",
       "      <td>9</td>\n",
       "      <td>53</td>\n",
       "      <td>31</td>\n",
       "      <td>22</td>\n",
       "      <td>52</td>\n",
       "      <td>NaN</td>\n",
       "    </tr>\n",
       "    <tr>\n",
       "      <th>7</th>\n",
       "      <td>8</td>\n",
       "      <td>Athletic Bilbao</td>\n",
       "      <td>33</td>\n",
       "      <td>12</td>\n",
       "      <td>12</td>\n",
       "      <td>9</td>\n",
       "      <td>39</td>\n",
       "      <td>34</td>\n",
       "      <td>5</td>\n",
       "      <td>48</td>\n",
       "      <td>NaN</td>\n",
       "    </tr>\n",
       "    <tr>\n",
       "      <th>8</th>\n",
       "      <td>9</td>\n",
       "      <td>Osasuna</td>\n",
       "      <td>33</td>\n",
       "      <td>12</td>\n",
       "      <td>8</td>\n",
       "      <td>13</td>\n",
       "      <td>34</td>\n",
       "      <td>44</td>\n",
       "      <td>-10</td>\n",
       "      <td>44</td>\n",
       "      <td>NaN</td>\n",
       "    </tr>\n",
       "    <tr>\n",
       "      <th>9</th>\n",
       "      <td>10</td>\n",
       "      <td>Valencia</td>\n",
       "      <td>33</td>\n",
       "      <td>10</td>\n",
       "      <td>12</td>\n",
       "      <td>11</td>\n",
       "      <td>44</td>\n",
       "      <td>48</td>\n",
       "      <td>-4</td>\n",
       "      <td>42</td>\n",
       "      <td>NaN</td>\n",
       "    </tr>\n",
       "    <tr>\n",
       "      <th>10</th>\n",
       "      <td>11</td>\n",
       "      <td>Rayo Vallecano</td>\n",
       "      <td>33</td>\n",
       "      <td>11</td>\n",
       "      <td>7</td>\n",
       "      <td>15</td>\n",
       "      <td>34</td>\n",
       "      <td>38</td>\n",
       "      <td>-4</td>\n",
       "      <td>40</td>\n",
       "      <td>NaN</td>\n",
       "    </tr>\n",
       "    <tr>\n",
       "      <th>11</th>\n",
       "      <td>12</td>\n",
       "      <td>Celta Vigo</td>\n",
       "      <td>33</td>\n",
       "      <td>10</td>\n",
       "      <td>9</td>\n",
       "      <td>14</td>\n",
       "      <td>36</td>\n",
       "      <td>37</td>\n",
       "      <td>-1</td>\n",
       "      <td>39</td>\n",
       "      <td>NaN</td>\n",
       "    </tr>\n",
       "    <tr>\n",
       "      <th>12</th>\n",
       "      <td>13</td>\n",
       "      <td>Espanyol</td>\n",
       "      <td>33</td>\n",
       "      <td>10</td>\n",
       "      <td>9</td>\n",
       "      <td>14</td>\n",
       "      <td>37</td>\n",
       "      <td>45</td>\n",
       "      <td>-8</td>\n",
       "      <td>39</td>\n",
       "      <td>NaN</td>\n",
       "    </tr>\n",
       "    <tr>\n",
       "      <th>13</th>\n",
       "      <td>14</td>\n",
       "      <td>Elche</td>\n",
       "      <td>33</td>\n",
       "      <td>10</td>\n",
       "      <td>8</td>\n",
       "      <td>15</td>\n",
       "      <td>36</td>\n",
       "      <td>44</td>\n",
       "      <td>-8</td>\n",
       "      <td>38</td>\n",
       "      <td>NaN</td>\n",
       "    </tr>\n",
       "    <tr>\n",
       "      <th>14</th>\n",
       "      <td>15</td>\n",
       "      <td>Getafe</td>\n",
       "      <td>33</td>\n",
       "      <td>8</td>\n",
       "      <td>11</td>\n",
       "      <td>14</td>\n",
       "      <td>31</td>\n",
       "      <td>37</td>\n",
       "      <td>-6</td>\n",
       "      <td>35</td>\n",
       "      <td>NaN</td>\n",
       "    </tr>\n",
       "    <tr>\n",
       "      <th>15</th>\n",
       "      <td>16</td>\n",
       "      <td>Real Mallorca</td>\n",
       "      <td>33</td>\n",
       "      <td>8</td>\n",
       "      <td>8</td>\n",
       "      <td>17</td>\n",
       "      <td>29</td>\n",
       "      <td>54</td>\n",
       "      <td>-25</td>\n",
       "      <td>32</td>\n",
       "      <td>NaN</td>\n",
       "    </tr>\n",
       "    <tr>\n",
       "      <th>16</th>\n",
       "      <td>17</td>\n",
       "      <td>Cadiz</td>\n",
       "      <td>33</td>\n",
       "      <td>6</td>\n",
       "      <td>13</td>\n",
       "      <td>14</td>\n",
       "      <td>29</td>\n",
       "      <td>46</td>\n",
       "      <td>-17</td>\n",
       "      <td>31</td>\n",
       "      <td>NaN</td>\n",
       "    </tr>\n",
       "    <tr>\n",
       "      <th>17</th>\n",
       "      <td>18</td>\n",
       "      <td>Granada</td>\n",
       "      <td>33</td>\n",
       "      <td>6</td>\n",
       "      <td>12</td>\n",
       "      <td>15</td>\n",
       "      <td>36</td>\n",
       "      <td>56</td>\n",
       "      <td>-20</td>\n",
       "      <td>30</td>\n",
       "      <td>NaN</td>\n",
       "    </tr>\n",
       "    <tr>\n",
       "      <th>18</th>\n",
       "      <td>19</td>\n",
       "      <td>Levante</td>\n",
       "      <td>33</td>\n",
       "      <td>5</td>\n",
       "      <td>10</td>\n",
       "      <td>18</td>\n",
       "      <td>41</td>\n",
       "      <td>65</td>\n",
       "      <td>-24</td>\n",
       "      <td>25</td>\n",
       "      <td>NaN</td>\n",
       "    </tr>\n",
       "    <tr>\n",
       "      <th>19</th>\n",
       "      <td>20</td>\n",
       "      <td>Alaves</td>\n",
       "      <td>33</td>\n",
       "      <td>6</td>\n",
       "      <td>7</td>\n",
       "      <td>20</td>\n",
       "      <td>26</td>\n",
       "      <td>55</td>\n",
       "      <td>-29</td>\n",
       "      <td>25</td>\n",
       "      <td>NaN</td>\n",
       "    </tr>\n",
       "  </tbody>\n",
       "</table>\n",
       "</div>"
      ],
      "text/plain": [
       "     #             Team  Pl   W   D   L   F   A  GD  Pts  Last 6\n",
       "0    1      Real Madrid  33  24   6   3  69  29  40   78     NaN\n",
       "1    2        Barcelona  33  18   9   6  61  33  28   63     NaN\n",
       "2    3          Sevilla  33  17  12   4  49  27  22   63     NaN\n",
       "3    4  Atletico Madrid  33  18   7   8  59  39  20   61     NaN\n",
       "4    5       Real Betis  33  17   6  10  56  38  18   57     NaN\n",
       "5    6    Real Sociedad  33  15  10   8  32  31   1   55     NaN\n",
       "6    7       Villarreal  33  14  10   9  53  31  22   52     NaN\n",
       "7    8  Athletic Bilbao  33  12  12   9  39  34   5   48     NaN\n",
       "8    9          Osasuna  33  12   8  13  34  44 -10   44     NaN\n",
       "9   10         Valencia  33  10  12  11  44  48  -4   42     NaN\n",
       "10  11   Rayo Vallecano  33  11   7  15  34  38  -4   40     NaN\n",
       "11  12       Celta Vigo  33  10   9  14  36  37  -1   39     NaN\n",
       "12  13         Espanyol  33  10   9  14  37  45  -8   39     NaN\n",
       "13  14            Elche  33  10   8  15  36  44  -8   38     NaN\n",
       "14  15           Getafe  33   8  11  14  31  37  -6   35     NaN\n",
       "15  16    Real Mallorca  33   8   8  17  29  54 -25   32     NaN\n",
       "16  17            Cadiz  33   6  13  14  29  46 -17   31     NaN\n",
       "17  18          Granada  33   6  12  15  36  56 -20   30     NaN\n",
       "18  19          Levante  33   5  10  18  41  65 -24   25     NaN\n",
       "19  20           Alaves  33   6   7  20  26  55 -29   25     NaN"
      ]
     },
     "execution_count": 16,
     "metadata": {},
     "output_type": "execute_result"
    }
   ],
   "source": [
    "df[0]"
   ]
  },
  {
   "cell_type": "code",
   "execution_count": 17,
   "id": "86865d59-942f-41e5-b3bc-f336c6da5e47",
   "metadata": {},
   "outputs": [],
   "source": [
    "tabla=df[0]"
   ]
  },
  {
   "cell_type": "code",
   "execution_count": 18,
   "id": "90ed433f-74f8-43d1-95a4-7d7c141442f3",
   "metadata": {},
   "outputs": [
    {
     "data": {
      "text/html": [
       "<div>\n",
       "<style scoped>\n",
       "    .dataframe tbody tr th:only-of-type {\n",
       "        vertical-align: middle;\n",
       "    }\n",
       "\n",
       "    .dataframe tbody tr th {\n",
       "        vertical-align: top;\n",
       "    }\n",
       "\n",
       "    .dataframe thead th {\n",
       "        text-align: right;\n",
       "    }\n",
       "</style>\n",
       "<table border=\"1\" class=\"dataframe\">\n",
       "  <thead>\n",
       "    <tr style=\"text-align: right;\">\n",
       "      <th></th>\n",
       "      <th>#</th>\n",
       "      <th>Team</th>\n",
       "      <th>Pl</th>\n",
       "      <th>W</th>\n",
       "      <th>D</th>\n",
       "      <th>L</th>\n",
       "      <th>F</th>\n",
       "      <th>A</th>\n",
       "      <th>GD</th>\n",
       "      <th>Pts</th>\n",
       "      <th>Last 6</th>\n",
       "    </tr>\n",
       "  </thead>\n",
       "  <tbody>\n",
       "    <tr>\n",
       "      <th>0</th>\n",
       "      <td>1</td>\n",
       "      <td>Real Madrid</td>\n",
       "      <td>33</td>\n",
       "      <td>24</td>\n",
       "      <td>6</td>\n",
       "      <td>3</td>\n",
       "      <td>69</td>\n",
       "      <td>29</td>\n",
       "      <td>40</td>\n",
       "      <td>78</td>\n",
       "      <td>NaN</td>\n",
       "    </tr>\n",
       "    <tr>\n",
       "      <th>1</th>\n",
       "      <td>2</td>\n",
       "      <td>Barcelona</td>\n",
       "      <td>33</td>\n",
       "      <td>18</td>\n",
       "      <td>9</td>\n",
       "      <td>6</td>\n",
       "      <td>61</td>\n",
       "      <td>33</td>\n",
       "      <td>28</td>\n",
       "      <td>63</td>\n",
       "      <td>NaN</td>\n",
       "    </tr>\n",
       "    <tr>\n",
       "      <th>2</th>\n",
       "      <td>3</td>\n",
       "      <td>Sevilla</td>\n",
       "      <td>33</td>\n",
       "      <td>17</td>\n",
       "      <td>12</td>\n",
       "      <td>4</td>\n",
       "      <td>49</td>\n",
       "      <td>27</td>\n",
       "      <td>22</td>\n",
       "      <td>63</td>\n",
       "      <td>NaN</td>\n",
       "    </tr>\n",
       "    <tr>\n",
       "      <th>3</th>\n",
       "      <td>4</td>\n",
       "      <td>Atletico Madrid</td>\n",
       "      <td>33</td>\n",
       "      <td>18</td>\n",
       "      <td>7</td>\n",
       "      <td>8</td>\n",
       "      <td>59</td>\n",
       "      <td>39</td>\n",
       "      <td>20</td>\n",
       "      <td>61</td>\n",
       "      <td>NaN</td>\n",
       "    </tr>\n",
       "    <tr>\n",
       "      <th>4</th>\n",
       "      <td>5</td>\n",
       "      <td>Real Betis</td>\n",
       "      <td>33</td>\n",
       "      <td>17</td>\n",
       "      <td>6</td>\n",
       "      <td>10</td>\n",
       "      <td>56</td>\n",
       "      <td>38</td>\n",
       "      <td>18</td>\n",
       "      <td>57</td>\n",
       "      <td>NaN</td>\n",
       "    </tr>\n",
       "    <tr>\n",
       "      <th>5</th>\n",
       "      <td>6</td>\n",
       "      <td>Real Sociedad</td>\n",
       "      <td>33</td>\n",
       "      <td>15</td>\n",
       "      <td>10</td>\n",
       "      <td>8</td>\n",
       "      <td>32</td>\n",
       "      <td>31</td>\n",
       "      <td>1</td>\n",
       "      <td>55</td>\n",
       "      <td>NaN</td>\n",
       "    </tr>\n",
       "    <tr>\n",
       "      <th>6</th>\n",
       "      <td>7</td>\n",
       "      <td>Villarreal</td>\n",
       "      <td>33</td>\n",
       "      <td>14</td>\n",
       "      <td>10</td>\n",
       "      <td>9</td>\n",
       "      <td>53</td>\n",
       "      <td>31</td>\n",
       "      <td>22</td>\n",
       "      <td>52</td>\n",
       "      <td>NaN</td>\n",
       "    </tr>\n",
       "    <tr>\n",
       "      <th>7</th>\n",
       "      <td>8</td>\n",
       "      <td>Athletic Bilbao</td>\n",
       "      <td>33</td>\n",
       "      <td>12</td>\n",
       "      <td>12</td>\n",
       "      <td>9</td>\n",
       "      <td>39</td>\n",
       "      <td>34</td>\n",
       "      <td>5</td>\n",
       "      <td>48</td>\n",
       "      <td>NaN</td>\n",
       "    </tr>\n",
       "    <tr>\n",
       "      <th>8</th>\n",
       "      <td>9</td>\n",
       "      <td>Osasuna</td>\n",
       "      <td>33</td>\n",
       "      <td>12</td>\n",
       "      <td>8</td>\n",
       "      <td>13</td>\n",
       "      <td>34</td>\n",
       "      <td>44</td>\n",
       "      <td>-10</td>\n",
       "      <td>44</td>\n",
       "      <td>NaN</td>\n",
       "    </tr>\n",
       "    <tr>\n",
       "      <th>9</th>\n",
       "      <td>10</td>\n",
       "      <td>Valencia</td>\n",
       "      <td>33</td>\n",
       "      <td>10</td>\n",
       "      <td>12</td>\n",
       "      <td>11</td>\n",
       "      <td>44</td>\n",
       "      <td>48</td>\n",
       "      <td>-4</td>\n",
       "      <td>42</td>\n",
       "      <td>NaN</td>\n",
       "    </tr>\n",
       "    <tr>\n",
       "      <th>10</th>\n",
       "      <td>11</td>\n",
       "      <td>Rayo Vallecano</td>\n",
       "      <td>33</td>\n",
       "      <td>11</td>\n",
       "      <td>7</td>\n",
       "      <td>15</td>\n",
       "      <td>34</td>\n",
       "      <td>38</td>\n",
       "      <td>-4</td>\n",
       "      <td>40</td>\n",
       "      <td>NaN</td>\n",
       "    </tr>\n",
       "    <tr>\n",
       "      <th>11</th>\n",
       "      <td>12</td>\n",
       "      <td>Celta Vigo</td>\n",
       "      <td>33</td>\n",
       "      <td>10</td>\n",
       "      <td>9</td>\n",
       "      <td>14</td>\n",
       "      <td>36</td>\n",
       "      <td>37</td>\n",
       "      <td>-1</td>\n",
       "      <td>39</td>\n",
       "      <td>NaN</td>\n",
       "    </tr>\n",
       "    <tr>\n",
       "      <th>12</th>\n",
       "      <td>13</td>\n",
       "      <td>Espanyol</td>\n",
       "      <td>33</td>\n",
       "      <td>10</td>\n",
       "      <td>9</td>\n",
       "      <td>14</td>\n",
       "      <td>37</td>\n",
       "      <td>45</td>\n",
       "      <td>-8</td>\n",
       "      <td>39</td>\n",
       "      <td>NaN</td>\n",
       "    </tr>\n",
       "    <tr>\n",
       "      <th>13</th>\n",
       "      <td>14</td>\n",
       "      <td>Elche</td>\n",
       "      <td>33</td>\n",
       "      <td>10</td>\n",
       "      <td>8</td>\n",
       "      <td>15</td>\n",
       "      <td>36</td>\n",
       "      <td>44</td>\n",
       "      <td>-8</td>\n",
       "      <td>38</td>\n",
       "      <td>NaN</td>\n",
       "    </tr>\n",
       "    <tr>\n",
       "      <th>14</th>\n",
       "      <td>15</td>\n",
       "      <td>Getafe</td>\n",
       "      <td>33</td>\n",
       "      <td>8</td>\n",
       "      <td>11</td>\n",
       "      <td>14</td>\n",
       "      <td>31</td>\n",
       "      <td>37</td>\n",
       "      <td>-6</td>\n",
       "      <td>35</td>\n",
       "      <td>NaN</td>\n",
       "    </tr>\n",
       "    <tr>\n",
       "      <th>15</th>\n",
       "      <td>16</td>\n",
       "      <td>Real Mallorca</td>\n",
       "      <td>33</td>\n",
       "      <td>8</td>\n",
       "      <td>8</td>\n",
       "      <td>17</td>\n",
       "      <td>29</td>\n",
       "      <td>54</td>\n",
       "      <td>-25</td>\n",
       "      <td>32</td>\n",
       "      <td>NaN</td>\n",
       "    </tr>\n",
       "    <tr>\n",
       "      <th>16</th>\n",
       "      <td>17</td>\n",
       "      <td>Cadiz</td>\n",
       "      <td>33</td>\n",
       "      <td>6</td>\n",
       "      <td>13</td>\n",
       "      <td>14</td>\n",
       "      <td>29</td>\n",
       "      <td>46</td>\n",
       "      <td>-17</td>\n",
       "      <td>31</td>\n",
       "      <td>NaN</td>\n",
       "    </tr>\n",
       "    <tr>\n",
       "      <th>17</th>\n",
       "      <td>18</td>\n",
       "      <td>Granada</td>\n",
       "      <td>33</td>\n",
       "      <td>6</td>\n",
       "      <td>12</td>\n",
       "      <td>15</td>\n",
       "      <td>36</td>\n",
       "      <td>56</td>\n",
       "      <td>-20</td>\n",
       "      <td>30</td>\n",
       "      <td>NaN</td>\n",
       "    </tr>\n",
       "    <tr>\n",
       "      <th>18</th>\n",
       "      <td>19</td>\n",
       "      <td>Levante</td>\n",
       "      <td>33</td>\n",
       "      <td>5</td>\n",
       "      <td>10</td>\n",
       "      <td>18</td>\n",
       "      <td>41</td>\n",
       "      <td>65</td>\n",
       "      <td>-24</td>\n",
       "      <td>25</td>\n",
       "      <td>NaN</td>\n",
       "    </tr>\n",
       "    <tr>\n",
       "      <th>19</th>\n",
       "      <td>20</td>\n",
       "      <td>Alaves</td>\n",
       "      <td>33</td>\n",
       "      <td>6</td>\n",
       "      <td>7</td>\n",
       "      <td>20</td>\n",
       "      <td>26</td>\n",
       "      <td>55</td>\n",
       "      <td>-29</td>\n",
       "      <td>25</td>\n",
       "      <td>NaN</td>\n",
       "    </tr>\n",
       "  </tbody>\n",
       "</table>\n",
       "</div>"
      ],
      "text/plain": [
       "     #             Team  Pl   W   D   L   F   A  GD  Pts  Last 6\n",
       "0    1      Real Madrid  33  24   6   3  69  29  40   78     NaN\n",
       "1    2        Barcelona  33  18   9   6  61  33  28   63     NaN\n",
       "2    3          Sevilla  33  17  12   4  49  27  22   63     NaN\n",
       "3    4  Atletico Madrid  33  18   7   8  59  39  20   61     NaN\n",
       "4    5       Real Betis  33  17   6  10  56  38  18   57     NaN\n",
       "5    6    Real Sociedad  33  15  10   8  32  31   1   55     NaN\n",
       "6    7       Villarreal  33  14  10   9  53  31  22   52     NaN\n",
       "7    8  Athletic Bilbao  33  12  12   9  39  34   5   48     NaN\n",
       "8    9          Osasuna  33  12   8  13  34  44 -10   44     NaN\n",
       "9   10         Valencia  33  10  12  11  44  48  -4   42     NaN\n",
       "10  11   Rayo Vallecano  33  11   7  15  34  38  -4   40     NaN\n",
       "11  12       Celta Vigo  33  10   9  14  36  37  -1   39     NaN\n",
       "12  13         Espanyol  33  10   9  14  37  45  -8   39     NaN\n",
       "13  14            Elche  33  10   8  15  36  44  -8   38     NaN\n",
       "14  15           Getafe  33   8  11  14  31  37  -6   35     NaN\n",
       "15  16    Real Mallorca  33   8   8  17  29  54 -25   32     NaN\n",
       "16  17            Cadiz  33   6  13  14  29  46 -17   31     NaN\n",
       "17  18          Granada  33   6  12  15  36  56 -20   30     NaN\n",
       "18  19          Levante  33   5  10  18  41  65 -24   25     NaN\n",
       "19  20           Alaves  33   6   7  20  26  55 -29   25     NaN"
      ]
     },
     "execution_count": 18,
     "metadata": {},
     "output_type": "execute_result"
    }
   ],
   "source": [
    "tabla"
   ]
  },
  {
   "cell_type": "code",
   "execution_count": 19,
   "id": "02053bbf-a788-4a37-9157-f99ffe13ca4c",
   "metadata": {},
   "outputs": [
    {
     "data": {
      "text/plain": [
       "pandas.core.frame.DataFrame"
      ]
     },
     "execution_count": 19,
     "metadata": {},
     "output_type": "execute_result"
    }
   ],
   "source": [
    "type(tabla)"
   ]
  },
  {
   "cell_type": "code",
   "execution_count": 20,
   "id": "1580d911-291f-4b72-a6bd-196fe99654ba",
   "metadata": {},
   "outputs": [],
   "source": [
    "import matplotlib.pyplot as plt"
   ]
  },
  {
   "cell_type": "markdown",
   "id": "d6ec66aa-f351-41e7-b08c-f860726a3baf",
   "metadata": {},
   "source": [
    "<div class=\"alert alert-info\">\n",
    "    <b>Tip</b>\n",
    "    <br>It isn't necessary to know all the objects.\n",
    "    <br>Rather, how to work with them.\n",
    "</div>"
   ]
  },
  {
   "cell_type": "code",
   "execution_count": 21,
   "id": "d3fa2f97-b2f3-49ee-858d-06bc2b27c785",
   "metadata": {},
   "outputs": [],
   "source": [
    "import plotly.express as px"
   ]
  },
  {
   "cell_type": "code",
   "execution_count": 24,
   "id": "f47b29b2-cc03-4593-b4d9-3474855e2dad",
   "metadata": {},
   "outputs": [
    {
     "data": {
      "text/plain": [
       "<bound method NDFrame.keys of      #             Team  Pl   W   D   L   F   A  GD  Pts  Last 6\n",
       "0    1      Real Madrid  33  24   6   3  69  29  40   78     NaN\n",
       "1    2        Barcelona  33  18   9   6  61  33  28   63     NaN\n",
       "2    3          Sevilla  33  17  12   4  49  27  22   63     NaN\n",
       "3    4  Atletico Madrid  33  18   7   8  59  39  20   61     NaN\n",
       "4    5       Real Betis  33  17   6  10  56  38  18   57     NaN\n",
       "5    6    Real Sociedad  33  15  10   8  32  31   1   55     NaN\n",
       "6    7       Villarreal  33  14  10   9  53  31  22   52     NaN\n",
       "7    8  Athletic Bilbao  33  12  12   9  39  34   5   48     NaN\n",
       "8    9          Osasuna  33  12   8  13  34  44 -10   44     NaN\n",
       "9   10         Valencia  33  10  12  11  44  48  -4   42     NaN\n",
       "10  11   Rayo Vallecano  33  11   7  15  34  38  -4   40     NaN\n",
       "11  12       Celta Vigo  33  10   9  14  36  37  -1   39     NaN\n",
       "12  13         Espanyol  33  10   9  14  37  45  -8   39     NaN\n",
       "13  14            Elche  33  10   8  15  36  44  -8   38     NaN\n",
       "14  15           Getafe  33   8  11  14  31  37  -6   35     NaN\n",
       "15  16    Real Mallorca  33   8   8  17  29  54 -25   32     NaN\n",
       "16  17            Cadiz  33   6  13  14  29  46 -17   31     NaN\n",
       "17  18          Granada  33   6  12  15  36  56 -20   30     NaN\n",
       "18  19          Levante  33   5  10  18  41  65 -24   25     NaN\n",
       "19  20           Alaves  33   6   7  20  26  55 -29   25     NaN>"
      ]
     },
     "execution_count": 24,
     "metadata": {},
     "output_type": "execute_result"
    }
   ],
   "source": [
    "tabla.keys"
   ]
  },
  {
   "cell_type": "code",
   "execution_count": null,
   "id": "83cdd596-08ed-4565-9b5d-c8ea115f2a97",
   "metadata": {},
   "outputs": [],
   "source": []
  },
  {
   "cell_type": "markdown",
   "id": "8ae9eb5a-8556-47ca-b82e-af5a7e1a0707",
   "metadata": {
    "tags": []
   },
   "source": [
    "# The Elements of Python\n",
    "\n",
    "1. `module`: where `functions()` are stored \n",
    "2. `function()`: to execute 100 lines of code automatically (inside the computer)\n",
    "3. `instance`: a data structure"
   ]
  },
  {
   "cell_type": "markdown",
   "id": "571887e9-fb64-4289-8c81-82a67a756583",
   "metadata": {},
   "source": [
    "## Example 1. A Bar Plot"
   ]
  },
  {
   "cell_type": "code",
   "execution_count": 27,
   "id": "94400414-c1f1-4bee-8549-ef7016407c52",
   "metadata": {},
   "outputs": [
    {
     "data": {
      "application/vnd.plotly.v1+json": {
       "config": {
        "plotlyServerURL": "https://plot.ly"
       },
       "data": [
        {
         "alignmentgroup": "True",
         "hovertemplate": "Team=%{x}<br>W=%{y}<extra></extra>",
         "legendgroup": "",
         "marker": {
          "color": "#636efa",
          "pattern": {
           "shape": ""
          }
         },
         "name": "",
         "offsetgroup": "",
         "orientation": "v",
         "showlegend": false,
         "textposition": "auto",
         "type": "bar",
         "x": [
          "Real Madrid",
          "Barcelona",
          "Sevilla",
          "Atletico Madrid",
          "Real Betis",
          "Real Sociedad",
          "Villarreal",
          "Athletic Bilbao",
          "Osasuna",
          "Valencia",
          "Rayo Vallecano",
          "Celta Vigo",
          "Espanyol",
          "Elche",
          "Getafe",
          "Real Mallorca",
          "Cadiz",
          "Granada",
          "Levante",
          "Alaves"
         ],
         "xaxis": "x",
         "y": [
          24,
          18,
          17,
          18,
          17,
          15,
          14,
          12,
          12,
          10,
          11,
          10,
          10,
          10,
          8,
          8,
          6,
          6,
          5,
          6
         ],
         "yaxis": "y"
        }
       ],
       "layout": {
        "autosize": true,
        "barmode": "relative",
        "legend": {
         "tracegroupgap": 0
        },
        "margin": {
         "t": 60
        },
        "template": {
         "data": {
          "bar": [
           {
            "error_x": {
             "color": "#2a3f5f"
            },
            "error_y": {
             "color": "#2a3f5f"
            },
            "marker": {
             "line": {
              "color": "#E5ECF6",
              "width": 0.5
             },
             "pattern": {
              "fillmode": "overlay",
              "size": 10,
              "solidity": 0.2
             }
            },
            "type": "bar"
           }
          ],
          "barpolar": [
           {
            "marker": {
             "line": {
              "color": "#E5ECF6",
              "width": 0.5
             },
             "pattern": {
              "fillmode": "overlay",
              "size": 10,
              "solidity": 0.2
             }
            },
            "type": "barpolar"
           }
          ],
          "carpet": [
           {
            "aaxis": {
             "endlinecolor": "#2a3f5f",
             "gridcolor": "white",
             "linecolor": "white",
             "minorgridcolor": "white",
             "startlinecolor": "#2a3f5f"
            },
            "baxis": {
             "endlinecolor": "#2a3f5f",
             "gridcolor": "white",
             "linecolor": "white",
             "minorgridcolor": "white",
             "startlinecolor": "#2a3f5f"
            },
            "type": "carpet"
           }
          ],
          "choropleth": [
           {
            "colorbar": {
             "outlinewidth": 0,
             "ticks": ""
            },
            "type": "choropleth"
           }
          ],
          "contour": [
           {
            "colorbar": {
             "outlinewidth": 0,
             "ticks": ""
            },
            "colorscale": [
             [
              0,
              "#0d0887"
             ],
             [
              0.1111111111111111,
              "#46039f"
             ],
             [
              0.2222222222222222,
              "#7201a8"
             ],
             [
              0.3333333333333333,
              "#9c179e"
             ],
             [
              0.4444444444444444,
              "#bd3786"
             ],
             [
              0.5555555555555556,
              "#d8576b"
             ],
             [
              0.6666666666666666,
              "#ed7953"
             ],
             [
              0.7777777777777778,
              "#fb9f3a"
             ],
             [
              0.8888888888888888,
              "#fdca26"
             ],
             [
              1,
              "#f0f921"
             ]
            ],
            "type": "contour"
           }
          ],
          "contourcarpet": [
           {
            "colorbar": {
             "outlinewidth": 0,
             "ticks": ""
            },
            "type": "contourcarpet"
           }
          ],
          "heatmap": [
           {
            "colorbar": {
             "outlinewidth": 0,
             "ticks": ""
            },
            "colorscale": [
             [
              0,
              "#0d0887"
             ],
             [
              0.1111111111111111,
              "#46039f"
             ],
             [
              0.2222222222222222,
              "#7201a8"
             ],
             [
              0.3333333333333333,
              "#9c179e"
             ],
             [
              0.4444444444444444,
              "#bd3786"
             ],
             [
              0.5555555555555556,
              "#d8576b"
             ],
             [
              0.6666666666666666,
              "#ed7953"
             ],
             [
              0.7777777777777778,
              "#fb9f3a"
             ],
             [
              0.8888888888888888,
              "#fdca26"
             ],
             [
              1,
              "#f0f921"
             ]
            ],
            "type": "heatmap"
           }
          ],
          "heatmapgl": [
           {
            "colorbar": {
             "outlinewidth": 0,
             "ticks": ""
            },
            "colorscale": [
             [
              0,
              "#0d0887"
             ],
             [
              0.1111111111111111,
              "#46039f"
             ],
             [
              0.2222222222222222,
              "#7201a8"
             ],
             [
              0.3333333333333333,
              "#9c179e"
             ],
             [
              0.4444444444444444,
              "#bd3786"
             ],
             [
              0.5555555555555556,
              "#d8576b"
             ],
             [
              0.6666666666666666,
              "#ed7953"
             ],
             [
              0.7777777777777778,
              "#fb9f3a"
             ],
             [
              0.8888888888888888,
              "#fdca26"
             ],
             [
              1,
              "#f0f921"
             ]
            ],
            "type": "heatmapgl"
           }
          ],
          "histogram": [
           {
            "marker": {
             "pattern": {
              "fillmode": "overlay",
              "size": 10,
              "solidity": 0.2
             }
            },
            "type": "histogram"
           }
          ],
          "histogram2d": [
           {
            "colorbar": {
             "outlinewidth": 0,
             "ticks": ""
            },
            "colorscale": [
             [
              0,
              "#0d0887"
             ],
             [
              0.1111111111111111,
              "#46039f"
             ],
             [
              0.2222222222222222,
              "#7201a8"
             ],
             [
              0.3333333333333333,
              "#9c179e"
             ],
             [
              0.4444444444444444,
              "#bd3786"
             ],
             [
              0.5555555555555556,
              "#d8576b"
             ],
             [
              0.6666666666666666,
              "#ed7953"
             ],
             [
              0.7777777777777778,
              "#fb9f3a"
             ],
             [
              0.8888888888888888,
              "#fdca26"
             ],
             [
              1,
              "#f0f921"
             ]
            ],
            "type": "histogram2d"
           }
          ],
          "histogram2dcontour": [
           {
            "colorbar": {
             "outlinewidth": 0,
             "ticks": ""
            },
            "colorscale": [
             [
              0,
              "#0d0887"
             ],
             [
              0.1111111111111111,
              "#46039f"
             ],
             [
              0.2222222222222222,
              "#7201a8"
             ],
             [
              0.3333333333333333,
              "#9c179e"
             ],
             [
              0.4444444444444444,
              "#bd3786"
             ],
             [
              0.5555555555555556,
              "#d8576b"
             ],
             [
              0.6666666666666666,
              "#ed7953"
             ],
             [
              0.7777777777777778,
              "#fb9f3a"
             ],
             [
              0.8888888888888888,
              "#fdca26"
             ],
             [
              1,
              "#f0f921"
             ]
            ],
            "type": "histogram2dcontour"
           }
          ],
          "mesh3d": [
           {
            "colorbar": {
             "outlinewidth": 0,
             "ticks": ""
            },
            "type": "mesh3d"
           }
          ],
          "parcoords": [
           {
            "line": {
             "colorbar": {
              "outlinewidth": 0,
              "ticks": ""
             }
            },
            "type": "parcoords"
           }
          ],
          "pie": [
           {
            "automargin": true,
            "type": "pie"
           }
          ],
          "scatter": [
           {
            "marker": {
             "colorbar": {
              "outlinewidth": 0,
              "ticks": ""
             }
            },
            "type": "scatter"
           }
          ],
          "scatter3d": [
           {
            "line": {
             "colorbar": {
              "outlinewidth": 0,
              "ticks": ""
             }
            },
            "marker": {
             "colorbar": {
              "outlinewidth": 0,
              "ticks": ""
             }
            },
            "type": "scatter3d"
           }
          ],
          "scattercarpet": [
           {
            "marker": {
             "colorbar": {
              "outlinewidth": 0,
              "ticks": ""
             }
            },
            "type": "scattercarpet"
           }
          ],
          "scattergeo": [
           {
            "marker": {
             "colorbar": {
              "outlinewidth": 0,
              "ticks": ""
             }
            },
            "type": "scattergeo"
           }
          ],
          "scattergl": [
           {
            "marker": {
             "colorbar": {
              "outlinewidth": 0,
              "ticks": ""
             }
            },
            "type": "scattergl"
           }
          ],
          "scattermapbox": [
           {
            "marker": {
             "colorbar": {
              "outlinewidth": 0,
              "ticks": ""
             }
            },
            "type": "scattermapbox"
           }
          ],
          "scatterpolar": [
           {
            "marker": {
             "colorbar": {
              "outlinewidth": 0,
              "ticks": ""
             }
            },
            "type": "scatterpolar"
           }
          ],
          "scatterpolargl": [
           {
            "marker": {
             "colorbar": {
              "outlinewidth": 0,
              "ticks": ""
             }
            },
            "type": "scatterpolargl"
           }
          ],
          "scatterternary": [
           {
            "marker": {
             "colorbar": {
              "outlinewidth": 0,
              "ticks": ""
             }
            },
            "type": "scatterternary"
           }
          ],
          "surface": [
           {
            "colorbar": {
             "outlinewidth": 0,
             "ticks": ""
            },
            "colorscale": [
             [
              0,
              "#0d0887"
             ],
             [
              0.1111111111111111,
              "#46039f"
             ],
             [
              0.2222222222222222,
              "#7201a8"
             ],
             [
              0.3333333333333333,
              "#9c179e"
             ],
             [
              0.4444444444444444,
              "#bd3786"
             ],
             [
              0.5555555555555556,
              "#d8576b"
             ],
             [
              0.6666666666666666,
              "#ed7953"
             ],
             [
              0.7777777777777778,
              "#fb9f3a"
             ],
             [
              0.8888888888888888,
              "#fdca26"
             ],
             [
              1,
              "#f0f921"
             ]
            ],
            "type": "surface"
           }
          ],
          "table": [
           {
            "cells": {
             "fill": {
              "color": "#EBF0F8"
             },
             "line": {
              "color": "white"
             }
            },
            "header": {
             "fill": {
              "color": "#C8D4E3"
             },
             "line": {
              "color": "white"
             }
            },
            "type": "table"
           }
          ]
         },
         "layout": {
          "annotationdefaults": {
           "arrowcolor": "#2a3f5f",
           "arrowhead": 0,
           "arrowwidth": 1
          },
          "autotypenumbers": "strict",
          "coloraxis": {
           "colorbar": {
            "outlinewidth": 0,
            "ticks": ""
           }
          },
          "colorscale": {
           "diverging": [
            [
             0,
             "#8e0152"
            ],
            [
             0.1,
             "#c51b7d"
            ],
            [
             0.2,
             "#de77ae"
            ],
            [
             0.3,
             "#f1b6da"
            ],
            [
             0.4,
             "#fde0ef"
            ],
            [
             0.5,
             "#f7f7f7"
            ],
            [
             0.6,
             "#e6f5d0"
            ],
            [
             0.7,
             "#b8e186"
            ],
            [
             0.8,
             "#7fbc41"
            ],
            [
             0.9,
             "#4d9221"
            ],
            [
             1,
             "#276419"
            ]
           ],
           "sequential": [
            [
             0,
             "#0d0887"
            ],
            [
             0.1111111111111111,
             "#46039f"
            ],
            [
             0.2222222222222222,
             "#7201a8"
            ],
            [
             0.3333333333333333,
             "#9c179e"
            ],
            [
             0.4444444444444444,
             "#bd3786"
            ],
            [
             0.5555555555555556,
             "#d8576b"
            ],
            [
             0.6666666666666666,
             "#ed7953"
            ],
            [
             0.7777777777777778,
             "#fb9f3a"
            ],
            [
             0.8888888888888888,
             "#fdca26"
            ],
            [
             1,
             "#f0f921"
            ]
           ],
           "sequentialminus": [
            [
             0,
             "#0d0887"
            ],
            [
             0.1111111111111111,
             "#46039f"
            ],
            [
             0.2222222222222222,
             "#7201a8"
            ],
            [
             0.3333333333333333,
             "#9c179e"
            ],
            [
             0.4444444444444444,
             "#bd3786"
            ],
            [
             0.5555555555555556,
             "#d8576b"
            ],
            [
             0.6666666666666666,
             "#ed7953"
            ],
            [
             0.7777777777777778,
             "#fb9f3a"
            ],
            [
             0.8888888888888888,
             "#fdca26"
            ],
            [
             1,
             "#f0f921"
            ]
           ]
          },
          "colorway": [
           "#636efa",
           "#EF553B",
           "#00cc96",
           "#ab63fa",
           "#FFA15A",
           "#19d3f3",
           "#FF6692",
           "#B6E880",
           "#FF97FF",
           "#FECB52"
          ],
          "font": {
           "color": "#2a3f5f"
          },
          "geo": {
           "bgcolor": "white",
           "lakecolor": "white",
           "landcolor": "#E5ECF6",
           "showlakes": true,
           "showland": true,
           "subunitcolor": "white"
          },
          "hoverlabel": {
           "align": "left"
          },
          "hovermode": "closest",
          "mapbox": {
           "style": "light"
          },
          "paper_bgcolor": "white",
          "plot_bgcolor": "#E5ECF6",
          "polar": {
           "angularaxis": {
            "gridcolor": "white",
            "linecolor": "white",
            "ticks": ""
           },
           "bgcolor": "#E5ECF6",
           "radialaxis": {
            "gridcolor": "white",
            "linecolor": "white",
            "ticks": ""
           }
          },
          "scene": {
           "xaxis": {
            "backgroundcolor": "#E5ECF6",
            "gridcolor": "white",
            "gridwidth": 2,
            "linecolor": "white",
            "showbackground": true,
            "ticks": "",
            "zerolinecolor": "white"
           },
           "yaxis": {
            "backgroundcolor": "#E5ECF6",
            "gridcolor": "white",
            "gridwidth": 2,
            "linecolor": "white",
            "showbackground": true,
            "ticks": "",
            "zerolinecolor": "white"
           },
           "zaxis": {
            "backgroundcolor": "#E5ECF6",
            "gridcolor": "white",
            "gridwidth": 2,
            "linecolor": "white",
            "showbackground": true,
            "ticks": "",
            "zerolinecolor": "white"
           }
          },
          "shapedefaults": {
           "line": {
            "color": "#2a3f5f"
           }
          },
          "ternary": {
           "aaxis": {
            "gridcolor": "white",
            "linecolor": "white",
            "ticks": ""
           },
           "baxis": {
            "gridcolor": "white",
            "linecolor": "white",
            "ticks": ""
           },
           "bgcolor": "#E5ECF6",
           "caxis": {
            "gridcolor": "white",
            "linecolor": "white",
            "ticks": ""
           }
          },
          "title": {
           "x": 0.05
          },
          "xaxis": {
           "automargin": true,
           "gridcolor": "white",
           "linecolor": "white",
           "ticks": "",
           "title": {
            "standoff": 15
           },
           "zerolinecolor": "white",
           "zerolinewidth": 2
          },
          "yaxis": {
           "automargin": true,
           "gridcolor": "white",
           "linecolor": "white",
           "ticks": "",
           "title": {
            "standoff": 15
           },
           "zerolinecolor": "white",
           "zerolinewidth": 2
          }
         }
        },
        "xaxis": {
         "anchor": "y",
         "autorange": true,
         "domain": [
          0,
          1
         ],
         "range": [
          -0.5,
          19.5
         ],
         "title": {
          "text": "Team"
         },
         "type": "category"
        },
        "yaxis": {
         "anchor": "x",
         "autorange": true,
         "domain": [
          0,
          1
         ],
         "range": [
          0,
          25.263157894736842
         ],
         "title": {
          "text": "W"
         },
         "type": "linear"
        }
       }
      },
      "image/png": "[encoded data removed]",
      "text/html": [
       "<div>                            <div id=\"1c7c1f1d-8d7f-4e06-a089-c0e42fdf7e98\" class=\"plotly-graph-div\" style=\"height:525px; width:100%;\"></div>            <script type=\"text/javascript\">                require([\"plotly\"], function(Plotly) {                    window.PLOTLYENV=window.PLOTLYENV || {};                                    if (document.getElementById(\"1c7c1f1d-8d7f-4e06-a089-c0e42fdf7e98\")) {                    Plotly.newPlot(                        \"1c7c1f1d-8d7f-4e06-a089-c0e42fdf7e98\",                        [{\"alignmentgroup\":\"True\",\"hovertemplate\":\"Team=%{x}<br>W=%{y}<extra></extra>\",\"legendgroup\":\"\",\"marker\":{\"color\":\"#636efa\",\"pattern\":{\"shape\":\"\"}},\"name\":\"\",\"offsetgroup\":\"\",\"orientation\":\"v\",\"showlegend\":false,\"textposition\":\"auto\",\"x\":[\"Real Madrid\",\"Barcelona\",\"Sevilla\",\"Atletico Madrid\",\"Real Betis\",\"Real Sociedad\",\"Villarreal\",\"Athletic Bilbao\",\"Osasuna\",\"Valencia\",\"Rayo Vallecano\",\"Celta Vigo\",\"Espanyol\",\"Elche\",\"Getafe\",\"Real Mallorca\",\"Cadiz\",\"Granada\",\"Levante\",\"Alaves\"],\"xaxis\":\"x\",\"y\":[24,18,17,18,17,15,14,12,12,10,11,10,10,10,8,8,6,6,5,6],\"yaxis\":\"y\",\"type\":\"bar\"}],                        {\"template\":{\"data\":{\"bar\":[{\"error_x\":{\"color\":\"#2a3f5f\"},\"error_y\":{\"color\":\"#2a3f5f\"},\"marker\":{\"line\":{\"color\":\"#E5ECF6\",\"width\":0.5},\"pattern\":{\"fillmode\":\"overlay\",\"size\":10,\"solidity\":0.2}},\"type\":\"bar\"}],\"barpolar\":[{\"marker\":{\"line\":{\"color\":\"#E5ECF6\",\"width\":0.5},\"pattern\":{\"fillmode\":\"overlay\",\"size\":10,\"solidity\":0.2}},\"type\":\"barpolar\"}],\"carpet\":[{\"aaxis\":{\"endlinecolor\":\"#2a3f5f\",\"gridcolor\":\"white\",\"linecolor\":\"white\",\"minorgridcolor\":\"white\",\"startlinecolor\":\"#2a3f5f\"},\"baxis\":{\"endlinecolor\":\"#2a3f5f\",\"gridcolor\":\"white\",\"linecolor\":\"white\",\"minorgridcolor\":\"white\",\"startlinecolor\":\"#2a3f5f\"},\"type\":\"carpet\"}],\"choropleth\":[{\"colorbar\":{\"outlinewidth\":0,\"ticks\":\"\"},\"type\":\"choropleth\"}],\"contour\":[{\"colorbar\":{\"outlinewidth\":0,\"ticks\":\"\"},\"colorscale\":[[0.0,\"#0d0887\"],[0.1111111111111111,\"#46039f\"],[0.2222222222222222,\"#7201a8\"],[0.3333333333333333,\"#9c179e\"],[0.4444444444444444,\"#bd3786\"],[0.5555555555555556,\"#d8576b\"],[0.6666666666666666,\"#ed7953\"],[0.7777777777777778,\"#fb9f3a\"],[0.8888888888888888,\"#fdca26\"],[1.0,\"#f0f921\"]],\"type\":\"contour\"}],\"contourcarpet\":[{\"colorbar\":{\"outlinewidth\":0,\"ticks\":\"\"},\"type\":\"contourcarpet\"}],\"heatmap\":[{\"colorbar\":{\"outlinewidth\":0,\"ticks\":\"\"},\"colorscale\":[[0.0,\"#0d0887\"],[0.1111111111111111,\"#46039f\"],[0.2222222222222222,\"#7201a8\"],[0.3333333333333333,\"#9c179e\"],[0.4444444444444444,\"#bd3786\"],[0.5555555555555556,\"#d8576b\"],[0.6666666666666666,\"#ed7953\"],[0.7777777777777778,\"#fb9f3a\"],[0.8888888888888888,\"#fdca26\"],[1.0,\"#f0f921\"]],\"type\":\"heatmap\"}],\"heatmapgl\":[{\"colorbar\":{\"outlinewidth\":0,\"ticks\":\"\"},\"colorscale\":[[0.0,\"#0d0887\"],[0.1111111111111111,\"#46039f\"],[0.2222222222222222,\"#7201a8\"],[0.3333333333333333,\"#9c179e\"],[0.4444444444444444,\"#bd3786\"],[0.5555555555555556,\"#d8576b\"],[0.6666666666666666,\"#ed7953\"],[0.7777777777777778,\"#fb9f3a\"],[0.8888888888888888,\"#fdca26\"],[1.0,\"#f0f921\"]],\"type\":\"heatmapgl\"}],\"histogram\":[{\"marker\":{\"pattern\":{\"fillmode\":\"overlay\",\"size\":10,\"solidity\":0.2}},\"type\":\"histogram\"}],\"histogram2d\":[{\"colorbar\":{\"outlinewidth\":0,\"ticks\":\"\"},\"colorscale\":[[0.0,\"#0d0887\"],[0.1111111111111111,\"#46039f\"],[0.2222222222222222,\"#7201a8\"],[0.3333333333333333,\"#9c179e\"],[0.4444444444444444,\"#bd3786\"],[0.5555555555555556,\"#d8576b\"],[0.6666666666666666,\"#ed7953\"],[0.7777777777777778,\"#fb9f3a\"],[0.8888888888888888,\"#fdca26\"],[1.0,\"#f0f921\"]],\"type\":\"histogram2d\"}],\"histogram2dcontour\":[{\"colorbar\":{\"outlinewidth\":0,\"ticks\":\"\"},\"colorscale\":[[0.0,\"#0d0887\"],[0.1111111111111111,\"#46039f\"],[0.2222222222222222,\"#7201a8\"],[0.3333333333333333,\"#9c179e\"],[0.4444444444444444,\"#bd3786\"],[0.5555555555555556,\"#d8576b\"],[0.6666666666666666,\"#ed7953\"],[0.7777777777777778,\"#fb9f3a\"],[0.8888888888888888,\"#fdca26\"],[1.0,\"#f0f921\"]],\"type\":\"histogram2dcontour\"}],\"mesh3d\":[{\"colorbar\":{\"outlinewidth\":0,\"ticks\":\"\"},\"type\":\"mesh3d\"}],\"parcoords\":[{\"line\":{\"colorbar\":{\"outlinewidth\":0,\"ticks\":\"\"}},\"type\":\"parcoords\"}],\"pie\":[{\"automargin\":true,\"type\":\"pie\"}],\"scatter\":[{\"marker\":{\"colorbar\":{\"outlinewidth\":0,\"ticks\":\"\"}},\"type\":\"scatter\"}],\"scatter3d\":[{\"line\":{\"colorbar\":{\"outlinewidth\":0,\"ticks\":\"\"}},\"marker\":{\"colorbar\":{\"outlinewidth\":0,\"ticks\":\"\"}},\"type\":\"scatter3d\"}],\"scattercarpet\":[{\"marker\":{\"colorbar\":{\"outlinewidth\":0,\"ticks\":\"\"}},\"type\":\"scattercarpet\"}],\"scattergeo\":[{\"marker\":{\"colorbar\":{\"outlinewidth\":0,\"ticks\":\"\"}},\"type\":\"scattergeo\"}],\"scattergl\":[{\"marker\":{\"colorbar\":{\"outlinewidth\":0,\"ticks\":\"\"}},\"type\":\"scattergl\"}],\"scattermapbox\":[{\"marker\":{\"colorbar\":{\"outlinewidth\":0,\"ticks\":\"\"}},\"type\":\"scattermapbox\"}],\"scatterpolar\":[{\"marker\":{\"colorbar\":{\"outlinewidth\":0,\"ticks\":\"\"}},\"type\":\"scatterpolar\"}],\"scatterpolargl\":[{\"marker\":{\"colorbar\":{\"outlinewidth\":0,\"ticks\":\"\"}},\"type\":\"scatterpolargl\"}],\"scatterternary\":[{\"marker\":{\"colorbar\":{\"outlinewidth\":0,\"ticks\":\"\"}},\"type\":\"scatterternary\"}],\"surface\":[{\"colorbar\":{\"outlinewidth\":0,\"ticks\":\"\"},\"colorscale\":[[0.0,\"#0d0887\"],[0.1111111111111111,\"#46039f\"],[0.2222222222222222,\"#7201a8\"],[0.3333333333333333,\"#9c179e\"],[0.4444444444444444,\"#bd3786\"],[0.5555555555555556,\"#d8576b\"],[0.6666666666666666,\"#ed7953\"],[0.7777777777777778,\"#fb9f3a\"],[0.8888888888888888,\"#fdca26\"],[1.0,\"#f0f921\"]],\"type\":\"surface\"}],\"table\":[{\"cells\":{\"fill\":{\"color\":\"#EBF0F8\"},\"line\":{\"color\":\"white\"}},\"header\":{\"fill\":{\"color\":\"#C8D4E3\"},\"line\":{\"color\":\"white\"}},\"type\":\"table\"}]},\"layout\":{\"annotationdefaults\":{\"arrowcolor\":\"#2a3f5f\",\"arrowhead\":0,\"arrowwidth\":1},\"autotypenumbers\":\"strict\",\"coloraxis\":{\"colorbar\":{\"outlinewidth\":0,\"ticks\":\"\"}},\"colorscale\":{\"diverging\":[[0,\"#8e0152\"],[0.1,\"#c51b7d\"],[0.2,\"#de77ae\"],[0.3,\"#f1b6da\"],[0.4,\"#fde0ef\"],[0.5,\"#f7f7f7\"],[0.6,\"#e6f5d0\"],[0.7,\"#b8e186\"],[0.8,\"#7fbc41\"],[0.9,\"#4d9221\"],[1,\"#276419\"]],\"sequential\":[[0.0,\"#0d0887\"],[0.1111111111111111,\"#46039f\"],[0.2222222222222222,\"#7201a8\"],[0.3333333333333333,\"#9c179e\"],[0.4444444444444444,\"#bd3786\"],[0.5555555555555556,\"#d8576b\"],[0.6666666666666666,\"#ed7953\"],[0.7777777777777778,\"#fb9f3a\"],[0.8888888888888888,\"#fdca26\"],[1.0,\"#f0f921\"]],\"sequentialminus\":[[0.0,\"#0d0887\"],[0.1111111111111111,\"#46039f\"],[0.2222222222222222,\"#7201a8\"],[0.3333333333333333,\"#9c179e\"],[0.4444444444444444,\"#bd3786\"],[0.5555555555555556,\"#d8576b\"],[0.6666666666666666,\"#ed7953\"],[0.7777777777777778,\"#fb9f3a\"],[0.8888888888888888,\"#fdca26\"],[1.0,\"#f0f921\"]]},\"colorway\":[\"#636efa\",\"#EF553B\",\"#00cc96\",\"#ab63fa\",\"#FFA15A\",\"#19d3f3\",\"#FF6692\",\"#B6E880\",\"#FF97FF\",\"#FECB52\"],\"font\":{\"color\":\"#2a3f5f\"},\"geo\":{\"bgcolor\":\"white\",\"lakecolor\":\"white\",\"landcolor\":\"#E5ECF6\",\"showlakes\":true,\"showland\":true,\"subunitcolor\":\"white\"},\"hoverlabel\":{\"align\":\"left\"},\"hovermode\":\"closest\",\"mapbox\":{\"style\":\"light\"},\"paper_bgcolor\":\"white\",\"plot_bgcolor\":\"#E5ECF6\",\"polar\":{\"angularaxis\":{\"gridcolor\":\"white\",\"linecolor\":\"white\",\"ticks\":\"\"},\"bgcolor\":\"#E5ECF6\",\"radialaxis\":{\"gridcolor\":\"white\",\"linecolor\":\"white\",\"ticks\":\"\"}},\"scene\":{\"xaxis\":{\"backgroundcolor\":\"#E5ECF6\",\"gridcolor\":\"white\",\"gridwidth\":2,\"linecolor\":\"white\",\"showbackground\":true,\"ticks\":\"\",\"zerolinecolor\":\"white\"},\"yaxis\":{\"backgroundcolor\":\"#E5ECF6\",\"gridcolor\":\"white\",\"gridwidth\":2,\"linecolor\":\"white\",\"showbackground\":true,\"ticks\":\"\",\"zerolinecolor\":\"white\"},\"zaxis\":{\"backgroundcolor\":\"#E5ECF6\",\"gridcolor\":\"white\",\"gridwidth\":2,\"linecolor\":\"white\",\"showbackground\":true,\"ticks\":\"\",\"zerolinecolor\":\"white\"}},\"shapedefaults\":{\"line\":{\"color\":\"#2a3f5f\"}},\"ternary\":{\"aaxis\":{\"gridcolor\":\"white\",\"linecolor\":\"white\",\"ticks\":\"\"},\"baxis\":{\"gridcolor\":\"white\",\"linecolor\":\"white\",\"ticks\":\"\"},\"bgcolor\":\"#E5ECF6\",\"caxis\":{\"gridcolor\":\"white\",\"linecolor\":\"white\",\"ticks\":\"\"}},\"title\":{\"x\":0.05},\"xaxis\":{\"automargin\":true,\"gridcolor\":\"white\",\"linecolor\":\"white\",\"ticks\":\"\",\"title\":{\"standoff\":15},\"zerolinecolor\":\"white\",\"zerolinewidth\":2},\"yaxis\":{\"automargin\":true,\"gridcolor\":\"white\",\"linecolor\":\"white\",\"ticks\":\"\",\"title\":{\"standoff\":15},\"zerolinecolor\":\"white\",\"zerolinewidth\":2}}},\"xaxis\":{\"anchor\":\"y\",\"domain\":[0.0,1.0],\"title\":{\"text\":\"Team\"}},\"yaxis\":{\"anchor\":\"x\",\"domain\":[0.0,1.0],\"title\":{\"text\":\"W\"}},\"legend\":{\"tracegroupgap\":0},\"margin\":{\"t\":60},\"barmode\":\"relative\"},                        {\"responsive\": true}                    ).then(function(){\n",
       "                            \n",
       "var gd = document.getElementById('1c7c1f1d-8d7f-4e06-a089-c0e42fdf7e98');\n",
       "var x = new MutationObserver(function (mutations, observer) {{\n",
       "        var display = window.getComputedStyle(gd).display;\n",
       "        if (!display || display === 'none') {{\n",
       "            console.log([gd, 'removed!']);\n",
       "            Plotly.purge(gd);\n",
       "            observer.disconnect();\n",
       "        }}\n",
       "}});\n",
       "\n",
       "// Listen for the removal of the full notebook cells\n",
       "var notebookContainer = gd.closest('#notebook-container');\n",
       "if (notebookContainer) {{\n",
       "    x.observe(notebookContainer, {childList: true});\n",
       "}}\n",
       "\n",
       "// Listen for the clearing of the current output cell\n",
       "var outputEl = gd.closest('.output');\n",
       "if (outputEl) {{\n",
       "    x.observe(outputEl, {childList: true});\n",
       "}}\n",
       "\n",
       "                        })                };                });            </script>        </div>"
      ]
     },
     "metadata": {},
     "output_type": "display_data"
    }
   ],
   "source": [
    "px.bar(tabla,x='Team',y='W')"
   ]
  },
  {
   "cell_type": "code",
   "execution_count": 28,
   "id": "67894a05-d65e-49c0-bef4-9ae773787ba5",
   "metadata": {},
   "outputs": [
    {
     "data": {
      "text/plain": [
       "<bound method NDFrame._add_numeric_operations.<locals>.sum of      #             Team  Pl   W   D   L   F   A  GD  Pts  Last 6\n",
       "0    1      Real Madrid  33  24   6   3  69  29  40   78     NaN\n",
       "1    2        Barcelona  33  18   9   6  61  33  28   63     NaN\n",
       "2    3          Sevilla  33  17  12   4  49  27  22   63     NaN\n",
       "3    4  Atletico Madrid  33  18   7   8  59  39  20   61     NaN\n",
       "4    5       Real Betis  33  17   6  10  56  38  18   57     NaN\n",
       "5    6    Real Sociedad  33  15  10   8  32  31   1   55     NaN\n",
       "6    7       Villarreal  33  14  10   9  53  31  22   52     NaN\n",
       "7    8  Athletic Bilbao  33  12  12   9  39  34   5   48     NaN\n",
       "8    9          Osasuna  33  12   8  13  34  44 -10   44     NaN\n",
       "9   10         Valencia  33  10  12  11  44  48  -4   42     NaN\n",
       "10  11   Rayo Vallecano  33  11   7  15  34  38  -4   40     NaN\n",
       "11  12       Celta Vigo  33  10   9  14  36  37  -1   39     NaN\n",
       "12  13         Espanyol  33  10   9  14  37  45  -8   39     NaN\n",
       "13  14            Elche  33  10   8  15  36  44  -8   38     NaN\n",
       "14  15           Getafe  33   8  11  14  31  37  -6   35     NaN\n",
       "15  16    Real Mallorca  33   8   8  17  29  54 -25   32     NaN\n",
       "16  17            Cadiz  33   6  13  14  29  46 -17   31     NaN\n",
       "17  18          Granada  33   6  12  15  36  56 -20   30     NaN\n",
       "18  19          Levante  33   5  10  18  41  65 -24   25     NaN\n",
       "19  20           Alaves  33   6   7  20  26  55 -29   25     NaN>"
      ]
     },
     "execution_count": 28,
     "metadata": {},
     "output_type": "execute_result"
    }
   ],
   "source": [
    "tabla.sum"
   ]
  },
  {
   "cell_type": "markdown",
   "id": "0b240805-36ea-4ed9-8e47-122f2f5797e4",
   "metadata": {},
   "source": [
    "`~/miniforge3/lib/python3.9/site-packages/plotly/express/_chart_types.py`"
   ]
  },
  {
   "cell_type": "code",
   "execution_count": 29,
   "id": "928dcec8-befc-4a57-982e-72059ad197f7",
   "metadata": {},
   "outputs": [],
   "source": [
    "import numpy as np"
   ]
  },
  {
   "cell_type": "code",
   "execution_count": null,
   "id": "d02f0c76-56b1-4e1b-b7c2-2398599ffa3d",
   "metadata": {},
   "outputs": [],
   "source": []
  },
  {
   "cell_type": "markdown",
   "id": "50e3313d-3825-4400-b1b0-bb8474cb6031",
   "metadata": {},
   "source": [
    "### `instance`"
   ]
  },
  {
   "cell_type": "markdown",
   "id": "f93491c7-bf2c-423c-a282-e4711e9aa596",
   "metadata": {},
   "source": [
    "module=librería"
   ]
  },
  {
   "cell_type": "markdown",
   "id": "c79540f2-1cf9-4967-bb6b-b7a96bde5ca6",
   "metadata": {},
   "source": [
    "hay que importar cada librería al inicio o durante el código para poder usarla"
   ]
  },
  {
   "cell_type": "markdown",
   "id": "513cd471-b489-4440-bce6-c104d4138699",
   "metadata": {},
   "source": [
    "instances=variables"
   ]
  },
  {
   "cell_type": "markdown",
   "id": "720b3bf3-c3aa-4d1f-8673-ceb21ac33575",
   "metadata": {},
   "source": [
    "functions=funciones"
   ]
  },
  {
   "cell_type": "markdown",
   "id": "b65f555b-efa7-422e-af27-217a03b7cf03",
   "metadata": {},
   "source": [
    "markdown=comentarios"
   ]
  },
  {
   "cell_type": "markdown",
   "id": "cb418700-63ef-45a4-b637-8fd041c04cf9",
   "metadata": {},
   "source": [
    "markdown + una almohadilla=título grande (4)"
   ]
  },
  {
   "cell_type": "markdown",
   "id": "dc3bbbee-02b1-4f64-bcc5-538a7ab1ec6b",
   "metadata": {},
   "source": [
    "markdown + dos almohadillas= título pequeño(4.1)"
   ]
  },
  {
   "cell_type": "code",
   "execution_count": null,
   "id": "89e6e556-53f8-4391-9d4c-c7cf3a7534e0",
   "metadata": {},
   "outputs": [],
   "source": []
  },
  {
   "cell_type": "markdown",
   "id": "321395e2-89fd-472c-ae04-3c65844ddaaa",
   "metadata": {},
   "source": [
    "### `module`"
   ]
  },
  {
   "cell_type": "code",
   "execution_count": null,
   "id": "195fbc05-8514-44fd-b0de-eacfe4ca52d5",
   "metadata": {},
   "outputs": [],
   "source": []
  },
  {
   "cell_type": "markdown",
   "id": "5db62dbb-e07b-4581-ae74-f1773fc50569",
   "metadata": {},
   "source": [
    "### `function`"
   ]
  },
  {
   "cell_type": "code",
   "execution_count": null,
   "id": "5ad2c675-135d-43d9-9e5c-e0bcbe42ebaf",
   "metadata": {},
   "outputs": [],
   "source": []
  },
  {
   "cell_type": "markdown",
   "id": "57997529-ed69-4a99-a31c-a78be97cde19",
   "metadata": {},
   "source": [
    "## Example 2. Read Table from URL"
   ]
  },
  {
   "cell_type": "markdown",
   "id": "4503f689-8aa9-4b96-b294-c7dbfb61ad6e",
   "metadata": {},
   "source": [
    "### `module`"
   ]
  },
  {
   "cell_type": "code",
   "execution_count": null,
   "id": "3a620c60-4369-4360-9297-54ee0e1b381c",
   "metadata": {},
   "outputs": [],
   "source": []
  },
  {
   "cell_type": "code",
   "execution_count": null,
   "id": "a8478b41-a7b2-409d-86d0-5581e7b23542",
   "metadata": {},
   "outputs": [],
   "source": []
  },
  {
   "cell_type": "markdown",
   "id": "ff13a470-443b-43ae-af92-07ff559c5a7d",
   "metadata": {},
   "source": [
    "### `instance`"
   ]
  },
  {
   "cell_type": "code",
   "execution_count": null,
   "id": "59f85c4c-ed1d-4048-a6c5-3bb6db153748",
   "metadata": {},
   "outputs": [],
   "source": []
  },
  {
   "cell_type": "markdown",
   "id": "f503e379-8491-4f03-a243-1990137173aa",
   "metadata": {},
   "source": [
    "### `function`"
   ]
  },
  {
   "cell_type": "code",
   "execution_count": null,
   "id": "c75e84fa-ae2c-4a91-ab38-1ba3197abf0c",
   "metadata": {},
   "outputs": [],
   "source": []
  },
  {
   "cell_type": "markdown",
   "id": "84df6a59-3141-491b-a68a-48b8b5f862af",
   "metadata": {},
   "source": [
    "## Example 3. A World Population Map"
   ]
  },
  {
   "cell_type": "markdown",
   "id": "0cf5c119-6ee5-4f4c-800e-2d241aef119d",
   "metadata": {},
   "source": [
    "### `module`"
   ]
  },
  {
   "cell_type": "code",
   "execution_count": null,
   "id": "25efaa9e-4f37-454f-a91d-b2c295ac2652",
   "metadata": {},
   "outputs": [],
   "source": []
  },
  {
   "cell_type": "code",
   "execution_count": null,
   "id": "78ecb670-216f-4c73-b89e-5d104f8af339",
   "metadata": {},
   "outputs": [],
   "source": []
  },
  {
   "cell_type": "markdown",
   "id": "8aacd22b-c97f-422b-bfd8-3305eaa123c4",
   "metadata": {},
   "source": [
    "### `instance`"
   ]
  },
  {
   "cell_type": "code",
   "execution_count": null,
   "id": "34565f39-6f9c-4ead-9333-d8f05368eebe",
   "metadata": {},
   "outputs": [],
   "source": []
  },
  {
   "cell_type": "code",
   "execution_count": null,
   "id": "a96d82c5-e4e5-4a87-aaaf-0e4327f2d7b7",
   "metadata": {},
   "outputs": [],
   "source": []
  },
  {
   "cell_type": "markdown",
   "id": "bca62674-15d3-44dc-b779-9de0c1ec9b57",
   "metadata": {},
   "source": [
    "### `function`"
   ]
  },
  {
   "cell_type": "code",
   "execution_count": null,
   "id": "75c0de2c-9728-4c62-8870-7952b3d2583a",
   "metadata": {},
   "outputs": [],
   "source": []
  },
  {
   "cell_type": "markdown",
   "id": "4da4d971-ac8f-4139-ac40-e94ea510c6b4",
   "metadata": {},
   "source": [
    "<div class=\"alert alert-info\">\n",
    "    <b>Tip</b>\n",
    "    <br>The <code>function()</code> is the most important element.\n",
    "    <br>The function automates the execution of 100 lines of code, for example, inside the computer.\n",
    "    <br>To do something cool in Python, you need to look for the function.\n",
    "</div>"
   ]
  },
  {
   "cell_type": "markdown",
   "id": "5149e538-3366-4654-9ab1-a7468c29e5c3",
   "metadata": {},
   "source": [
    "# Types of `functions()`"
   ]
  },
  {
   "cell_type": "code",
   "execution_count": 30,
   "id": "c62769f7-c272-49e0-bec1-d722bac99817",
   "metadata": {},
   "outputs": [],
   "source": [
    "grades=[5,6,7]"
   ]
  },
  {
   "cell_type": "markdown",
   "id": "b43361d8-2c5b-4719-b9d4-7f4798e13b7d",
   "metadata": {},
   "source": [
    "1. `object.function()` "
   ]
  },
  {
   "cell_type": "code",
   "execution_count": 31,
   "id": "6ba49aa2-6708-436e-8a73-f8447ff549dc",
   "metadata": {},
   "outputs": [
    {
     "data": {
      "text/plain": [
       "list"
      ]
     },
     "execution_count": 31,
     "metadata": {},
     "output_type": "execute_result"
    }
   ],
   "source": [
    "type(grades)"
   ]
  },
  {
   "cell_type": "code",
   "execution_count": 35,
   "id": "92b48ef4-8728-466e-a9fc-cdebdc489209",
   "metadata": {},
   "outputs": [
    {
     "ename": "NameError",
     "evalue": "name 'array' is not defined",
     "output_type": "error",
     "traceback": [
      "\u001b[1;31m---------------------------------------------------------------------------\u001b[0m",
      "\u001b[1;31mNameError\u001b[0m                                 Traceback (most recent call last)",
      "\u001b[1;32m~\\AppData\\Local\\Temp/ipykernel_828/2565743929.py\u001b[0m in \u001b[0;36m<module>\u001b[1;34m\u001b[0m\n\u001b[1;32m----> 1\u001b[1;33m \u001b[0mgrades\u001b[0m\u001b[1;33m=\u001b[0m\u001b[0marray\u001b[0m\u001b[1;33m\u001b[0m\u001b[1;33m\u001b[0m\u001b[0m\n\u001b[0m",
      "\u001b[1;31mNameError\u001b[0m: name 'array' is not defined"
     ]
    }
   ],
   "source": [
    "grades=array"
   ]
  },
  {
   "cell_type": "code",
   "execution_count": 37,
   "id": "0d9b1711-5144-461b-addf-9978a85ffa96",
   "metadata": {},
   "outputs": [
    {
     "ename": "AttributeError",
     "evalue": "'list' object has no attribute 'sum'",
     "output_type": "error",
     "traceback": [
      "\u001b[1;31m---------------------------------------------------------------------------\u001b[0m",
      "\u001b[1;31mAttributeError\u001b[0m                            Traceback (most recent call last)",
      "\u001b[1;32m~\\AppData\\Local\\Temp/ipykernel_828/2270867147.py\u001b[0m in \u001b[0;36m<module>\u001b[1;34m\u001b[0m\n\u001b[1;32m----> 1\u001b[1;33m \u001b[0mgrades\u001b[0m\u001b[1;33m.\u001b[0m\u001b[0msum\u001b[0m\u001b[1;33m(\u001b[0m\u001b[1;33m)\u001b[0m\u001b[1;33m\u001b[0m\u001b[1;33m\u001b[0m\u001b[0m\n\u001b[0m",
      "\u001b[1;31mAttributeError\u001b[0m: 'list' object has no attribute 'sum'"
     ]
    }
   ],
   "source": [
    "grades.sum()"
   ]
  },
  {
   "cell_type": "markdown",
   "id": "39dc9ffc-8b5a-4364-a8ee-1ac3455067f7",
   "metadata": {},
   "source": [
    "2. `function(object)`"
   ]
  },
  {
   "cell_type": "code",
   "execution_count": 36,
   "id": "45af671b-40ea-40f8-a02d-11c6f756c1bb",
   "metadata": {},
   "outputs": [
    {
     "data": {
      "text/plain": [
       "18"
      ]
     },
     "execution_count": 36,
     "metadata": {},
     "output_type": "execute_result"
    }
   ],
   "source": [
    "sum(grades)"
   ]
  },
  {
   "cell_type": "code",
   "execution_count": 33,
   "id": "92cfa0d5-a9d6-4b99-b0b3-f8bd67f25673",
   "metadata": {},
   "outputs": [
    {
     "ename": "AttributeError",
     "evalue": "'list' object has no attribute 'sum'",
     "output_type": "error",
     "traceback": [
      "\u001b[1;31m---------------------------------------------------------------------------\u001b[0m",
      "\u001b[1;31mAttributeError\u001b[0m                            Traceback (most recent call last)",
      "\u001b[1;32m~\\AppData\\Local\\Temp/ipykernel_828/2270867147.py\u001b[0m in \u001b[0;36m<module>\u001b[1;34m\u001b[0m\n\u001b[1;32m----> 1\u001b[1;33m \u001b[0mgrades\u001b[0m\u001b[1;33m.\u001b[0m\u001b[0msum\u001b[0m\u001b[1;33m(\u001b[0m\u001b[1;33m)\u001b[0m\u001b[1;33m\u001b[0m\u001b[1;33m\u001b[0m\u001b[0m\n\u001b[0m",
      "\u001b[1;31mAttributeError\u001b[0m: 'list' object has no attribute 'sum'"
     ]
    }
   ],
   "source": []
  },
  {
   "cell_type": "markdown",
   "id": "8f809bb2-c7b7-4ead-bcf9-46fda0fa927d",
   "metadata": {},
   "source": [
    "3. `module.function(object)`"
   ]
  },
  {
   "cell_type": "code",
   "execution_count": 34,
   "id": "5b693095-2425-43b0-bd43-814f183105eb",
   "metadata": {},
   "outputs": [
    {
     "data": {
      "text/plain": [
       "18"
      ]
     },
     "execution_count": 34,
     "metadata": {},
     "output_type": "execute_result"
    }
   ],
   "source": [
    "np.sum(grades)"
   ]
  },
  {
   "cell_type": "markdown",
   "id": "e9011837-63d1-41dc-a9bb-8e45034eb58f",
   "metadata": {
    "tags": []
   },
   "source": [
    "## Functions Inside `instances`"
   ]
  },
  {
   "cell_type": "markdown",
   "id": "2a31a294-5271-4aaf-a006-b712328b28ea",
   "metadata": {},
   "source": [
    "```pytyhon\n",
    "instance.function(object)\n",
    "```"
   ]
  },
  {
   "cell_type": "markdown",
   "id": "dc63f9fa-a429-466f-9dc4-a941c6553096",
   "metadata": {},
   "source": [
    "- ✅ The `dog` makes `guau()`: `dog.guau()`\n",
    "- ✅ The `cat` makes `miau()`: `cat.miau()`"
   ]
  },
  {
   "cell_type": "code",
   "execution_count": 38,
   "id": "01be3ef6-c7c1-4630-9685-d1c701ba257f",
   "metadata": {},
   "outputs": [],
   "source": [
    "texto='hola, como estás'"
   ]
  },
  {
   "cell_type": "markdown",
   "id": "aa4c1840-bbf6-4f93-b855-aa3b7626191e",
   "metadata": {},
   "source": [
    "- The instance is a copy stored in memory"
   ]
  },
  {
   "cell_type": "code",
   "execution_count": 39,
   "id": "8323179c-ae0c-42c5-8485-0f1c3aabdf4d",
   "metadata": {},
   "outputs": [
    {
     "data": {
      "text/plain": [
       "'hola, como estás'"
      ]
     },
     "execution_count": 39,
     "metadata": {},
     "output_type": "execute_result"
    }
   ],
   "source": [
    "texto"
   ]
  },
  {
   "cell_type": "code",
   "execution_count": 40,
   "id": "14295a6c-c2dd-4a87-bf84-1a546a989c0d",
   "metadata": {},
   "outputs": [
    {
     "data": {
      "text/plain": [
       "'Hola, como estás'"
      ]
     },
     "execution_count": 40,
     "metadata": {},
     "output_type": "execute_result"
    }
   ],
   "source": [
    "texto.capitalize()"
   ]
  },
  {
   "cell_type": "code",
   "execution_count": 41,
   "id": "cfd4dbb3-66a9-4488-a8e9-bdf930598119",
   "metadata": {},
   "outputs": [
    {
     "data": {
      "text/plain": [
       "'Hola, Como Estás'"
      ]
     },
     "execution_count": 41,
     "metadata": {},
     "output_type": "execute_result"
    }
   ],
   "source": [
    "texto.title()"
   ]
  },
  {
   "cell_type": "code",
   "execution_count": 42,
   "id": "6f091c4b-6a03-4bbe-8d90-248d83612e83",
   "metadata": {},
   "outputs": [
    {
     "data": {
      "text/plain": [
       "'HOLA, COMO ESTÁS'"
      ]
     },
     "execution_count": 42,
     "metadata": {},
     "output_type": "execute_result"
    }
   ],
   "source": [
    "texto.upper()"
   ]
  },
  {
   "cell_type": "code",
   "execution_count": null,
   "id": "45b1f827-0b09-4c61-b92e-42d7d40258a3",
   "metadata": {},
   "outputs": [],
   "source": []
  },
  {
   "cell_type": "markdown",
   "id": "d41b7d00-3cc0-4743-be18-6339c0a5396a",
   "metadata": {},
   "source": [
    "- [ ] Can a `dog` make `miau()`: ~~`dog.miau()`~~ ? "
   ]
  },
  {
   "cell_type": "code",
   "execution_count": 43,
   "id": "9708d649-0c76-4e24-85a5-df79fbe44c3a",
   "metadata": {},
   "outputs": [],
   "source": [
    "lista=['hola', 'como', 'estás']"
   ]
  },
  {
   "cell_type": "code",
   "execution_count": 44,
   "id": "4d15fe44-e0c1-4427-9f3a-420ae417096e",
   "metadata": {},
   "outputs": [],
   "source": [
    "lista.insert(1,'ciao')"
   ]
  },
  {
   "cell_type": "code",
   "execution_count": 45,
   "id": "a3483cb4-2c4d-4af4-a667-0ddf1cd54f08",
   "metadata": {},
   "outputs": [
    {
     "data": {
      "text/plain": [
       "['hola', 'ciao', 'como', 'estás']"
      ]
     },
     "execution_count": 45,
     "metadata": {},
     "output_type": "execute_result"
    }
   ],
   "source": [
    "lista"
   ]
  },
  {
   "cell_type": "code",
   "execution_count": 46,
   "id": "88718f9f-8c06-468c-8153-62628e158c19",
   "metadata": {},
   "outputs": [],
   "source": [
    "lista.remove('ciao')"
   ]
  },
  {
   "cell_type": "code",
   "execution_count": 47,
   "id": "106cc0a7-221c-4a65-a80e-ce82957b6e4c",
   "metadata": {},
   "outputs": [
    {
     "data": {
      "text/plain": [
       "['hola', 'como', 'estás']"
      ]
     },
     "execution_count": 47,
     "metadata": {},
     "output_type": "execute_result"
    }
   ],
   "source": [
    "lista"
   ]
  },
  {
   "cell_type": "markdown",
   "id": "4c508b7b-4002-4f54-b4f6-825a9a024166",
   "metadata": {},
   "source": [
    "- ❌ The `cat` DOESN'T make `guau()`: `cat.guau()`"
   ]
  },
  {
   "cell_type": "markdown",
   "id": "9c313e68-f3d7-4da9-8fc5-ff934c8d9f55",
   "metadata": {},
   "source": [
    "<div class=\"alert alert-success\">\n",
    "    <b>Python Fundamentals</b>\n",
    "    <ul>\n",
    "        <li>❌ You can't apply all functions to every object</li>\n",
    "        <li>✅ Each object contains its own functions</li>\n",
    "    </ul>\n",
    "</div>"
   ]
  },
  {
   "cell_type": "markdown",
   "id": "cb78c8eb-399f-4ba4-9b6e-92de8e10298b",
   "metadata": {},
   "source": [
    "<div class=\"alert alert-info\">\n",
    "    <b>Tip</b>\n",
    "    <br>Use the <b>Autocompletion</b> <code>element.[tab]</code> to show the list of functions available for the element.\n",
    "</div>"
   ]
  },
  {
   "cell_type": "code",
   "execution_count": null,
   "id": "b4a406c2-65ee-454f-babb-79228721fa9b",
   "metadata": {},
   "outputs": [],
   "source": []
  },
  {
   "cell_type": "code",
   "execution_count": null,
   "id": "d00bf95f-4c2d-4b87-ab35-e3be4be0de91",
   "metadata": {},
   "outputs": [],
   "source": []
  },
  {
   "cell_type": "code",
   "execution_count": null,
   "id": "7035e01a-ae26-4300-b241-51e5b2980fe5",
   "metadata": {},
   "outputs": [],
   "source": []
  },
  {
   "cell_type": "markdown",
   "id": "fde78c4b-01dc-438d-9135-0027b378f95e",
   "metadata": {},
   "source": [
    "<div class=\"alert alert-info\">\n",
    "    <b>Tip</b>\n",
    "    <br>Use the <b>Documentation</b> <code>[shift] + [tab]</code> to see the instructions of the function.\n",
    "</div>"
   ]
  },
  {
   "cell_type": "code",
   "execution_count": null,
   "id": "fc89ddee-146f-4b1b-bb56-efa9722a55f0",
   "metadata": {},
   "outputs": [],
   "source": []
  },
  {
   "cell_type": "code",
   "execution_count": null,
   "id": "91f0f1e9-c36f-4bf9-9991-98c2df8804bd",
   "metadata": {},
   "outputs": [],
   "source": []
  },
  {
   "cell_type": "code",
   "execution_count": null,
   "id": "a7f9b25a-e921-4931-a796-d95a200220b6",
   "metadata": {},
   "outputs": [],
   "source": []
  },
  {
   "cell_type": "markdown",
   "id": "41c118a3-2ec1-4fbb-a428-2f673ad3020e",
   "metadata": {},
   "source": [
    "<div class=\"alert alert-info\">\n",
    "    <b>Tip</b>\n",
    "    <br>Read the <b>error message</b> to understand what's going on.\n",
    "    <ul>\n",
    "        <li>❌ A doctor who <b>has not</b> diagnosed the illness cannot gives you a propper treatment</li>\n",
    "        <li>✅ A doctor who <b>has</b> correctly diagnose the illness can give you a propper treatment</li>\n",
    "    </ul>\n",
    "</div>"
   ]
  },
  {
   "cell_type": "code",
   "execution_count": null,
   "id": "3c7b08c0-2ad5-47aa-900d-a003ba3a85f8",
   "metadata": {},
   "outputs": [],
   "source": []
  },
  {
   "cell_type": "code",
   "execution_count": null,
   "id": "8e9cde54-4919-4c05-894a-84564573d9bb",
   "metadata": {},
   "outputs": [],
   "source": []
  },
  {
   "cell_type": "code",
   "execution_count": null,
   "id": "979044d9-290a-4afd-b934-cbbdbbff8394",
   "metadata": {},
   "outputs": [],
   "source": []
  },
  {
   "cell_type": "markdown",
   "id": "691c6f83-aa03-4359-9acf-dbd054f3c8b7",
   "metadata": {
    "tags": []
   },
   "source": [
    "## `Built-in` Functions"
   ]
  },
  {
   "cell_type": "markdown",
   "id": "d7ac17c4-5f31-49a6-a6de-025c86614fde",
   "metadata": {},
   "source": [
    "```python\n",
    "function(object)\n",
    "```\n",
    "\n",
    "- See how many `functions()` Python has by default [here ↗︎](https://docs.python.org/3/library/functions.html)"
   ]
  },
  {
   "cell_type": "code",
   "execution_count": null,
   "id": "6bc13472-e55b-4d96-8081-05839295638b",
   "metadata": {},
   "outputs": [],
   "source": []
  },
  {
   "cell_type": "code",
   "execution_count": null,
   "id": "1b54a90a-8967-4825-bde6-18a11e4f9ba9",
   "metadata": {},
   "outputs": [],
   "source": []
  },
  {
   "cell_type": "code",
   "execution_count": null,
   "id": "b12f6aed-21e7-4259-93fa-4a4e3e46b685",
   "metadata": {},
   "outputs": [],
   "source": []
  },
  {
   "cell_type": "code",
   "execution_count": null,
   "id": "f0021db5-ab45-4a8e-91a4-7cb30d7dda6d",
   "metadata": {},
   "outputs": [],
   "source": []
  },
  {
   "cell_type": "code",
   "execution_count": null,
   "id": "7a027216-6721-4348-8414-e97e394f00b8",
   "metadata": {},
   "outputs": [],
   "source": []
  },
  {
   "cell_type": "code",
   "execution_count": null,
   "id": "2fd4503c-4d3d-4614-97c1-fa7eae4b2c99",
   "metadata": {},
   "outputs": [],
   "source": []
  },
  {
   "cell_type": "code",
   "execution_count": null,
   "id": "06b3a807-a4c4-470e-8fef-3b1ff113a61d",
   "metadata": {},
   "outputs": [],
   "source": []
  },
  {
   "cell_type": "code",
   "execution_count": null,
   "id": "ead6e98e-eb0a-4dac-85e6-b83dea1ad0a4",
   "metadata": {},
   "outputs": [],
   "source": []
  },
  {
   "cell_type": "code",
   "execution_count": null,
   "id": "85abe200-8d9d-40bd-b134-d8850bc957eb",
   "metadata": {},
   "outputs": [],
   "source": []
  },
  {
   "cell_type": "markdown",
   "id": "2c4a9bf3-e496-45b3-84ef-20e61581cb48",
   "metadata": {},
   "source": [
    "<div class=\"alert alert-success\">\n",
    "    <b>Python Fundamentals</b>\n",
    "    <ul>\n",
    "        <li>❌ Not all functions are applicable to all objects</li>\n",
    "        <li>✅ Ask the <b>Documentation</b> to see the objects you can pass to the function</li>\n",
    "    </ul>\n",
    "</div>"
   ]
  },
  {
   "cell_type": "markdown",
   "id": "27b5eb52-05ec-4ce4-9561-1d32c4a1bfdc",
   "metadata": {},
   "source": [
    "### Another Example"
   ]
  },
  {
   "cell_type": "code",
   "execution_count": null,
   "id": "037a0537-91d8-472c-88c7-9e4dc4410c50",
   "metadata": {},
   "outputs": [],
   "source": []
  },
  {
   "cell_type": "code",
   "execution_count": null,
   "id": "d2690407-67db-4916-bbce-4974947695fc",
   "metadata": {},
   "outputs": [],
   "source": []
  },
  {
   "cell_type": "code",
   "execution_count": null,
   "id": "5886d0bb-3cd8-48a7-955b-aaa556abd3c8",
   "metadata": {},
   "outputs": [],
   "source": []
  },
  {
   "cell_type": "markdown",
   "id": "3c54edca-692d-446a-abb4-3394e46494f2",
   "metadata": {},
   "source": [
    "<div class=\"alert alert-success\">\n",
    "    <b>Python Fundamentals</b>\n",
    "    <ul>\n",
    "        <li>❌ Default <code>function(element)</code> is not the same than <code>element.function()</code></li>\n",
    "        <li>✅ Sometimes the function comes from the element, other times from default</li>\n",
    "    </ul>\n",
    "</div>"
   ]
  },
  {
   "cell_type": "markdown",
   "id": "34f4bcc2-fa8c-4392-9769-302c954f0f23",
   "metadata": {},
   "source": [
    "<div class=\"alert alert-info\">\n",
    "    <b>Tip</b>\n",
    "    <br>You will rarely need a default <code>function(element)</code>\n",
    "</div>"
   ]
  },
  {
   "cell_type": "code",
   "execution_count": null,
   "id": "3640bc92-6611-481b-9e6f-0265483646e9",
   "metadata": {},
   "outputs": [],
   "source": []
  },
  {
   "cell_type": "code",
   "execution_count": null,
   "id": "a4759da7-281e-4ba8-a4c6-2222ab3572e5",
   "metadata": {},
   "outputs": [],
   "source": []
  },
  {
   "cell_type": "code",
   "execution_count": null,
   "id": "606f1472-844d-49b6-8ff9-f512fd993f02",
   "metadata": {},
   "outputs": [],
   "source": []
  },
  {
   "cell_type": "code",
   "execution_count": null,
   "id": "ac662e15-e7de-4dbe-90f2-423b09f97c4c",
   "metadata": {},
   "outputs": [],
   "source": []
  },
  {
   "cell_type": "code",
   "execution_count": null,
   "id": "d463a43a-258f-42ef-ac5f-f08df6c7f367",
   "metadata": {},
   "outputs": [],
   "source": []
  },
  {
   "cell_type": "markdown",
   "id": "e99dc12a-5b63-4ae3-af87-8e63ea66472b",
   "metadata": {},
   "source": [
    "<div class=\"alert alert-info\">\n",
    "    <b>Tip</b>\n",
    "    <br>Sometimes, you need to <b>combine functions</b> to get the result you want\n",
    "</div>"
   ]
  },
  {
   "cell_type": "markdown",
   "id": "056382e8-979f-4043-afdf-9b774594a0cb",
   "metadata": {},
   "source": [
    "## Where is the `function()` that loads the Excel?\n",
    "\n",
    "### `object.function()`"
   ]
  },
  {
   "cell_type": "code",
   "execution_count": null,
   "id": "b8a0082b-eeeb-45a0-9b46-fc386194a4fe",
   "metadata": {},
   "outputs": [],
   "source": []
  },
  {
   "cell_type": "code",
   "execution_count": null,
   "id": "f36987f6-ef1b-46f0-803b-b2114d4552af",
   "metadata": {},
   "outputs": [],
   "source": []
  },
  {
   "cell_type": "markdown",
   "id": "b78739f2-d229-47c3-a4b0-0de51c88a515",
   "metadata": {},
   "source": [
    "### `function(object)`"
   ]
  },
  {
   "cell_type": "code",
   "execution_count": null,
   "id": "4c25d4ac-5e83-4e0d-a929-9ef69fa35bc0",
   "metadata": {},
   "outputs": [],
   "source": []
  },
  {
   "cell_type": "markdown",
   "id": "878566d5-ea63-4457-9274-b11a0ca73694",
   "metadata": {},
   "source": [
    "### It will be in a `module.function()`"
   ]
  },
  {
   "cell_type": "code",
   "execution_count": 48,
   "id": "c4d32570-9356-4b07-b80d-f87a5c811f91",
   "metadata": {},
   "outputs": [],
   "source": [
    "df=pd.read_excel('internet_usage_spain.xlsx',sheet_name='internet_usage')"
   ]
  },
  {
   "cell_type": "code",
   "execution_count": 49,
   "id": "ff2d2adb-7e7a-4f5f-8db2-f2a57cfa4917",
   "metadata": {},
   "outputs": [
    {
     "data": {
      "text/html": [
       "<div>\n",
       "<style scoped>\n",
       "    .dataframe tbody tr th:only-of-type {\n",
       "        vertical-align: middle;\n",
       "    }\n",
       "\n",
       "    .dataframe tbody tr th {\n",
       "        vertical-align: top;\n",
       "    }\n",
       "\n",
       "    .dataframe thead th {\n",
       "        text-align: right;\n",
       "    }\n",
       "</style>\n",
       "<table border=\"1\" class=\"dataframe\">\n",
       "  <thead>\n",
       "    <tr style=\"text-align: right;\">\n",
       "      <th></th>\n",
       "      <th>name</th>\n",
       "      <th>internet_usage</th>\n",
       "      <th>sex</th>\n",
       "      <th>age</th>\n",
       "      <th>education</th>\n",
       "      <th>weight</th>\n",
       "    </tr>\n",
       "  </thead>\n",
       "  <tbody>\n",
       "    <tr>\n",
       "      <th>0</th>\n",
       "      <td>Josefina</td>\n",
       "      <td>0</td>\n",
       "      <td>Female</td>\n",
       "      <td>66</td>\n",
       "      <td>Elementary</td>\n",
       "      <td>81</td>\n",
       "    </tr>\n",
       "    <tr>\n",
       "      <th>1</th>\n",
       "      <td>Vicki</td>\n",
       "      <td>1</td>\n",
       "      <td>Male</td>\n",
       "      <td>72</td>\n",
       "      <td>Elementary</td>\n",
       "      <td>78</td>\n",
       "    </tr>\n",
       "    <tr>\n",
       "      <th>2</th>\n",
       "      <td>David</td>\n",
       "      <td>1</td>\n",
       "      <td>Male</td>\n",
       "      <td>48</td>\n",
       "      <td>University</td>\n",
       "      <td>69</td>\n",
       "    </tr>\n",
       "    <tr>\n",
       "      <th>3</th>\n",
       "      <td>Curtis</td>\n",
       "      <td>0</td>\n",
       "      <td>Male</td>\n",
       "      <td>59</td>\n",
       "      <td>PhD</td>\n",
       "      <td>107</td>\n",
       "    </tr>\n",
       "    <tr>\n",
       "      <th>4</th>\n",
       "      <td>Josephine</td>\n",
       "      <td>1</td>\n",
       "      <td>Female</td>\n",
       "      <td>44</td>\n",
       "      <td>PhD</td>\n",
       "      <td>80</td>\n",
       "    </tr>\n",
       "    <tr>\n",
       "      <th>...</th>\n",
       "      <td>...</td>\n",
       "      <td>...</td>\n",
       "      <td>...</td>\n",
       "      <td>...</td>\n",
       "      <td>...</td>\n",
       "      <td>...</td>\n",
       "    </tr>\n",
       "    <tr>\n",
       "      <th>2450</th>\n",
       "      <td>Frances</td>\n",
       "      <td>1</td>\n",
       "      <td>Male</td>\n",
       "      <td>43</td>\n",
       "      <td>Elementary</td>\n",
       "      <td>94</td>\n",
       "    </tr>\n",
       "    <tr>\n",
       "      <th>2451</th>\n",
       "      <td>Harry</td>\n",
       "      <td>1</td>\n",
       "      <td>Female</td>\n",
       "      <td>18</td>\n",
       "      <td>High School</td>\n",
       "      <td>70</td>\n",
       "    </tr>\n",
       "    <tr>\n",
       "      <th>2452</th>\n",
       "      <td>Adam</td>\n",
       "      <td>0</td>\n",
       "      <td>Female</td>\n",
       "      <td>54</td>\n",
       "      <td>Elementary</td>\n",
       "      <td>60</td>\n",
       "    </tr>\n",
       "    <tr>\n",
       "      <th>2453</th>\n",
       "      <td>Christine</td>\n",
       "      <td>1</td>\n",
       "      <td>Male</td>\n",
       "      <td>31</td>\n",
       "      <td>High School</td>\n",
       "      <td>89</td>\n",
       "    </tr>\n",
       "    <tr>\n",
       "      <th>2454</th>\n",
       "      <td>Kimberly</td>\n",
       "      <td>0</td>\n",
       "      <td>Male</td>\n",
       "      <td>52</td>\n",
       "      <td>Elementary</td>\n",
       "      <td>88</td>\n",
       "    </tr>\n",
       "  </tbody>\n",
       "</table>\n",
       "<p>2455 rows × 6 columns</p>\n",
       "</div>"
      ],
      "text/plain": [
       "           name  internet_usage     sex  age    education  weight\n",
       "0      Josefina               0  Female   66   Elementary      81\n",
       "1         Vicki               1    Male   72   Elementary      78\n",
       "2         David               1    Male   48   University      69\n",
       "3        Curtis               0    Male   59          PhD     107\n",
       "4     Josephine               1  Female   44          PhD      80\n",
       "...         ...             ...     ...  ...          ...     ...\n",
       "2450    Frances               1    Male   43   Elementary      94\n",
       "2451      Harry               1  Female   18  High School      70\n",
       "2452       Adam               0  Female   54   Elementary      60\n",
       "2453  Christine               1    Male   31  High School      89\n",
       "2454   Kimberly               0    Male   52   Elementary      88\n",
       "\n",
       "[2455 rows x 6 columns]"
      ]
     },
     "execution_count": 49,
     "metadata": {},
     "output_type": "execute_result"
    }
   ],
   "source": [
    "df"
   ]
  },
  {
   "cell_type": "code",
   "execution_count": 50,
   "id": "86915882-a95c-44b7-8506-1ca01a178a6f",
   "metadata": {},
   "outputs": [],
   "source": [
    "df=pd.read_excel('internet_usage_spain.xlsx',sheet_name=1)"
   ]
  },
  {
   "cell_type": "code",
   "execution_count": 51,
   "id": "b24bba96-4251-4f43-bb20-bf79b7239eba",
   "metadata": {},
   "outputs": [
    {
     "data": {
      "text/html": [
       "<div>\n",
       "<style scoped>\n",
       "    .dataframe tbody tr th:only-of-type {\n",
       "        vertical-align: middle;\n",
       "    }\n",
       "\n",
       "    .dataframe tbody tr th {\n",
       "        vertical-align: top;\n",
       "    }\n",
       "\n",
       "    .dataframe thead th {\n",
       "        text-align: right;\n",
       "    }\n",
       "</style>\n",
       "<table border=\"1\" class=\"dataframe\">\n",
       "  <thead>\n",
       "    <tr style=\"text-align: right;\">\n",
       "      <th></th>\n",
       "      <th>name</th>\n",
       "      <th>internet_usage</th>\n",
       "      <th>sex</th>\n",
       "      <th>age</th>\n",
       "      <th>education</th>\n",
       "      <th>weight</th>\n",
       "    </tr>\n",
       "  </thead>\n",
       "  <tbody>\n",
       "    <tr>\n",
       "      <th>0</th>\n",
       "      <td>Josefina</td>\n",
       "      <td>0</td>\n",
       "      <td>Female</td>\n",
       "      <td>66</td>\n",
       "      <td>Elementary</td>\n",
       "      <td>81</td>\n",
       "    </tr>\n",
       "    <tr>\n",
       "      <th>1</th>\n",
       "      <td>Vicki</td>\n",
       "      <td>1</td>\n",
       "      <td>Male</td>\n",
       "      <td>72</td>\n",
       "      <td>Elementary</td>\n",
       "      <td>78</td>\n",
       "    </tr>\n",
       "    <tr>\n",
       "      <th>2</th>\n",
       "      <td>David</td>\n",
       "      <td>1</td>\n",
       "      <td>Male</td>\n",
       "      <td>48</td>\n",
       "      <td>University</td>\n",
       "      <td>69</td>\n",
       "    </tr>\n",
       "    <tr>\n",
       "      <th>3</th>\n",
       "      <td>Curtis</td>\n",
       "      <td>0</td>\n",
       "      <td>Male</td>\n",
       "      <td>59</td>\n",
       "      <td>PhD</td>\n",
       "      <td>107</td>\n",
       "    </tr>\n",
       "    <tr>\n",
       "      <th>4</th>\n",
       "      <td>Josephine</td>\n",
       "      <td>1</td>\n",
       "      <td>Female</td>\n",
       "      <td>44</td>\n",
       "      <td>PhD</td>\n",
       "      <td>80</td>\n",
       "    </tr>\n",
       "    <tr>\n",
       "      <th>...</th>\n",
       "      <td>...</td>\n",
       "      <td>...</td>\n",
       "      <td>...</td>\n",
       "      <td>...</td>\n",
       "      <td>...</td>\n",
       "      <td>...</td>\n",
       "    </tr>\n",
       "    <tr>\n",
       "      <th>2450</th>\n",
       "      <td>Frances</td>\n",
       "      <td>1</td>\n",
       "      <td>Male</td>\n",
       "      <td>43</td>\n",
       "      <td>Elementary</td>\n",
       "      <td>94</td>\n",
       "    </tr>\n",
       "    <tr>\n",
       "      <th>2451</th>\n",
       "      <td>Harry</td>\n",
       "      <td>1</td>\n",
       "      <td>Female</td>\n",
       "      <td>18</td>\n",
       "      <td>High School</td>\n",
       "      <td>70</td>\n",
       "    </tr>\n",
       "    <tr>\n",
       "      <th>2452</th>\n",
       "      <td>Adam</td>\n",
       "      <td>0</td>\n",
       "      <td>Female</td>\n",
       "      <td>54</td>\n",
       "      <td>Elementary</td>\n",
       "      <td>60</td>\n",
       "    </tr>\n",
       "    <tr>\n",
       "      <th>2453</th>\n",
       "      <td>Christine</td>\n",
       "      <td>1</td>\n",
       "      <td>Male</td>\n",
       "      <td>31</td>\n",
       "      <td>High School</td>\n",
       "      <td>89</td>\n",
       "    </tr>\n",
       "    <tr>\n",
       "      <th>2454</th>\n",
       "      <td>Kimberly</td>\n",
       "      <td>0</td>\n",
       "      <td>Male</td>\n",
       "      <td>52</td>\n",
       "      <td>Elementary</td>\n",
       "      <td>88</td>\n",
       "    </tr>\n",
       "  </tbody>\n",
       "</table>\n",
       "<p>2455 rows × 6 columns</p>\n",
       "</div>"
      ],
      "text/plain": [
       "           name  internet_usage     sex  age    education  weight\n",
       "0      Josefina               0  Female   66   Elementary      81\n",
       "1         Vicki               1    Male   72   Elementary      78\n",
       "2         David               1    Male   48   University      69\n",
       "3        Curtis               0    Male   59          PhD     107\n",
       "4     Josephine               1  Female   44          PhD      80\n",
       "...         ...             ...     ...  ...          ...     ...\n",
       "2450    Frances               1    Male   43   Elementary      94\n",
       "2451      Harry               1  Female   18  High School      70\n",
       "2452       Adam               0  Female   54   Elementary      60\n",
       "2453  Christine               1    Male   31  High School      89\n",
       "2454   Kimberly               0    Male   52   Elementary      88\n",
       "\n",
       "[2455 rows x 6 columns]"
      ]
     },
     "execution_count": 51,
     "metadata": {},
     "output_type": "execute_result"
    }
   ],
   "source": [
    "df"
   ]
  },
  {
   "cell_type": "markdown",
   "id": "58a7d923-f15a-45bd-a4a1-821275708150",
   "metadata": {},
   "source": [
    "mean=media"
   ]
  },
  {
   "cell_type": "markdown",
   "id": "1e92eba3-d757-477d-9306-0e21b5686a5b",
   "metadata": {},
   "source": [
    "<div class=\"alert alert-info\">\n",
    "    <b>Tip</b>\n",
    "    <br>Other times, the functions are stored in a <code>module.function()</code>\n",
    "    <br>As you don't know, look for the function in Google\n",
    "</div>"
   ]
  },
  {
   "cell_type": "code",
   "execution_count": 52,
   "id": "b44a0f1c-51bf-4539-9bb1-5bd6c31d791e",
   "metadata": {},
   "outputs": [],
   "source": [
    "df=pd.read_excel('internet_usage_spain.xlsx',1,index_col=0)"
   ]
  },
  {
   "cell_type": "code",
   "execution_count": 53,
   "id": "7e65e7bd-6384-49bd-83bc-0be565757260",
   "metadata": {},
   "outputs": [
    {
     "data": {
      "text/html": [
       "<div>\n",
       "<style scoped>\n",
       "    .dataframe tbody tr th:only-of-type {\n",
       "        vertical-align: middle;\n",
       "    }\n",
       "\n",
       "    .dataframe tbody tr th {\n",
       "        vertical-align: top;\n",
       "    }\n",
       "\n",
       "    .dataframe thead th {\n",
       "        text-align: right;\n",
       "    }\n",
       "</style>\n",
       "<table border=\"1\" class=\"dataframe\">\n",
       "  <thead>\n",
       "    <tr style=\"text-align: right;\">\n",
       "      <th></th>\n",
       "      <th>internet_usage</th>\n",
       "      <th>sex</th>\n",
       "      <th>age</th>\n",
       "      <th>education</th>\n",
       "      <th>weight</th>\n",
       "    </tr>\n",
       "    <tr>\n",
       "      <th>name</th>\n",
       "      <th></th>\n",
       "      <th></th>\n",
       "      <th></th>\n",
       "      <th></th>\n",
       "      <th></th>\n",
       "    </tr>\n",
       "  </thead>\n",
       "  <tbody>\n",
       "    <tr>\n",
       "      <th>Josefina</th>\n",
       "      <td>0</td>\n",
       "      <td>Female</td>\n",
       "      <td>66</td>\n",
       "      <td>Elementary</td>\n",
       "      <td>81</td>\n",
       "    </tr>\n",
       "    <tr>\n",
       "      <th>Vicki</th>\n",
       "      <td>1</td>\n",
       "      <td>Male</td>\n",
       "      <td>72</td>\n",
       "      <td>Elementary</td>\n",
       "      <td>78</td>\n",
       "    </tr>\n",
       "    <tr>\n",
       "      <th>David</th>\n",
       "      <td>1</td>\n",
       "      <td>Male</td>\n",
       "      <td>48</td>\n",
       "      <td>University</td>\n",
       "      <td>69</td>\n",
       "    </tr>\n",
       "    <tr>\n",
       "      <th>Curtis</th>\n",
       "      <td>0</td>\n",
       "      <td>Male</td>\n",
       "      <td>59</td>\n",
       "      <td>PhD</td>\n",
       "      <td>107</td>\n",
       "    </tr>\n",
       "    <tr>\n",
       "      <th>Josephine</th>\n",
       "      <td>1</td>\n",
       "      <td>Female</td>\n",
       "      <td>44</td>\n",
       "      <td>PhD</td>\n",
       "      <td>80</td>\n",
       "    </tr>\n",
       "    <tr>\n",
       "      <th>...</th>\n",
       "      <td>...</td>\n",
       "      <td>...</td>\n",
       "      <td>...</td>\n",
       "      <td>...</td>\n",
       "      <td>...</td>\n",
       "    </tr>\n",
       "    <tr>\n",
       "      <th>Frances</th>\n",
       "      <td>1</td>\n",
       "      <td>Male</td>\n",
       "      <td>43</td>\n",
       "      <td>Elementary</td>\n",
       "      <td>94</td>\n",
       "    </tr>\n",
       "    <tr>\n",
       "      <th>Harry</th>\n",
       "      <td>1</td>\n",
       "      <td>Female</td>\n",
       "      <td>18</td>\n",
       "      <td>High School</td>\n",
       "      <td>70</td>\n",
       "    </tr>\n",
       "    <tr>\n",
       "      <th>Adam</th>\n",
       "      <td>0</td>\n",
       "      <td>Female</td>\n",
       "      <td>54</td>\n",
       "      <td>Elementary</td>\n",
       "      <td>60</td>\n",
       "    </tr>\n",
       "    <tr>\n",
       "      <th>Christine</th>\n",
       "      <td>1</td>\n",
       "      <td>Male</td>\n",
       "      <td>31</td>\n",
       "      <td>High School</td>\n",
       "      <td>89</td>\n",
       "    </tr>\n",
       "    <tr>\n",
       "      <th>Kimberly</th>\n",
       "      <td>0</td>\n",
       "      <td>Male</td>\n",
       "      <td>52</td>\n",
       "      <td>Elementary</td>\n",
       "      <td>88</td>\n",
       "    </tr>\n",
       "  </tbody>\n",
       "</table>\n",
       "<p>2455 rows × 5 columns</p>\n",
       "</div>"
      ],
      "text/plain": [
       "           internet_usage     sex  age    education  weight\n",
       "name                                                       \n",
       "Josefina                0  Female   66   Elementary      81\n",
       "Vicki                   1    Male   72   Elementary      78\n",
       "David                   1    Male   48   University      69\n",
       "Curtis                  0    Male   59          PhD     107\n",
       "Josephine               1  Female   44          PhD      80\n",
       "...                   ...     ...  ...          ...     ...\n",
       "Frances                 1    Male   43   Elementary      94\n",
       "Harry                   1  Female   18  High School      70\n",
       "Adam                    0  Female   54   Elementary      60\n",
       "Christine               1    Male   31  High School      89\n",
       "Kimberly                0    Male   52   Elementary      88\n",
       "\n",
       "[2455 rows x 5 columns]"
      ]
     },
     "execution_count": 53,
     "metadata": {},
     "output_type": "execute_result"
    }
   ],
   "source": [
    "df"
   ]
  },
  {
   "cell_type": "code",
   "execution_count": 54,
   "id": "67ba7905-aa92-45a2-9f82-5ad9cb698024",
   "metadata": {},
   "outputs": [
    {
     "data": {
      "text/plain": [
       "2455"
      ]
     },
     "execution_count": 54,
     "metadata": {},
     "output_type": "execute_result"
    }
   ],
   "source": [
    "len(df)"
   ]
  },
  {
   "cell_type": "code",
   "execution_count": 55,
   "id": "2d456111-f62f-4858-8aec-96a5ea9a0b51",
   "metadata": {},
   "outputs": [
    {
     "data": {
      "text/plain": [
       "pandas.core.frame.DataFrame"
      ]
     },
     "execution_count": 55,
     "metadata": {},
     "output_type": "execute_result"
    }
   ],
   "source": [
    "type(df)"
   ]
  },
  {
   "cell_type": "code",
   "execution_count": null,
   "id": "a69843b3-0921-4489-9e9e-492196c91ee0",
   "metadata": {},
   "outputs": [],
   "source": []
  },
  {
   "cell_type": "markdown",
   "id": "91a65bcf-4db7-4600-8ab1-14e140926abe",
   "metadata": {},
   "source": [
    "## External Functions: from the `module`\n",
    "\n",
    "- [ ] Load [this Excel](https://github.com/sotastica/data/raw/main/internet_usage_spain.xlsx) into Python"
   ]
  },
  {
   "cell_type": "markdown",
   "id": "9d57586f-bfbd-4af3-bdc2-619486f1e3eb",
   "metadata": {},
   "source": [
    "<div class=\"alert alert-info\">\n",
    "    <b>Tip</b>\n",
    "    <br>Apply the <a href=\"https://github.com/jsulopz/python-resolver-discipline/blob/main/01_Code%20of%20Discipline/01_Sketch%20the%20Result.md\">Python Resolver Discipline</a> to look for the function in Google\n",
    "</div>"
   ]
  },
  {
   "cell_type": "code",
   "execution_count": null,
   "id": "b77c21bb-d474-4774-b5b3-a8668d78653b",
   "metadata": {},
   "outputs": [],
   "source": []
  },
  {
   "cell_type": "code",
   "execution_count": null,
   "id": "9bf91c66-0d86-4e22-8ccc-3fbe2e1845a7",
   "metadata": {},
   "outputs": [],
   "source": []
  },
  {
   "cell_type": "code",
   "execution_count": null,
   "id": "427be50f-0cee-4645-bcb3-0914354847b4",
   "metadata": {},
   "outputs": [],
   "source": []
  },
  {
   "cell_type": "code",
   "execution_count": null,
   "id": "0bb94897-674c-4347-ad29-77470d9b73a2",
   "metadata": {},
   "outputs": [],
   "source": []
  },
  {
   "cell_type": "code",
   "execution_count": null,
   "id": "9837c25f-8031-41e8-8b43-29de620107bb",
   "metadata": {},
   "outputs": [],
   "source": []
  },
  {
   "cell_type": "code",
   "execution_count": null,
   "id": "07a88d4f-f84a-444f-bb22-e646c4e498df",
   "metadata": {},
   "outputs": [],
   "source": []
  },
  {
   "cell_type": "markdown",
   "id": "eba1f9b6-fb5a-45c1-a324-68dd9fefa433",
   "metadata": {},
   "source": [
    "> - [ ] Could you read the **second table** of the `Excel`?"
   ]
  },
  {
   "cell_type": "code",
   "execution_count": null,
   "id": "3b1546d0-f2b9-4653-8b00-8979e4cc8c9e",
   "metadata": {},
   "outputs": [],
   "source": []
  },
  {
   "cell_type": "markdown",
   "id": "4791fe3f-2508-492d-ba5b-34a34c035c2a",
   "metadata": {
    "tags": []
   },
   "source": [
    "# Use of `functions()`"
   ]
  },
  {
   "cell_type": "markdown",
   "id": "ca15e755-a027-4eff-aa6b-c9bf759c3ca2",
   "metadata": {},
   "source": [
    "## Change Default Parameters of a Function"
   ]
  },
  {
   "cell_type": "markdown",
   "id": "cb053560-1296-42d4-bc6f-fd94803a881e",
   "metadata": {},
   "source": [
    "- By Default ↓"
   ]
  },
  {
   "cell_type": "code",
   "execution_count": null,
   "id": "71664811-db50-4df3-bd4d-feb32288de56",
   "metadata": {},
   "outputs": [],
   "source": []
  },
  {
   "cell_type": "markdown",
   "id": "954c5780-ec44-4cd4-af0f-b527c990b116",
   "metadata": {},
   "source": [
    "- [ ] Change the default `object` of the `(parameter=?)` ↓"
   ]
  },
  {
   "cell_type": "code",
   "execution_count": null,
   "id": "48e30005-e825-459c-83d4-64d549ec69f7",
   "metadata": {},
   "outputs": [],
   "source": []
  },
  {
   "cell_type": "markdown",
   "id": "27a491ee-33c7-43fb-9847-27d427170375",
   "metadata": {},
   "source": [
    "<div class=\"alert alert-success\">\n",
    "    <b>Python Fundamentals</b>\n",
    "    <ul>\n",
    "        <li>❌ If the function gives you an unnexpected result\n",
    "        <li>✅ You may <b>change the default values of the parameters</b></li>\n",
    "    </ul>\n",
    "</div>"
   ]
  },
  {
   "cell_type": "markdown",
   "id": "b87dc731-6f75-4035-a3a8-9bc5aa66171a",
   "metadata": {},
   "source": [
    "<div class=\"alert alert-info\">\n",
    "    <b>Tip</b>\n",
    "    <br>You don't need to know all parameters of a function\n",
    "    <br>Use the <b>Documentation</b> to see all the parameters of a function and their what they change in the function's behaviour\n",
    "</div>"
   ]
  },
  {
   "cell_type": "markdown",
   "id": "95e4a13e-8107-48e7-87af-ebf9b969b222",
   "metadata": {},
   "source": [
    "- [ ] Change the index to be the `name` column"
   ]
  },
  {
   "cell_type": "code",
   "execution_count": null,
   "id": "60049555-b1bd-468d-8a2a-163a4f542db2",
   "metadata": {},
   "outputs": [],
   "source": []
  },
  {
   "cell_type": "markdown",
   "id": "52f9e240-02b6-449e-9e6c-a9a337310e00",
   "metadata": {},
   "source": [
    "<div class=\"alert alert-info\">\n",
    "    <b>Tip</b>\n",
    "    <br><a href=\"https://github.com/jsulopz/python-resolver-discipline/blob/main/01_Code%20of%20Discipline/00_The%20Elements%20of%20Python.md\">CheatSheet/Summary</a> for the Elements of Python\n",
    "</div>"
   ]
  },
  {
   "cell_type": "markdown",
   "id": "e2c7d721-d2cd-4f0e-abea-0ccbb5a4e17b",
   "metadata": {},
   "source": [
    "# Code Syntax"
   ]
  },
  {
   "cell_type": "markdown",
   "id": "6edab2a4-b271-41c7-ae36-16542de7a810",
   "metadata": {},
   "source": [
    "In which order Python reads the line of code?\n",
    "- From <ins>left to right</ins>.\n",
    "- From <ins>up to down</ins>."
   ]
  },
  {
   "cell_type": "code",
   "execution_count": null,
   "id": "7c5e0cfd-6420-41dc-b039-71959e66fe43",
   "metadata": {},
   "outputs": [],
   "source": []
  },
  {
   "cell_type": "markdown",
   "id": "94077e8e-f3b4-4350-846a-f8574f85c2c2",
   "metadata": {},
   "source": [
    "## The `module`"
   ]
  },
  {
   "cell_type": "code",
   "execution_count": null,
   "id": "b70b6bc5-be36-455e-94bb-7cca6ea3a583",
   "metadata": {},
   "outputs": [],
   "source": []
  },
  {
   "cell_type": "markdown",
   "id": "1164afdf-9bfb-4b8b-a1d1-a07bbc3cc481",
   "metadata": {
    "tags": []
   },
   "source": [
    "## The `.` **DOT NOTATION**"
   ]
  },
  {
   "cell_type": "code",
   "execution_count": null,
   "id": "e3a9f0e3-cbd7-4272-a73e-d2eef2f09591",
   "metadata": {},
   "outputs": [],
   "source": []
  },
  {
   "cell_type": "markdown",
   "id": "3ff161f7-a02a-47e3-8a22-e2727a4418bb",
   "metadata": {},
   "source": [
    "<div class=\"alert alert-info\">\n",
    "    <b>Tip</b>\n",
    "    <br>The `.` gives to access to everything you can do with an element.\n",
    "    <br>You use <code>pd. + [tab]</code> to use the autocompletion tool.\n",
    "</div>"
   ]
  },
  {
   "cell_type": "markdown",
   "id": "575b2824-4cae-44f3-9d46-a82e93c23e2b",
   "metadata": {},
   "source": [
    "## The `function()`"
   ]
  },
  {
   "cell_type": "code",
   "execution_count": null,
   "id": "0dcdb0bf-fb97-4e88-ba7e-0781e7a81a74",
   "metadata": {},
   "outputs": [],
   "source": []
  },
  {
   "cell_type": "markdown",
   "id": "571afc9a-d1ac-4fef-aa83-7e6cd41f2169",
   "metadata": {
    "tags": []
   },
   "source": [
    "## The `(parameter=object)`"
   ]
  },
  {
   "cell_type": "markdown",
   "id": "0d1a1a08-4faa-4159-9f79-aa0d8151751c",
   "metadata": {},
   "source": [
    "### `(io='internet_usage_spain.xlsx')`\n",
    "\n",
    "- we pass the `string` object `'internet_usage_spain.xlsx'` to the parameter `io`\n",
    "    - because it's the name of the `Excel` file we want to load"
   ]
  },
  {
   "cell_type": "code",
   "execution_count": null,
   "id": "d145e813-f369-4ae8-8c38-9213dafadb50",
   "metadata": {},
   "outputs": [],
   "source": []
  },
  {
   "cell_type": "markdown",
   "id": "2fb94757-98b6-44ff-aa3e-e8ea552439ee",
   "metadata": {},
   "source": [
    "### Default objects for the parameters"
   ]
  },
  {
   "cell_type": "code",
   "execution_count": null,
   "id": "0effaf04-0134-4918-b6ad-670ecc8f2f20",
   "metadata": {},
   "outputs": [],
   "source": []
  },
  {
   "cell_type": "markdown",
   "id": "0872a64a-acb9-4a34-90d1-67d9daef4364",
   "metadata": {},
   "source": [
    "### `(sheet_name=1)`\n",
    "- we pass the `integer` object `1` to the parameter `sheet_name`\n",
    "    - beacuse it's the position of the `Sheet` we want to load"
   ]
  },
  {
   "cell_type": "code",
   "execution_count": null,
   "id": "a0a87220-128e-4bbf-9942-64d7ccf00c45",
   "metadata": {},
   "outputs": [],
   "source": []
  },
  {
   "cell_type": "markdown",
   "id": "5d578b20-2d55-416b-8485-6545dea757e0",
   "metadata": {},
   "source": [
    "## The `function()` returns an `object`"
   ]
  },
  {
   "cell_type": "code",
   "execution_count": null,
   "id": "ab3659dd-0336-42f3-8598-56f35631f5ee",
   "metadata": {},
   "outputs": [],
   "source": []
  },
  {
   "cell_type": "code",
   "execution_count": null,
   "id": "24b6e627-5ba6-48a8-8fcf-282174b349f7",
   "metadata": {},
   "outputs": [],
   "source": []
  },
  {
   "cell_type": "code",
   "execution_count": null,
   "id": "91cdae3f-ed7c-41d8-ab79-c06501221582",
   "metadata": {},
   "outputs": [],
   "source": []
  },
  {
   "cell_type": "markdown",
   "id": "b210505d-4128-4c71-a08e-76482610ad8d",
   "metadata": {},
   "source": [
    "## Recap"
   ]
  },
  {
   "cell_type": "markdown",
   "id": "474673bb-9801-4c97-a24b-0f92651e618a",
   "metadata": {},
   "source": [
    "1. `module`\n",
    "2. `.` **DOT NOTATION** to look for *functions* inside the `module` or `instance`\n",
    "3. `function()`\n",
    "4. pass `objects` to the `parameters`\n",
    "    - pass `str (\"internet_usage_spain.xlsx\")` to `parameter (io=\"internet_usage_spain.xlsx\")`\n",
    "    - pass `int (1)` to `parameter (sheet_name=1)`\n",
    "5. execute\n",
    "6. [ ] magic?\n",
    "7. the `function()` returns an `object`"
   ]
  },
  {
   "cell_type": "code",
   "execution_count": null,
   "id": "62ca1a1e-e1a6-4400-805a-34fc7c612859",
   "metadata": {},
   "outputs": [],
   "source": []
  },
  {
   "cell_type": "code",
   "execution_count": null,
   "id": "59910a2f-ba2d-45de-842f-c0fb0187f66e",
   "metadata": {},
   "outputs": [],
   "source": []
  },
  {
   "cell_type": "code",
   "execution_count": null,
   "id": "9b2acc0b-ee87-4835-a1ab-0e87e0807d72",
   "metadata": {},
   "outputs": [],
   "source": []
  },
  {
   "cell_type": "code",
   "execution_count": null,
   "id": "d162d001-8b4a-4f7b-8b13-b3b6a98a8d05",
   "metadata": {},
   "outputs": [],
   "source": []
  },
  {
   "cell_type": "markdown",
   "id": "1fe3408d-bacb-4d5f-bf27-de966d592bd1",
   "metadata": {},
   "source": [
    "<div class=\"alert alert-info\">\n",
    "    <b>Tip</b>\n",
    "    <br>Don't think a <code>DataFrame</code> is way different of an <code>integer</code> or a <code>string</code>\n",
    "    <br>In terms of the Elements of Python, they are all <b>objects</b>\n",
    "</div>"
   ]
  },
  {
   "cell_type": "markdown",
   "id": "15b9d6d1-bb75-4fa7-badf-b3e125f0d8f2",
   "metadata": {},
   "source": [
    "# Source Code Execution | What happens <ins>inside</ins> the computer ?"
   ]
  },
  {
   "cell_type": "markdown",
   "id": "e649c73c-5103-4bd6-baf2-9b2c2f88dce8",
   "metadata": {},
   "source": [
    "- When we type `pd.read_excel()`\n",
    "- and execute `shift` + `enter`"
   ]
  },
  {
   "cell_type": "code",
   "execution_count": null,
   "id": "ef5cf978-6844-4bd7-82a6-e89462d522d8",
   "metadata": {},
   "outputs": [],
   "source": []
  },
  {
   "cell_type": "markdown",
   "id": "071ba97a-0b62-4ed1-af1b-6163a4478e74",
   "metadata": {},
   "source": [
    "- [ ] How Python locates the error when it doesn't find the `filename`?"
   ]
  },
  {
   "cell_type": "code",
   "execution_count": null,
   "id": "e5e9a4f5-086f-4c87-b245-d801d68e1546",
   "metadata": {},
   "outputs": [],
   "source": []
  },
  {
   "cell_type": "markdown",
   "id": "aa7c0039-9327-469e-8486-d75ba81b92de",
   "metadata": {},
   "source": [
    "`~/miniforge3/lib/python3.9/site-packages/pandas/io/excel/_base.py`"
   ]
  },
  {
   "cell_type": "markdown",
   "id": "d8573e6d-70f7-4696-b9a5-c5523dae0daa",
   "metadata": {},
   "source": [
    "<div class=\"alert alert-success\">\n",
    "    <b>Python Fundamentals</b>\n",
    "    <ul>\n",
    "        <li>❌ Don't walk away from the errors\n",
    "        <li>✅ Understand them; you don't need to know the output of the error, just the last line</li>\n",
    "        <li>The lines in the middle represents the <b>Source Code</b>\n",
    "    </ul>\n",
    "</div>"
   ]
  },
  {
   "cell_type": "markdown",
   "id": "74598ecc-652a-4f4a-90b8-9df308d2e47d",
   "metadata": {},
   "source": [
    "# The Importance of the `function()`"
   ]
  },
  {
   "cell_type": "markdown",
   "id": "707962d5-7de7-434d-b4f8-e76eb3401b1d",
   "metadata": {},
   "source": [
    "- Your focus should always be:\n",
    "- [ ] Which `function()` do I need to calculate this? Or that?\n",
    "- Apply the [Python Resolver Discipline](https://github.com/jsulopz/python-resolver-discipline/blob/main/01_Code%20of%20Discipline/01_Sketch%20the%20Result.md) discover the `function()` you need"
   ]
  },
  {
   "cell_type": "markdown",
   "id": "2aeea07f-37b5-4654-a993-6518c1f55075",
   "metadata": {
    "tags": []
   },
   "source": [
    "## Python doesn't know about the Excel File\n",
    "\n",
    "- Python just interprets a `string`\n",
    "- and an `integer`"
   ]
  },
  {
   "cell_type": "code",
   "execution_count": 56,
   "id": "7246bf3a-29dd-477b-94fa-c36a6587627b",
   "metadata": {},
   "outputs": [
    {
     "data": {
      "text/plain": [
       "array([[<AxesSubplot:title={'center':'internet_usage'}>,\n",
       "        <AxesSubplot:title={'center':'age'}>],\n",
       "       [<AxesSubplot:title={'center':'weight'}>, <AxesSubplot:>]],\n",
       "      dtype=object)"
      ]
     },
     "execution_count": 56,
     "metadata": {},
     "output_type": "execute_result"
    },
    {
     "data": {
      "image/png": "[encoded data removed]",
      "text/plain": [
       "<Figure size 432x288 with 4 Axes>"
      ]
     },
     "metadata": {
      "needs_background": "light"
     },
     "output_type": "display_data"
    }
   ],
   "source": [
    "df.hist()"
   ]
  },
  {
   "cell_type": "code",
   "execution_count": 57,
   "id": "107d19e8-53ce-491d-a56a-e2fb598f5923",
   "metadata": {},
   "outputs": [
    {
     "data": {
      "text/plain": [
       "<AxesSubplot:>"
      ]
     },
     "execution_count": 57,
     "metadata": {},
     "output_type": "execute_result"
    },
    {
     "data": {
      "image/png": "[encoded data removed]",
      "text/plain": [
       "<Figure size 432x288 with 1 Axes>"
      ]
     },
     "metadata": {
      "needs_background": "light"
     },
     "output_type": "display_data"
    }
   ],
   "source": [
    "df.boxplot()"
   ]
  },
  {
   "cell_type": "markdown",
   "id": "26c61205-85c7-4b46-a973-dedd6f0de4c1",
   "metadata": {},
   "source": [
    "- As you pass the `objects` to the `parameters` of the `function()`\n",
    "- `function(parameter=object)`"
   ]
  },
  {
   "cell_type": "code",
   "execution_count": 58,
   "id": "3f5063a3-8797-4001-95b8-bb7ca0dca64a",
   "metadata": {},
   "outputs": [
    {
     "data": {
      "text/html": [
       "<div>\n",
       "<style scoped>\n",
       "    .dataframe tbody tr th:only-of-type {\n",
       "        vertical-align: middle;\n",
       "    }\n",
       "\n",
       "    .dataframe tbody tr th {\n",
       "        vertical-align: top;\n",
       "    }\n",
       "\n",
       "    .dataframe thead th {\n",
       "        text-align: right;\n",
       "    }\n",
       "</style>\n",
       "<table border=\"1\" class=\"dataframe\">\n",
       "  <thead>\n",
       "    <tr style=\"text-align: right;\">\n",
       "      <th></th>\n",
       "      <th>internet_usage</th>\n",
       "      <th>sex</th>\n",
       "      <th>age</th>\n",
       "      <th>education</th>\n",
       "      <th>weight</th>\n",
       "    </tr>\n",
       "    <tr>\n",
       "      <th>name</th>\n",
       "      <th></th>\n",
       "      <th></th>\n",
       "      <th></th>\n",
       "      <th></th>\n",
       "      <th></th>\n",
       "    </tr>\n",
       "  </thead>\n",
       "  <tbody>\n",
       "    <tr>\n",
       "      <th>Josefina</th>\n",
       "      <td>0</td>\n",
       "      <td>Female</td>\n",
       "      <td>66</td>\n",
       "      <td>Elementary</td>\n",
       "      <td>81</td>\n",
       "    </tr>\n",
       "    <tr>\n",
       "      <th>Vicki</th>\n",
       "      <td>1</td>\n",
       "      <td>Male</td>\n",
       "      <td>72</td>\n",
       "      <td>Elementary</td>\n",
       "      <td>78</td>\n",
       "    </tr>\n",
       "    <tr>\n",
       "      <th>David</th>\n",
       "      <td>1</td>\n",
       "      <td>Male</td>\n",
       "      <td>48</td>\n",
       "      <td>University</td>\n",
       "      <td>69</td>\n",
       "    </tr>\n",
       "    <tr>\n",
       "      <th>Curtis</th>\n",
       "      <td>0</td>\n",
       "      <td>Male</td>\n",
       "      <td>59</td>\n",
       "      <td>PhD</td>\n",
       "      <td>107</td>\n",
       "    </tr>\n",
       "    <tr>\n",
       "      <th>Josephine</th>\n",
       "      <td>1</td>\n",
       "      <td>Female</td>\n",
       "      <td>44</td>\n",
       "      <td>PhD</td>\n",
       "      <td>80</td>\n",
       "    </tr>\n",
       "    <tr>\n",
       "      <th>...</th>\n",
       "      <td>...</td>\n",
       "      <td>...</td>\n",
       "      <td>...</td>\n",
       "      <td>...</td>\n",
       "      <td>...</td>\n",
       "    </tr>\n",
       "    <tr>\n",
       "      <th>Frances</th>\n",
       "      <td>1</td>\n",
       "      <td>Male</td>\n",
       "      <td>43</td>\n",
       "      <td>Elementary</td>\n",
       "      <td>94</td>\n",
       "    </tr>\n",
       "    <tr>\n",
       "      <th>Harry</th>\n",
       "      <td>1</td>\n",
       "      <td>Female</td>\n",
       "      <td>18</td>\n",
       "      <td>High School</td>\n",
       "      <td>70</td>\n",
       "    </tr>\n",
       "    <tr>\n",
       "      <th>Adam</th>\n",
       "      <td>0</td>\n",
       "      <td>Female</td>\n",
       "      <td>54</td>\n",
       "      <td>Elementary</td>\n",
       "      <td>60</td>\n",
       "    </tr>\n",
       "    <tr>\n",
       "      <th>Christine</th>\n",
       "      <td>1</td>\n",
       "      <td>Male</td>\n",
       "      <td>31</td>\n",
       "      <td>High School</td>\n",
       "      <td>89</td>\n",
       "    </tr>\n",
       "    <tr>\n",
       "      <th>Kimberly</th>\n",
       "      <td>0</td>\n",
       "      <td>Male</td>\n",
       "      <td>52</td>\n",
       "      <td>Elementary</td>\n",
       "      <td>88</td>\n",
       "    </tr>\n",
       "  </tbody>\n",
       "</table>\n",
       "<p>2455 rows × 5 columns</p>\n",
       "</div>"
      ],
      "text/plain": [
       "           internet_usage     sex  age    education  weight\n",
       "name                                                       \n",
       "Josefina                0  Female   66   Elementary      81\n",
       "Vicki                   1    Male   72   Elementary      78\n",
       "David                   1    Male   48   University      69\n",
       "Curtis                  0    Male   59          PhD     107\n",
       "Josephine               1  Female   44          PhD      80\n",
       "...                   ...     ...  ...          ...     ...\n",
       "Frances                 1    Male   43   Elementary      94\n",
       "Harry                   1  Female   18  High School      70\n",
       "Adam                    0  Female   54   Elementary      60\n",
       "Christine               1    Male   31  High School      89\n",
       "Kimberly                0    Male   52   Elementary      88\n",
       "\n",
       "[2455 rows x 5 columns]"
      ]
     },
     "execution_count": 58,
     "metadata": {},
     "output_type": "execute_result"
    }
   ],
   "source": [
    "df"
   ]
  },
  {
   "cell_type": "markdown",
   "id": "50cd08df-62a0-42a2-b118-d1d4838813a4",
   "metadata": {},
   "source": [
    "## Other `functions()`"
   ]
  },
  {
   "cell_type": "code",
   "execution_count": 59,
   "id": "72113e6b-53dd-4f83-92c9-50a6244d3efd",
   "metadata": {},
   "outputs": [],
   "source": [
    "import plotly.express as px"
   ]
  },
  {
   "cell_type": "code",
   "execution_count": 60,
   "id": "cf6ea0e1-7ebd-4460-9590-3149d84738a9",
   "metadata": {},
   "outputs": [
    {
     "data": {
      "text/plain": [
       "name\n",
       "Josefina     Female\n",
       "Vicki          Male\n",
       "David          Male\n",
       "Curtis         Male\n",
       "Josephine    Female\n",
       "              ...  \n",
       "Frances        Male\n",
       "Harry        Female\n",
       "Adam         Female\n",
       "Christine      Male\n",
       "Kimberly       Male\n",
       "Name: sex, Length: 2455, dtype: object"
      ]
     },
     "execution_count": 60,
     "metadata": {},
     "output_type": "execute_result"
    }
   ],
   "source": [
    "df.sex"
   ]
  },
  {
   "cell_type": "code",
   "execution_count": 61,
   "id": "ab984028-7d76-4717-ba08-c73b180e0cbc",
   "metadata": {},
   "outputs": [
    {
     "data": {
      "text/plain": [
       "pandas.core.series.Series"
      ]
     },
     "execution_count": 61,
     "metadata": {},
     "output_type": "execute_result"
    }
   ],
   "source": [
    "type(df.sex)"
   ]
  },
  {
   "cell_type": "code",
   "execution_count": 62,
   "id": "cc75f383-61af-4dcb-b57a-1155a7fa6552",
   "metadata": {},
   "outputs": [
    {
     "data": {
      "text/plain": [
       "2455"
      ]
     },
     "execution_count": 62,
     "metadata": {},
     "output_type": "execute_result"
    }
   ],
   "source": [
    "df.sex.count()"
   ]
  },
  {
   "cell_type": "code",
   "execution_count": 63,
   "id": "048c0dfb-ebcd-4edb-b0f9-7460d42fa810",
   "metadata": {},
   "outputs": [
    {
     "data": {
      "application/vnd.plotly.v1+json": {
       "config": {
        "plotlyServerURL": "https://plot.ly"
       },
       "data": [
        {
         "alignmentgroup": "True",
         "hovertemplate": "age=%{x}<extra></extra>",
         "legendgroup": "",
         "marker": {
          "color": "#636efa"
         },
         "name": "",
         "notched": false,
         "offsetgroup": "",
         "orientation": "h",
         "showlegend": false,
         "type": "box",
         "x": [
          66,
          72,
          48,
          59,
          44,
          34,
          49,
          43,
          23,
          29,
          73,
          42,
          26,
          48,
          79,
          38,
          61,
          34,
          40,
          19,
          30,
          84,
          51,
          62,
          37,
          67,
          24,
          52,
          70,
          25,
          27,
          43,
          24,
          65,
          63,
          32,
          22,
          61,
          49,
          54,
          31,
          42,
          22,
          65,
          43,
          64,
          29,
          26,
          29,
          54,
          90,
          79,
          38,
          65,
          61,
          53,
          39,
          74,
          29,
          49,
          54,
          64,
          29,
          19,
          44,
          31,
          40,
          30,
          46,
          34,
          76,
          74,
          61,
          50,
          57,
          66,
          25,
          40,
          58,
          73,
          27,
          41,
          51,
          47,
          43,
          23,
          29,
          47,
          61,
          21,
          39,
          32,
          34,
          47,
          66,
          73,
          63,
          40,
          39,
          73,
          37,
          58,
          37,
          33,
          23,
          68,
          46,
          44,
          50,
          58,
          47,
          56,
          68,
          29,
          36,
          32,
          65,
          32,
          38,
          19,
          61,
          40,
          46,
          40,
          75,
          71,
          18,
          30,
          64,
          33,
          40,
          71,
          71,
          45,
          50,
          24,
          82,
          77,
          60,
          49,
          47,
          22,
          37,
          20,
          56,
          73,
          34,
          26,
          41,
          79,
          51,
          43,
          55,
          31,
          18,
          37,
          25,
          39,
          59,
          65,
          21,
          32,
          80,
          80,
          83,
          74,
          35,
          43,
          33,
          62,
          48,
          41,
          29,
          45,
          76,
          54,
          76,
          20,
          42,
          25,
          57,
          70,
          33,
          44,
          56,
          53,
          65,
          29,
          44,
          55,
          54,
          43,
          62,
          67,
          19,
          74,
          27,
          34,
          54,
          75,
          28,
          46,
          18,
          74,
          35,
          23,
          25,
          18,
          56,
          33,
          43,
          74,
          69,
          58,
          48,
          74,
          39,
          44,
          53,
          19,
          44,
          54,
          38,
          85,
          31,
          71,
          42,
          57,
          51,
          64,
          31,
          66,
          31,
          81,
          47,
          19,
          24,
          48,
          25,
          50,
          38,
          21,
          34,
          65,
          35,
          37,
          64,
          47,
          19,
          38,
          28,
          33,
          75,
          73,
          41,
          54,
          23,
          32,
          60,
          58,
          47,
          71,
          35,
          30,
          41,
          82,
          26,
          28,
          25,
          43,
          84,
          38,
          48,
          74,
          37,
          72,
          69,
          29,
          29,
          52,
          53,
          35,
          24,
          83,
          32,
          57,
          39,
          39,
          64,
          33,
          56,
          57,
          48,
          70,
          29,
          66,
          69,
          28,
          41,
          81,
          51,
          56,
          20,
          38,
          53,
          37,
          24,
          40,
          24,
          29,
          75,
          35,
          34,
          34,
          35,
          61,
          72,
          25,
          64,
          49,
          41,
          32,
          24,
          18,
          56,
          35,
          65,
          46,
          86,
          60,
          26,
          85,
          18,
          23,
          20,
          70,
          31,
          51,
          27,
          69,
          32,
          32,
          39,
          48,
          56,
          21,
          41,
          54,
          32,
          53,
          26,
          51,
          67,
          60,
          70,
          41,
          39,
          51,
          28,
          64,
          41,
          55,
          32,
          33,
          43,
          25,
          67,
          55,
          47,
          65,
          59,
          45,
          71,
          35,
          24,
          82,
          18,
          28,
          44,
          18,
          81,
          73,
          51,
          28,
          22,
          43,
          43,
          33,
          65,
          64,
          27,
          50,
          33,
          81,
          68,
          45,
          40,
          45,
          42,
          41,
          48,
          73,
          68,
          28,
          22,
          61,
          23,
          78,
          53,
          33,
          68,
          55,
          31,
          21,
          33,
          77,
          45,
          66,
          63,
          21,
          41,
          49,
          32,
          67,
          29,
          74,
          40,
          30,
          30,
          36,
          65,
          81,
          63,
          24,
          42,
          52,
          41,
          71,
          37,
          29,
          51,
          48,
          57,
          43,
          22,
          35,
          90,
          68,
          41,
          19,
          39,
          52,
          19,
          34,
          28,
          58,
          64,
          42,
          69,
          26,
          73,
          50,
          43,
          82,
          55,
          35,
          79,
          33,
          30,
          57,
          30,
          32,
          63,
          50,
          44,
          71,
          42,
          47,
          24,
          55,
          32,
          32,
          78,
          73,
          60,
          33,
          35,
          52,
          31,
          49,
          35,
          28,
          38,
          30,
          56,
          30,
          37,
          31,
          64,
          50,
          55,
          43,
          37,
          49,
          21,
          57,
          21,
          38,
          70,
          57,
          82,
          40,
          72,
          36,
          65,
          23,
          29,
          48,
          41,
          57,
          47,
          70,
          60,
          18,
          40,
          35,
          46,
          55,
          60,
          29,
          34,
          39,
          19,
          47,
          65,
          35,
          54,
          60,
          78,
          26,
          59,
          33,
          33,
          58,
          80,
          47,
          43,
          46,
          20,
          37,
          85,
          75,
          80,
          33,
          77,
          52,
          37,
          57,
          28,
          62,
          33,
          50,
          75,
          26,
          41,
          35,
          34,
          44,
          18,
          26,
          62,
          54,
          64,
          36,
          31,
          54,
          41,
          20,
          65,
          53,
          65,
          76,
          58,
          46,
          23,
          80,
          43,
          37,
          28,
          47,
          86,
          48,
          74,
          35,
          59,
          26,
          25,
          75,
          42,
          84,
          31,
          32,
          22,
          59,
          57,
          40,
          46,
          43,
          43,
          28,
          70,
          53,
          27,
          40,
          31,
          56,
          27,
          75,
          42,
          46,
          48,
          81,
          52,
          30,
          43,
          18,
          42,
          72,
          21,
          63,
          41,
          35,
          72,
          61,
          20,
          74,
          63,
          27,
          29,
          50,
          33,
          25,
          51,
          47,
          69,
          26,
          18,
          67,
          37,
          43,
          37,
          19,
          29,
          34,
          58,
          67,
          43,
          45,
          77,
          41,
          79,
          29,
          40,
          20,
          26,
          54,
          57,
          38,
          48,
          26,
          68,
          26,
          31,
          73,
          38,
          40,
          52,
          66,
          32,
          56,
          28,
          81,
          21,
          39,
          44,
          26,
          45,
          67,
          31,
          32,
          44,
          70,
          75,
          55,
          50,
          62,
          31,
          40,
          59,
          48,
          30,
          65,
          45,
          56,
          58,
          28,
          32,
          70,
          77,
          57,
          52,
          39,
          40,
          86,
          20,
          65,
          40,
          51,
          20,
          70,
          40,
          28,
          44,
          44,
          67,
          34,
          75,
          57,
          18,
          48,
          37,
          45,
          23,
          48,
          44,
          29,
          56,
          34,
          32,
          42,
          55,
          40,
          71,
          62,
          18,
          87,
          68,
          55,
          39,
          57,
          19,
          30,
          46,
          35,
          22,
          28,
          70,
          38,
          45,
          28,
          48,
          36,
          86,
          54,
          44,
          37,
          28,
          54,
          73,
          73,
          32,
          61,
          68,
          83,
          45,
          30,
          38,
          24,
          51,
          38,
          64,
          74,
          48,
          21,
          29,
          31,
          71,
          48,
          64,
          35,
          60,
          63,
          19,
          47,
          78,
          52,
          44,
          76,
          78,
          41,
          63,
          44,
          68,
          66,
          25,
          25,
          46,
          67,
          59,
          40,
          25,
          76,
          22,
          53,
          31,
          42,
          60,
          32,
          25,
          70,
          80,
          47,
          20,
          56,
          53,
          73,
          66,
          33,
          40,
          65,
          52,
          26,
          26,
          52,
          24,
          53,
          35,
          69,
          36,
          25,
          69,
          36,
          46,
          60,
          48,
          35,
          29,
          33,
          42,
          63,
          59,
          43,
          66,
          64,
          52,
          31,
          87,
          95,
          33,
          44,
          46,
          31,
          63,
          21,
          42,
          75,
          67,
          22,
          37,
          54,
          62,
          28,
          52,
          41,
          65,
          30,
          47,
          20,
          40,
          81,
          44,
          33,
          27,
          52,
          66,
          74,
          19,
          38,
          35,
          22,
          53,
          32,
          58,
          23,
          31,
          66,
          42,
          57,
          73,
          34,
          31,
          36,
          38,
          65,
          27,
          58,
          49,
          69,
          59,
          36,
          72,
          46,
          18,
          34,
          32,
          26,
          56,
          31,
          26,
          84,
          24,
          50,
          24,
          64,
          60,
          38,
          35,
          65,
          26,
          42,
          48,
          78,
          44,
          34,
          46,
          21,
          40,
          64,
          68,
          48,
          85,
          55,
          24,
          80,
          30,
          45,
          64,
          18,
          35,
          55,
          82,
          38,
          87,
          22,
          51,
          77,
          62,
          37,
          29,
          62,
          47,
          90,
          32,
          30,
          80,
          37,
          22,
          80,
          46,
          56,
          73,
          43,
          34,
          26,
          47,
          49,
          56,
          29,
          18,
          55,
          39,
          31,
          50,
          33,
          39,
          77,
          50,
          75,
          30,
          38,
          70,
          31,
          47,
          79,
          20,
          40,
          27,
          42,
          52,
          25,
          42,
          65,
          56,
          22,
          34,
          21,
          57,
          70,
          40,
          33,
          25,
          66,
          39,
          47,
          68,
          30,
          65,
          36,
          46,
          28,
          37,
          62,
          46,
          63,
          25,
          65,
          80,
          54,
          50,
          36,
          60,
          34,
          21,
          73,
          77,
          37,
          45,
          22,
          42,
          72,
          38,
          50,
          28,
          55,
          65,
          48,
          20,
          45,
          32,
          76,
          37,
          60,
          70,
          31,
          44,
          30,
          57,
          73,
          88,
          18,
          48,
          37,
          60,
          24,
          40,
          35,
          73,
          33,
          25,
          45,
          53,
          68,
          35,
          24,
          30,
          80,
          41,
          52,
          23,
          70,
          80,
          60,
          46,
          87,
          41,
          45,
          54,
          25,
          79,
          40,
          28,
          82,
          63,
          59,
          30,
          35,
          24,
          45,
          79,
          62,
          62,
          39,
          30,
          65,
          72,
          22,
          47,
          38,
          34,
          52,
          38,
          25,
          50,
          76,
          23,
          45,
          24,
          56,
          35,
          68,
          34,
          79,
          31,
          59,
          47,
          35,
          77,
          44,
          42,
          66,
          58,
          44,
          54,
          71,
          25,
          55,
          39,
          67,
          58,
          19,
          49,
          33,
          74,
          58,
          65,
          35,
          35,
          30,
          68,
          45,
          64,
          74,
          75,
          45,
          30,
          22,
          63,
          45,
          54,
          31,
          34,
          39,
          70,
          34,
          51,
          23,
          83,
          44,
          40,
          35,
          63,
          71,
          63,
          43,
          51,
          30,
          32,
          18,
          68,
          26,
          82,
          73,
          54,
          22,
          21,
          76,
          80,
          42,
          52,
          60,
          28,
          43,
          45,
          36,
          18,
          34,
          53,
          48,
          33,
          47,
          36,
          75,
          49,
          61,
          33,
          49,
          18,
          25,
          68,
          75,
          50,
          69,
          43,
          75,
          25,
          48,
          27,
          46,
          42,
          72,
          36,
          66,
          31,
          31,
          42,
          68,
          18,
          26,
          49,
          44,
          31,
          58,
          57,
          61,
          42,
          31,
          31,
          54,
          43,
          70,
          38,
          27,
          34,
          66,
          52,
          36,
          70,
          66,
          32,
          73,
          24,
          64,
          77,
          49,
          62,
          59,
          57,
          27,
          19,
          26,
          60,
          23,
          54,
          72,
          50,
          33,
          53,
          56,
          25,
          58,
          86,
          37,
          33,
          37,
          75,
          55,
          50,
          42,
          25,
          31,
          64,
          39,
          36,
          67,
          32,
          41,
          18,
          36,
          50,
          33,
          39,
          34,
          31,
          33,
          52,
          80,
          35,
          63,
          31,
          60,
          44,
          37,
          71,
          31,
          76,
          73,
          28,
          43,
          21,
          79,
          41,
          44,
          23,
          18,
          53,
          44,
          55,
          61,
          33,
          35,
          20,
          62,
          25,
          50,
          37,
          34,
          63,
          19,
          49,
          30,
          37,
          42,
          27,
          76,
          75,
          73,
          39,
          27,
          60,
          24,
          42,
          57,
          31,
          80,
          25,
          78,
          49,
          50,
          38,
          36,
          24,
          32,
          25,
          26,
          68,
          65,
          65,
          78,
          19,
          52,
          57,
          55,
          28,
          30,
          40,
          24,
          80,
          27,
          22,
          48,
          20,
          48,
          39,
          35,
          51,
          33,
          70,
          35,
          29,
          37,
          52,
          55,
          24,
          18,
          60,
          34,
          44,
          69,
          32,
          34,
          49,
          40,
          42,
          34,
          53,
          22,
          34,
          70,
          45,
          40,
          45,
          18,
          34,
          64,
          74,
          34,
          47,
          28,
          55,
          32,
          35,
          74,
          76,
          40,
          52,
          57,
          29,
          40,
          38,
          42,
          22,
          47,
          28,
          21,
          30,
          40,
          36,
          58,
          36,
          18,
          48,
          34,
          32,
          27,
          83,
          35,
          52,
          54,
          25,
          66,
          22,
          47,
          50,
          25,
          40,
          59,
          26,
          95,
          63,
          65,
          33,
          48,
          63,
          36,
          56,
          48,
          37,
          45,
          59,
          73,
          71,
          66,
          60,
          60,
          38,
          27,
          33,
          22,
          70,
          21,
          63,
          41,
          27,
          87,
          75,
          57,
          39,
          53,
          52,
          26,
          38,
          65,
          41,
          64,
          33,
          24,
          34,
          38,
          57,
          80,
          59,
          27,
          39,
          32,
          24,
          55,
          20,
          50,
          36,
          30,
          72,
          31,
          80,
          27,
          81,
          53,
          45,
          44,
          54,
          30,
          66,
          64,
          53,
          61,
          23,
          31,
          22,
          28,
          25,
          55,
          42,
          65,
          35,
          29,
          35,
          53,
          72,
          45,
          25,
          33,
          50,
          62,
          40,
          71,
          38,
          23,
          18,
          39,
          52,
          64,
          75,
          24,
          43,
          66,
          33,
          27,
          37,
          44,
          63,
          70,
          36,
          19,
          51,
          28,
          31,
          27,
          32,
          47,
          23,
          62,
          73,
          68,
          50,
          41,
          53,
          76,
          18,
          32,
          25,
          24,
          43,
          40,
          28,
          64,
          79,
          31,
          46,
          35,
          26,
          36,
          74,
          63,
          20,
          26,
          45,
          28,
          41,
          74,
          64,
          40,
          50,
          71,
          34,
          40,
          62,
          51,
          38,
          78,
          52,
          25,
          24,
          36,
          33,
          67,
          77,
          26,
          55,
          57,
          39,
          25,
          36,
          75,
          45,
          20,
          34,
          69,
          52,
          28,
          43,
          18,
          62,
          48,
          39,
          71,
          28,
          60,
          23,
          72,
          40,
          79,
          51,
          26,
          37,
          29,
          39,
          61,
          53,
          33,
          37,
          58,
          48,
          28,
          80,
          77,
          53,
          78,
          37,
          46,
          20,
          62,
          29,
          69,
          33,
          34,
          38,
          45,
          36,
          23,
          78,
          73,
          59,
          19,
          39,
          51,
          37,
          79,
          18,
          64,
          25,
          32,
          48,
          57,
          25,
          68,
          73,
          18,
          45,
          40,
          65,
          44,
          68,
          72,
          47,
          69,
          28,
          23,
          64,
          31,
          51,
          41,
          80,
          54,
          47,
          63,
          23,
          60,
          25,
          39,
          44,
          45,
          87,
          51,
          73,
          21,
          51,
          41,
          68,
          74,
          35,
          31,
          81,
          62,
          30,
          42,
          32,
          59,
          54,
          25,
          72,
          25,
          39,
          76,
          56,
          49,
          81,
          65,
          53,
          58,
          52,
          46,
          23,
          62,
          48,
          75,
          69,
          28,
          25,
          42,
          19,
          58,
          59,
          54,
          21,
          34,
          52,
          82,
          29,
          62,
          37,
          48,
          45,
          79,
          70,
          84,
          54,
          37,
          55,
          31,
          72,
          68,
          46,
          29,
          45,
          77,
          43,
          22,
          42,
          56,
          34,
          73,
          43,
          25,
          25,
          39,
          49,
          23,
          57,
          56,
          19,
          43,
          44,
          59,
          51,
          67,
          30,
          26,
          69,
          22,
          53,
          72,
          31,
          61,
          48,
          24,
          35,
          35,
          29,
          40,
          27,
          59,
          56,
          55,
          80,
          19,
          66,
          29,
          41,
          55,
          30,
          20,
          48,
          66,
          75,
          41,
          31,
          34,
          43,
          63,
          66,
          64,
          52,
          40,
          44,
          59,
          69,
          29,
          19,
          83,
          33,
          64,
          67,
          31,
          50,
          24,
          80,
          37,
          54,
          39,
          26,
          20,
          60,
          69,
          34,
          49,
          62,
          45,
          35,
          34,
          75,
          68,
          47,
          48,
          44,
          25,
          42,
          39,
          76,
          79,
          25,
          29,
          58,
          46,
          74,
          68,
          77,
          25,
          21,
          38,
          52,
          44,
          27,
          34,
          49,
          28,
          63,
          44,
          56,
          21,
          70,
          43,
          45,
          50,
          42,
          19,
          31,
          33,
          35,
          62,
          67,
          19,
          57,
          26,
          39,
          72,
          23,
          26,
          39,
          49,
          28,
          23,
          25,
          61,
          32,
          33,
          34,
          68,
          42,
          37,
          43,
          93,
          40,
          18,
          62,
          43,
          40,
          59,
          73,
          32,
          45,
          45,
          61,
          66,
          55,
          50,
          50,
          39,
          27,
          51,
          78,
          60,
          80,
          34,
          69,
          27,
          45,
          49,
          55,
          44,
          29,
          34,
          43,
          24,
          24,
          58,
          65,
          24,
          52,
          36,
          29,
          37,
          70,
          86,
          25,
          48,
          41,
          50,
          21,
          70,
          25,
          77,
          63,
          53,
          28,
          79,
          24,
          43,
          24,
          41,
          32,
          30,
          70,
          32,
          48,
          40,
          51,
          65,
          49,
          58,
          32,
          37,
          22,
          22,
          60,
          78,
          32,
          39,
          54,
          25,
          39,
          32,
          79,
          21,
          60,
          71,
          24,
          50,
          64,
          31,
          44,
          57,
          54,
          68,
          30,
          46,
          43,
          55,
          72,
          26,
          44,
          75,
          48,
          71,
          64,
          52,
          36,
          40,
          30,
          49,
          46,
          22,
          30,
          44,
          18,
          35,
          48,
          63,
          79,
          40,
          43,
          66,
          25,
          21,
          40,
          44,
          41,
          85,
          73,
          52,
          50,
          58,
          58,
          41,
          50,
          48,
          26,
          74,
          78,
          38,
          33,
          40,
          45,
          40,
          43,
          19,
          64,
          40,
          69,
          31,
          51,
          24,
          31,
          30,
          62,
          33,
          40,
          42,
          60,
          65,
          62,
          26,
          79,
          27,
          38,
          24,
          46,
          65,
          24,
          35,
          74,
          35,
          20,
          51,
          64,
          66,
          60,
          41,
          75,
          45,
          44,
          61,
          58,
          78,
          27,
          25,
          43,
          20,
          29,
          43,
          58,
          84,
          51,
          22,
          37,
          34,
          18,
          65,
          65,
          32,
          41,
          51,
          51,
          65,
          43,
          64,
          37,
          34,
          53,
          69,
          19,
          21,
          60,
          39,
          34,
          48,
          70,
          25,
          21,
          64,
          30,
          38,
          19,
          76,
          52,
          81,
          37,
          49,
          27,
          33,
          39,
          74,
          53,
          61,
          35,
          83,
          32,
          78,
          31,
          25,
          54,
          43,
          59,
          69,
          19,
          20,
          60,
          47,
          31,
          33,
          42,
          71,
          60,
          83,
          49,
          43,
          28,
          43,
          45,
          79,
          20,
          20,
          38,
          60,
          27,
          26,
          72,
          42,
          36,
          64,
          46,
          26,
          34,
          37,
          54,
          29,
          21,
          36,
          23,
          70,
          45,
          70,
          61,
          40,
          24,
          29,
          59,
          38,
          45,
          40,
          82,
          51,
          77,
          28,
          54,
          69,
          39,
          23,
          28,
          30,
          37,
          42,
          46,
          89,
          26,
          22,
          31,
          71,
          59,
          78,
          41,
          64,
          39,
          53,
          33,
          63,
          33,
          43,
          38,
          52,
          38,
          24,
          41,
          79,
          46,
          59,
          40,
          59,
          25,
          77,
          62,
          28,
          33,
          36,
          38,
          34,
          49,
          60,
          80,
          66,
          45,
          39,
          42,
          59,
          67,
          31,
          54,
          62,
          39,
          28,
          70,
          58,
          45,
          65,
          37,
          46,
          32,
          70,
          33,
          21,
          70,
          47,
          30,
          56,
          68,
          56,
          28,
          22,
          49,
          72,
          24,
          59,
          40,
          40,
          65,
          27,
          49,
          72,
          32,
          65,
          31,
          20,
          18,
          36,
          60,
          28,
          39,
          45,
          47,
          41,
          75,
          48,
          44,
          32,
          63,
          58,
          79,
          73,
          28,
          18,
          37,
          53,
          43,
          50,
          74,
          80,
          68,
          77,
          27,
          32,
          48,
          24,
          64,
          23,
          18,
          54,
          64,
          65,
          39,
          35,
          63,
          45,
          33,
          23,
          69,
          61,
          67,
          28,
          36,
          49,
          55,
          40,
          36,
          25,
          65,
          34,
          87,
          50,
          30,
          84,
          36,
          48,
          28,
          64,
          43,
          45,
          64,
          64,
          80,
          80,
          39,
          67,
          69,
          41,
          20,
          45,
          64,
          71,
          41,
          27,
          59,
          58,
          29,
          69,
          57,
          66,
          50,
          49,
          19,
          82,
          33,
          43,
          41,
          48,
          25,
          28,
          40,
          47,
          41,
          55,
          70,
          30,
          33,
          21,
          65,
          56,
          39,
          44,
          44,
          82,
          78,
          56,
          46,
          61,
          21,
          23,
          25,
          81,
          53,
          68,
          35,
          29,
          43,
          53,
          82,
          38,
          29,
          48,
          44,
          33,
          21,
          49,
          56,
          39,
          46,
          28,
          29,
          35,
          60,
          70,
          21,
          64,
          72,
          62,
          66,
          60,
          31,
          53,
          82,
          34,
          44,
          74,
          77,
          51,
          38,
          80,
          33,
          21,
          54,
          27,
          64,
          92,
          43,
          18,
          54,
          31,
          52
         ],
         "x0": " ",
         "xaxis": "x",
         "y0": " ",
         "yaxis": "y"
        }
       ],
       "layout": {
        "autosize": true,
        "boxmode": "group",
        "legend": {
         "tracegroupgap": 0
        },
        "margin": {
         "t": 60
        },
        "template": {
         "data": {
          "bar": [
           {
            "error_x": {
             "color": "#2a3f5f"
            },
            "error_y": {
             "color": "#2a3f5f"
            },
            "marker": {
             "line": {
              "color": "#E5ECF6",
              "width": 0.5
             },
             "pattern": {
              "fillmode": "overlay",
              "size": 10,
              "solidity": 0.2
             }
            },
            "type": "bar"
           }
          ],
          "barpolar": [
           {
            "marker": {
             "line": {
              "color": "#E5ECF6",
              "width": 0.5
             },
             "pattern": {
              "fillmode": "overlay",
              "size": 10,
              "solidity": 0.2
             }
            },
            "type": "barpolar"
           }
          ],
          "carpet": [
           {
            "aaxis": {
             "endlinecolor": "#2a3f5f",
             "gridcolor": "white",
             "linecolor": "white",
             "minorgridcolor": "white",
             "startlinecolor": "#2a3f5f"
            },
            "baxis": {
             "endlinecolor": "#2a3f5f",
             "gridcolor": "white",
             "linecolor": "white",
             "minorgridcolor": "white",
             "startlinecolor": "#2a3f5f"
            },
            "type": "carpet"
           }
          ],
          "choropleth": [
           {
            "colorbar": {
             "outlinewidth": 0,
             "ticks": ""
            },
            "type": "choropleth"
           }
          ],
          "contour": [
           {
            "colorbar": {
             "outlinewidth": 0,
             "ticks": ""
            },
            "colorscale": [
             [
              0,
              "#0d0887"
             ],
             [
              0.1111111111111111,
              "#46039f"
             ],
             [
              0.2222222222222222,
              "#7201a8"
             ],
             [
              0.3333333333333333,
              "#9c179e"
             ],
             [
              0.4444444444444444,
              "#bd3786"
             ],
             [
              0.5555555555555556,
              "#d8576b"
             ],
             [
              0.6666666666666666,
              "#ed7953"
             ],
             [
              0.7777777777777778,
              "#fb9f3a"
             ],
             [
              0.8888888888888888,
              "#fdca26"
             ],
             [
              1,
              "#f0f921"
             ]
            ],
            "type": "contour"
           }
          ],
          "contourcarpet": [
           {
            "colorbar": {
             "outlinewidth": 0,
             "ticks": ""
            },
            "type": "contourcarpet"
           }
          ],
          "heatmap": [
           {
            "colorbar": {
             "outlinewidth": 0,
             "ticks": ""
            },
            "colorscale": [
             [
              0,
              "#0d0887"
             ],
             [
              0.1111111111111111,
              "#46039f"
             ],
             [
              0.2222222222222222,
              "#7201a8"
             ],
             [
              0.3333333333333333,
              "#9c179e"
             ],
             [
              0.4444444444444444,
              "#bd3786"
             ],
             [
              0.5555555555555556,
              "#d8576b"
             ],
             [
              0.6666666666666666,
              "#ed7953"
             ],
             [
              0.7777777777777778,
              "#fb9f3a"
             ],
             [
              0.8888888888888888,
              "#fdca26"
             ],
             [
              1,
              "#f0f921"
             ]
            ],
            "type": "heatmap"
           }
          ],
          "heatmapgl": [
           {
            "colorbar": {
             "outlinewidth": 0,
             "ticks": ""
            },
            "colorscale": [
             [
              0,
              "#0d0887"
             ],
             [
              0.1111111111111111,
              "#46039f"
             ],
             [
              0.2222222222222222,
              "#7201a8"
             ],
             [
              0.3333333333333333,
              "#9c179e"
             ],
             [
              0.4444444444444444,
              "#bd3786"
             ],
             [
              0.5555555555555556,
              "#d8576b"
             ],
             [
              0.6666666666666666,
              "#ed7953"
             ],
             [
              0.7777777777777778,
              "#fb9f3a"
             ],
             [
              0.8888888888888888,
              "#fdca26"
             ],
             [
              1,
              "#f0f921"
             ]
            ],
            "type": "heatmapgl"
           }
          ],
          "histogram": [
           {
            "marker": {
             "pattern": {
              "fillmode": "overlay",
              "size": 10,
              "solidity": 0.2
             }
            },
            "type": "histogram"
           }
          ],
          "histogram2d": [
           {
            "colorbar": {
             "outlinewidth": 0,
             "ticks": ""
            },
            "colorscale": [
             [
              0,
              "#0d0887"
             ],
             [
              0.1111111111111111,
              "#46039f"
             ],
             [
              0.2222222222222222,
              "#7201a8"
             ],
             [
              0.3333333333333333,
              "#9c179e"
             ],
             [
              0.4444444444444444,
              "#bd3786"
             ],
             [
              0.5555555555555556,
              "#d8576b"
             ],
             [
              0.6666666666666666,
              "#ed7953"
             ],
             [
              0.7777777777777778,
              "#fb9f3a"
             ],
             [
              0.8888888888888888,
              "#fdca26"
             ],
             [
              1,
              "#f0f921"
             ]
            ],
            "type": "histogram2d"
           }
          ],
          "histogram2dcontour": [
           {
            "colorbar": {
             "outlinewidth": 0,
             "ticks": ""
            },
            "colorscale": [
             [
              0,
              "#0d0887"
             ],
             [
              0.1111111111111111,
              "#46039f"
             ],
             [
              0.2222222222222222,
              "#7201a8"
             ],
             [
              0.3333333333333333,
              "#9c179e"
             ],
             [
              0.4444444444444444,
              "#bd3786"
             ],
             [
              0.5555555555555556,
              "#d8576b"
             ],
             [
              0.6666666666666666,
              "#ed7953"
             ],
             [
              0.7777777777777778,
              "#fb9f3a"
             ],
             [
              0.8888888888888888,
              "#fdca26"
             ],
             [
              1,
              "#f0f921"
             ]
            ],
            "type": "histogram2dcontour"
           }
          ],
          "mesh3d": [
           {
            "colorbar": {
             "outlinewidth": 0,
             "ticks": ""
            },
            "type": "mesh3d"
           }
          ],
          "parcoords": [
           {
            "line": {
             "colorbar": {
              "outlinewidth": 0,
              "ticks": ""
             }
            },
            "type": "parcoords"
           }
          ],
          "pie": [
           {
            "automargin": true,
            "type": "pie"
           }
          ],
          "scatter": [
           {
            "marker": {
             "colorbar": {
              "outlinewidth": 0,
              "ticks": ""
             }
            },
            "type": "scatter"
           }
          ],
          "scatter3d": [
           {
            "line": {
             "colorbar": {
              "outlinewidth": 0,
              "ticks": ""
             }
            },
            "marker": {
             "colorbar": {
              "outlinewidth": 0,
              "ticks": ""
             }
            },
            "type": "scatter3d"
           }
          ],
          "scattercarpet": [
           {
            "marker": {
             "colorbar": {
              "outlinewidth": 0,
              "ticks": ""
             }
            },
            "type": "scattercarpet"
           }
          ],
          "scattergeo": [
           {
            "marker": {
             "colorbar": {
              "outlinewidth": 0,
              "ticks": ""
             }
            },
            "type": "scattergeo"
           }
          ],
          "scattergl": [
           {
            "marker": {
             "colorbar": {
              "outlinewidth": 0,
              "ticks": ""
             }
            },
            "type": "scattergl"
           }
          ],
          "scattermapbox": [
           {
            "marker": {
             "colorbar": {
              "outlinewidth": 0,
              "ticks": ""
             }
            },
            "type": "scattermapbox"
           }
          ],
          "scatterpolar": [
           {
            "marker": {
             "colorbar": {
              "outlinewidth": 0,
              "ticks": ""
             }
            },
            "type": "scatterpolar"
           }
          ],
          "scatterpolargl": [
           {
            "marker": {
             "colorbar": {
              "outlinewidth": 0,
              "ticks": ""
             }
            },
            "type": "scatterpolargl"
           }
          ],
          "scatterternary": [
           {
            "marker": {
             "colorbar": {
              "outlinewidth": 0,
              "ticks": ""
             }
            },
            "type": "scatterternary"
           }
          ],
          "surface": [
           {
            "colorbar": {
             "outlinewidth": 0,
             "ticks": ""
            },
            "colorscale": [
             [
              0,
              "#0d0887"
             ],
             [
              0.1111111111111111,
              "#46039f"
             ],
             [
              0.2222222222222222,
              "#7201a8"
             ],
             [
              0.3333333333333333,
              "#9c179e"
             ],
             [
              0.4444444444444444,
              "#bd3786"
             ],
             [
              0.5555555555555556,
              "#d8576b"
             ],
             [
              0.6666666666666666,
              "#ed7953"
             ],
             [
              0.7777777777777778,
              "#fb9f3a"
             ],
             [
              0.8888888888888888,
              "#fdca26"
             ],
             [
              1,
              "#f0f921"
             ]
            ],
            "type": "surface"
           }
          ],
          "table": [
           {
            "cells": {
             "fill": {
              "color": "#EBF0F8"
             },
             "line": {
              "color": "white"
             }
            },
            "header": {
             "fill": {
              "color": "#C8D4E3"
             },
             "line": {
              "color": "white"
             }
            },
            "type": "table"
           }
          ]
         },
         "layout": {
          "annotationdefaults": {
           "arrowcolor": "#2a3f5f",
           "arrowhead": 0,
           "arrowwidth": 1
          },
          "autotypenumbers": "strict",
          "coloraxis": {
           "colorbar": {
            "outlinewidth": 0,
            "ticks": ""
           }
          },
          "colorscale": {
           "diverging": [
            [
             0,
             "#8e0152"
            ],
            [
             0.1,
             "#c51b7d"
            ],
            [
             0.2,
             "#de77ae"
            ],
            [
             0.3,
             "#f1b6da"
            ],
            [
             0.4,
             "#fde0ef"
            ],
            [
             0.5,
             "#f7f7f7"
            ],
            [
             0.6,
             "#e6f5d0"
            ],
            [
             0.7,
             "#b8e186"
            ],
            [
             0.8,
             "#7fbc41"
            ],
            [
             0.9,
             "#4d9221"
            ],
            [
             1,
             "#276419"
            ]
           ],
           "sequential": [
            [
             0,
             "#0d0887"
            ],
            [
             0.1111111111111111,
             "#46039f"
            ],
            [
             0.2222222222222222,
             "#7201a8"
            ],
            [
             0.3333333333333333,
             "#9c179e"
            ],
            [
             0.4444444444444444,
             "#bd3786"
            ],
            [
             0.5555555555555556,
             "#d8576b"
            ],
            [
             0.6666666666666666,
             "#ed7953"
            ],
            [
             0.7777777777777778,
             "#fb9f3a"
            ],
            [
             0.8888888888888888,
             "#fdca26"
            ],
            [
             1,
             "#f0f921"
            ]
           ],
           "sequentialminus": [
            [
             0,
             "#0d0887"
            ],
            [
             0.1111111111111111,
             "#46039f"
            ],
            [
             0.2222222222222222,
             "#7201a8"
            ],
            [
             0.3333333333333333,
             "#9c179e"
            ],
            [
             0.4444444444444444,
             "#bd3786"
            ],
            [
             0.5555555555555556,
             "#d8576b"
            ],
            [
             0.6666666666666666,
             "#ed7953"
            ],
            [
             0.7777777777777778,
             "#fb9f3a"
            ],
            [
             0.8888888888888888,
             "#fdca26"
            ],
            [
             1,
             "#f0f921"
            ]
           ]
          },
          "colorway": [
           "#636efa",
           "#EF553B",
           "#00cc96",
           "#ab63fa",
           "#FFA15A",
           "#19d3f3",
           "#FF6692",
           "#B6E880",
           "#FF97FF",
           "#FECB52"
          ],
          "font": {
           "color": "#2a3f5f"
          },
          "geo": {
           "bgcolor": "white",
           "lakecolor": "white",
           "landcolor": "#E5ECF6",
           "showlakes": true,
           "showland": true,
           "subunitcolor": "white"
          },
          "hoverlabel": {
           "align": "left"
          },
          "hovermode": "closest",
          "mapbox": {
           "style": "light"
          },
          "paper_bgcolor": "white",
          "plot_bgcolor": "#E5ECF6",
          "polar": {
           "angularaxis": {
            "gridcolor": "white",
            "linecolor": "white",
            "ticks": ""
           },
           "bgcolor": "#E5ECF6",
           "radialaxis": {
            "gridcolor": "white",
            "linecolor": "white",
            "ticks": ""
           }
          },
          "scene": {
           "xaxis": {
            "backgroundcolor": "#E5ECF6",
            "gridcolor": "white",
            "gridwidth": 2,
            "linecolor": "white",
            "showbackground": true,
            "ticks": "",
            "zerolinecolor": "white"
           },
           "yaxis": {
            "backgroundcolor": "#E5ECF6",
            "gridcolor": "white",
            "gridwidth": 2,
            "linecolor": "white",
            "showbackground": true,
            "ticks": "",
            "zerolinecolor": "white"
           },
           "zaxis": {
            "backgroundcolor": "#E5ECF6",
            "gridcolor": "white",
            "gridwidth": 2,
            "linecolor": "white",
            "showbackground": true,
            "ticks": "",
            "zerolinecolor": "white"
           }
          },
          "shapedefaults": {
           "line": {
            "color": "#2a3f5f"
           }
          },
          "ternary": {
           "aaxis": {
            "gridcolor": "white",
            "linecolor": "white",
            "ticks": ""
           },
           "baxis": {
            "gridcolor": "white",
            "linecolor": "white",
            "ticks": ""
           },
           "bgcolor": "#E5ECF6",
           "caxis": {
            "gridcolor": "white",
            "linecolor": "white",
            "ticks": ""
           }
          },
          "title": {
           "x": 0.05
          },
          "xaxis": {
           "automargin": true,
           "gridcolor": "white",
           "linecolor": "white",
           "ticks": "",
           "title": {
            "standoff": 15
           },
           "zerolinecolor": "white",
           "zerolinewidth": 2
          },
          "yaxis": {
           "automargin": true,
           "gridcolor": "white",
           "linecolor": "white",
           "ticks": "",
           "title": {
            "standoff": 15
           },
           "zerolinecolor": "white",
           "zerolinewidth": 2
          }
         }
        },
        "xaxis": {
         "anchor": "y",
         "autorange": true,
         "domain": [
          0,
          1
         ],
         "range": [
          13.722222222222221,
          99.27777777777777
         ],
         "title": {
          "text": "age"
         },
         "type": "linear"
        },
        "yaxis": {
         "anchor": "x",
         "autorange": true,
         "domain": [
          0,
          1
         ],
         "range": [
          -0.5,
          0.5
         ],
         "type": "category"
        }
       }
      },
      "image/png": "[encoded data removed]",
      "text/html": [
       "<div>                            <div id=\"1910ab8b-ef4d-4c9e-8ed2-ca5c06c51031\" class=\"plotly-graph-div\" style=\"height:525px; width:100%;\"></div>            <script type=\"text/javascript\">                require([\"plotly\"], function(Plotly) {                    window.PLOTLYENV=window.PLOTLYENV || {};                                    if (document.getElementById(\"1910ab8b-ef4d-4c9e-8ed2-ca5c06c51031\")) {                    Plotly.newPlot(                        \"1910ab8b-ef4d-4c9e-8ed2-ca5c06c51031\",                        [{\"alignmentgroup\":\"True\",\"hovertemplate\":\"age=%{x}<extra></extra>\",\"legendgroup\":\"\",\"marker\":{\"color\":\"#636efa\"},\"name\":\"\",\"notched\":false,\"offsetgroup\":\"\",\"orientation\":\"h\",\"showlegend\":false,\"x\":[66,72,48,59,44,34,49,43,23,29,73,42,26,48,79,38,61,34,40,19,30,84,51,62,37,67,24,52,70,25,27,43,24,65,63,32,22,61,49,54,31,42,22,65,43,64,29,26,29,54,90,79,38,65,61,53,39,74,29,49,54,64,29,19,44,31,40,30,46,34,76,74,61,50,57,66,25,40,58,73,27,41,51,47,43,23,29,47,61,21,39,32,34,47,66,73,63,40,39,73,37,58,37,33,23,68,46,44,50,58,47,56,68,29,36,32,65,32,38,19,61,40,46,40,75,71,18,30,64,33,40,71,71,45,50,24,82,77,60,49,47,22,37,20,56,73,34,26,41,79,51,43,55,31,18,37,25,39,59,65,21,32,80,80,83,74,35,43,33,62,48,41,29,45,76,54,76,20,42,25,57,70,33,44,56,53,65,29,44,55,54,43,62,67,19,74,27,34,54,75,28,46,18,74,35,23,25,18,56,33,43,74,69,58,48,74,39,44,53,19,44,54,38,85,31,71,42,57,51,64,31,66,31,81,47,19,24,48,25,50,38,21,34,65,35,37,64,47,19,38,28,33,75,73,41,54,23,32,60,58,47,71,35,30,41,82,26,28,25,43,84,38,48,74,37,72,69,29,29,52,53,35,24,83,32,57,39,39,64,33,56,57,48,70,29,66,69,28,41,81,51,56,20,38,53,37,24,40,24,29,75,35,34,34,35,61,72,25,64,49,41,32,24,18,56,35,65,46,86,60,26,85,18,23,20,70,31,51,27,69,32,32,39,48,56,21,41,54,32,53,26,51,67,60,70,41,39,51,28,64,41,55,32,33,43,25,67,55,47,65,59,45,71,35,24,82,18,28,44,18,81,73,51,28,22,43,43,33,65,64,27,50,33,81,68,45,40,45,42,41,48,73,68,28,22,61,23,78,53,33,68,55,31,21,33,77,45,66,63,21,41,49,32,67,29,74,40,30,30,36,65,81,63,24,42,52,41,71,37,29,51,48,57,43,22,35,90,68,41,19,39,52,19,34,28,58,64,42,69,26,73,50,43,82,55,35,79,33,30,57,30,32,63,50,44,71,42,47,24,55,32,32,78,73,60,33,35,52,31,49,35,28,38,30,56,30,37,31,64,50,55,43,37,49,21,57,21,38,70,57,82,40,72,36,65,23,29,48,41,57,47,70,60,18,40,35,46,55,60,29,34,39,19,47,65,35,54,60,78,26,59,33,33,58,80,47,43,46,20,37,85,75,80,33,77,52,37,57,28,62,33,50,75,26,41,35,34,44,18,26,62,54,64,36,31,54,41,20,65,53,65,76,58,46,23,80,43,37,28,47,86,48,74,35,59,26,25,75,42,84,31,32,22,59,57,40,46,43,43,28,70,53,27,40,31,56,27,75,42,46,48,81,52,30,43,18,42,72,21,63,41,35,72,61,20,74,63,27,29,50,33,25,51,47,69,26,18,67,37,43,37,19,29,34,58,67,43,45,77,41,79,29,40,20,26,54,57,38,48,26,68,26,31,73,38,40,52,66,32,56,28,81,21,39,44,26,45,67,31,32,44,70,75,55,50,62,31,40,59,48,30,65,45,56,58,28,32,70,77,57,52,39,40,86,20,65,40,51,20,70,40,28,44,44,67,34,75,57,18,48,37,45,23,48,44,29,56,34,32,42,55,40,71,62,18,87,68,55,39,57,19,30,46,35,22,28,70,38,45,28,48,36,86,54,44,37,28,54,73,73,32,61,68,83,45,30,38,24,51,38,64,74,48,21,29,31,71,48,64,35,60,63,19,47,78,52,44,76,78,41,63,44,68,66,25,25,46,67,59,40,25,76,22,53,31,42,60,32,25,70,80,47,20,56,53,73,66,33,40,65,52,26,26,52,24,53,35,69,36,25,69,36,46,60,48,35,29,33,42,63,59,43,66,64,52,31,87,95,33,44,46,31,63,21,42,75,67,22,37,54,62,28,52,41,65,30,47,20,40,81,44,33,27,52,66,74,19,38,35,22,53,32,58,23,31,66,42,57,73,34,31,36,38,65,27,58,49,69,59,36,72,46,18,34,32,26,56,31,26,84,24,50,24,64,60,38,35,65,26,42,48,78,44,34,46,21,40,64,68,48,85,55,24,80,30,45,64,18,35,55,82,38,87,22,51,77,62,37,29,62,47,90,32,30,80,37,22,80,46,56,73,43,34,26,47,49,56,29,18,55,39,31,50,33,39,77,50,75,30,38,70,31,47,79,20,40,27,42,52,25,42,65,56,22,34,21,57,70,40,33,25,66,39,47,68,30,65,36,46,28,37,62,46,63,25,65,80,54,50,36,60,34,21,73,77,37,45,22,42,72,38,50,28,55,65,48,20,45,32,76,37,60,70,31,44,30,57,73,88,18,48,37,60,24,40,35,73,33,25,45,53,68,35,24,30,80,41,52,23,70,80,60,46,87,41,45,54,25,79,40,28,82,63,59,30,35,24,45,79,62,62,39,30,65,72,22,47,38,34,52,38,25,50,76,23,45,24,56,35,68,34,79,31,59,47,35,77,44,42,66,58,44,54,71,25,55,39,67,58,19,49,33,74,58,65,35,35,30,68,45,64,74,75,45,30,22,63,45,54,31,34,39,70,34,51,23,83,44,40,35,63,71,63,43,51,30,32,18,68,26,82,73,54,22,21,76,80,42,52,60,28,43,45,36,18,34,53,48,33,47,36,75,49,61,33,49,18,25,68,75,50,69,43,75,25,48,27,46,42,72,36,66,31,31,42,68,18,26,49,44,31,58,57,61,42,31,31,54,43,70,38,27,34,66,52,36,70,66,32,73,24,64,77,49,62,59,57,27,19,26,60,23,54,72,50,33,53,56,25,58,86,37,33,37,75,55,50,42,25,31,64,39,36,67,32,41,18,36,50,33,39,34,31,33,52,80,35,63,31,60,44,37,71,31,76,73,28,43,21,79,41,44,23,18,53,44,55,61,33,35,20,62,25,50,37,34,63,19,49,30,37,42,27,76,75,73,39,27,60,24,42,57,31,80,25,78,49,50,38,36,24,32,25,26,68,65,65,78,19,52,57,55,28,30,40,24,80,27,22,48,20,48,39,35,51,33,70,35,29,37,52,55,24,18,60,34,44,69,32,34,49,40,42,34,53,22,34,70,45,40,45,18,34,64,74,34,47,28,55,32,35,74,76,40,52,57,29,40,38,42,22,47,28,21,30,40,36,58,36,18,48,34,32,27,83,35,52,54,25,66,22,47,50,25,40,59,26,95,63,65,33,48,63,36,56,48,37,45,59,73,71,66,60,60,38,27,33,22,70,21,63,41,27,87,75,57,39,53,52,26,38,65,41,64,33,24,34,38,57,80,59,27,39,32,24,55,20,50,36,30,72,31,80,27,81,53,45,44,54,30,66,64,53,61,23,31,22,28,25,55,42,65,35,29,35,53,72,45,25,33,50,62,40,71,38,23,18,39,52,64,75,24,43,66,33,27,37,44,63,70,36,19,51,28,31,27,32,47,23,62,73,68,50,41,53,76,18,32,25,24,43,40,28,64,79,31,46,35,26,36,74,63,20,26,45,28,41,74,64,40,50,71,34,40,62,51,38,78,52,25,24,36,33,67,77,26,55,57,39,25,36,75,45,20,34,69,52,28,43,18,62,48,39,71,28,60,23,72,40,79,51,26,37,29,39,61,53,33,37,58,48,28,80,77,53,78,37,46,20,62,29,69,33,34,38,45,36,23,78,73,59,19,39,51,37,79,18,64,25,32,48,57,25,68,73,18,45,40,65,44,68,72,47,69,28,23,64,31,51,41,80,54,47,63,23,60,25,39,44,45,87,51,73,21,51,41,68,74,35,31,81,62,30,42,32,59,54,25,72,25,39,76,56,49,81,65,53,58,52,46,23,62,48,75,69,28,25,42,19,58,59,54,21,34,52,82,29,62,37,48,45,79,70,84,54,37,55,31,72,68,46,29,45,77,43,22,42,56,34,73,43,25,25,39,49,23,57,56,19,43,44,59,51,67,30,26,69,22,53,72,31,61,48,24,35,35,29,40,27,59,56,55,80,19,66,29,41,55,30,20,48,66,75,41,31,34,43,63,66,64,52,40,44,59,69,29,19,83,33,64,67,31,50,24,80,37,54,39,26,20,60,69,34,49,62,45,35,34,75,68,47,48,44,25,42,39,76,79,25,29,58,46,74,68,77,25,21,38,52,44,27,34,49,28,63,44,56,21,70,43,45,50,42,19,31,33,35,62,67,19,57,26,39,72,23,26,39,49,28,23,25,61,32,33,34,68,42,37,43,93,40,18,62,43,40,59,73,32,45,45,61,66,55,50,50,39,27,51,78,60,80,34,69,27,45,49,55,44,29,34,43,24,24,58,65,24,52,36,29,37,70,86,25,48,41,50,21,70,25,77,63,53,28,79,24,43,24,41,32,30,70,32,48,40,51,65,49,58,32,37,22,22,60,78,32,39,54,25,39,32,79,21,60,71,24,50,64,31,44,57,54,68,30,46,43,55,72,26,44,75,48,71,64,52,36,40,30,49,46,22,30,44,18,35,48,63,79,40,43,66,25,21,40,44,41,85,73,52,50,58,58,41,50,48,26,74,78,38,33,40,45,40,43,19,64,40,69,31,51,24,31,30,62,33,40,42,60,65,62,26,79,27,38,24,46,65,24,35,74,35,20,51,64,66,60,41,75,45,44,61,58,78,27,25,43,20,29,43,58,84,51,22,37,34,18,65,65,32,41,51,51,65,43,64,37,34,53,69,19,21,60,39,34,48,70,25,21,64,30,38,19,76,52,81,37,49,27,33,39,74,53,61,35,83,32,78,31,25,54,43,59,69,19,20,60,47,31,33,42,71,60,83,49,43,28,43,45,79,20,20,38,60,27,26,72,42,36,64,46,26,34,37,54,29,21,36,23,70,45,70,61,40,24,29,59,38,45,40,82,51,77,28,54,69,39,23,28,30,37,42,46,89,26,22,31,71,59,78,41,64,39,53,33,63,33,43,38,52,38,24,41,79,46,59,40,59,25,77,62,28,33,36,38,34,49,60,80,66,45,39,42,59,67,31,54,62,39,28,70,58,45,65,37,46,32,70,33,21,70,47,30,56,68,56,28,22,49,72,24,59,40,40,65,27,49,72,32,65,31,20,18,36,60,28,39,45,47,41,75,48,44,32,63,58,79,73,28,18,37,53,43,50,74,80,68,77,27,32,48,24,64,23,18,54,64,65,39,35,63,45,33,23,69,61,67,28,36,49,55,40,36,25,65,34,87,50,30,84,36,48,28,64,43,45,64,64,80,80,39,67,69,41,20,45,64,71,41,27,59,58,29,69,57,66,50,49,19,82,33,43,41,48,25,28,40,47,41,55,70,30,33,21,65,56,39,44,44,82,78,56,46,61,21,23,25,81,53,68,35,29,43,53,82,38,29,48,44,33,21,49,56,39,46,28,29,35,60,70,21,64,72,62,66,60,31,53,82,34,44,74,77,51,38,80,33,21,54,27,64,92,43,18,54,31,52],\"x0\":\" \",\"xaxis\":\"x\",\"y0\":\" \",\"yaxis\":\"y\",\"type\":\"box\"}],                        {\"template\":{\"data\":{\"bar\":[{\"error_x\":{\"color\":\"#2a3f5f\"},\"error_y\":{\"color\":\"#2a3f5f\"},\"marker\":{\"line\":{\"color\":\"#E5ECF6\",\"width\":0.5},\"pattern\":{\"fillmode\":\"overlay\",\"size\":10,\"solidity\":0.2}},\"type\":\"bar\"}],\"barpolar\":[{\"marker\":{\"line\":{\"color\":\"#E5ECF6\",\"width\":0.5},\"pattern\":{\"fillmode\":\"overlay\",\"size\":10,\"solidity\":0.2}},\"type\":\"barpolar\"}],\"carpet\":[{\"aaxis\":{\"endlinecolor\":\"#2a3f5f\",\"gridcolor\":\"white\",\"linecolor\":\"white\",\"minorgridcolor\":\"white\",\"startlinecolor\":\"#2a3f5f\"},\"baxis\":{\"endlinecolor\":\"#2a3f5f\",\"gridcolor\":\"white\",\"linecolor\":\"white\",\"minorgridcolor\":\"white\",\"startlinecolor\":\"#2a3f5f\"},\"type\":\"carpet\"}],\"choropleth\":[{\"colorbar\":{\"outlinewidth\":0,\"ticks\":\"\"},\"type\":\"choropleth\"}],\"contour\":[{\"colorbar\":{\"outlinewidth\":0,\"ticks\":\"\"},\"colorscale\":[[0.0,\"#0d0887\"],[0.1111111111111111,\"#46039f\"],[0.2222222222222222,\"#7201a8\"],[0.3333333333333333,\"#9c179e\"],[0.4444444444444444,\"#bd3786\"],[0.5555555555555556,\"#d8576b\"],[0.6666666666666666,\"#ed7953\"],[0.7777777777777778,\"#fb9f3a\"],[0.8888888888888888,\"#fdca26\"],[1.0,\"#f0f921\"]],\"type\":\"contour\"}],\"contourcarpet\":[{\"colorbar\":{\"outlinewidth\":0,\"ticks\":\"\"},\"type\":\"contourcarpet\"}],\"heatmap\":[{\"colorbar\":{\"outlinewidth\":0,\"ticks\":\"\"},\"colorscale\":[[0.0,\"#0d0887\"],[0.1111111111111111,\"#46039f\"],[0.2222222222222222,\"#7201a8\"],[0.3333333333333333,\"#9c179e\"],[0.4444444444444444,\"#bd3786\"],[0.5555555555555556,\"#d8576b\"],[0.6666666666666666,\"#ed7953\"],[0.7777777777777778,\"#fb9f3a\"],[0.8888888888888888,\"#fdca26\"],[1.0,\"#f0f921\"]],\"type\":\"heatmap\"}],\"heatmapgl\":[{\"colorbar\":{\"outlinewidth\":0,\"ticks\":\"\"},\"colorscale\":[[0.0,\"#0d0887\"],[0.1111111111111111,\"#46039f\"],[0.2222222222222222,\"#7201a8\"],[0.3333333333333333,\"#9c179e\"],[0.4444444444444444,\"#bd3786\"],[0.5555555555555556,\"#d8576b\"],[0.6666666666666666,\"#ed7953\"],[0.7777777777777778,\"#fb9f3a\"],[0.8888888888888888,\"#fdca26\"],[1.0,\"#f0f921\"]],\"type\":\"heatmapgl\"}],\"histogram\":[{\"marker\":{\"pattern\":{\"fillmode\":\"overlay\",\"size\":10,\"solidity\":0.2}},\"type\":\"histogram\"}],\"histogram2d\":[{\"colorbar\":{\"outlinewidth\":0,\"ticks\":\"\"},\"colorscale\":[[0.0,\"#0d0887\"],[0.1111111111111111,\"#46039f\"],[0.2222222222222222,\"#7201a8\"],[0.3333333333333333,\"#9c179e\"],[0.4444444444444444,\"#bd3786\"],[0.5555555555555556,\"#d8576b\"],[0.6666666666666666,\"#ed7953\"],[0.7777777777777778,\"#fb9f3a\"],[0.8888888888888888,\"#fdca26\"],[1.0,\"#f0f921\"]],\"type\":\"histogram2d\"}],\"histogram2dcontour\":[{\"colorbar\":{\"outlinewidth\":0,\"ticks\":\"\"},\"colorscale\":[[0.0,\"#0d0887\"],[0.1111111111111111,\"#46039f\"],[0.2222222222222222,\"#7201a8\"],[0.3333333333333333,\"#9c179e\"],[0.4444444444444444,\"#bd3786\"],[0.5555555555555556,\"#d8576b\"],[0.6666666666666666,\"#ed7953\"],[0.7777777777777778,\"#fb9f3a\"],[0.8888888888888888,\"#fdca26\"],[1.0,\"#f0f921\"]],\"type\":\"histogram2dcontour\"}],\"mesh3d\":[{\"colorbar\":{\"outlinewidth\":0,\"ticks\":\"\"},\"type\":\"mesh3d\"}],\"parcoords\":[{\"line\":{\"colorbar\":{\"outlinewidth\":0,\"ticks\":\"\"}},\"type\":\"parcoords\"}],\"pie\":[{\"automargin\":true,\"type\":\"pie\"}],\"scatter\":[{\"marker\":{\"colorbar\":{\"outlinewidth\":0,\"ticks\":\"\"}},\"type\":\"scatter\"}],\"scatter3d\":[{\"line\":{\"colorbar\":{\"outlinewidth\":0,\"ticks\":\"\"}},\"marker\":{\"colorbar\":{\"outlinewidth\":0,\"ticks\":\"\"}},\"type\":\"scatter3d\"}],\"scattercarpet\":[{\"marker\":{\"colorbar\":{\"outlinewidth\":0,\"ticks\":\"\"}},\"type\":\"scattercarpet\"}],\"scattergeo\":[{\"marker\":{\"colorbar\":{\"outlinewidth\":0,\"ticks\":\"\"}},\"type\":\"scattergeo\"}],\"scattergl\":[{\"marker\":{\"colorbar\":{\"outlinewidth\":0,\"ticks\":\"\"}},\"type\":\"scattergl\"}],\"scattermapbox\":[{\"marker\":{\"colorbar\":{\"outlinewidth\":0,\"ticks\":\"\"}},\"type\":\"scattermapbox\"}],\"scatterpolar\":[{\"marker\":{\"colorbar\":{\"outlinewidth\":0,\"ticks\":\"\"}},\"type\":\"scatterpolar\"}],\"scatterpolargl\":[{\"marker\":{\"colorbar\":{\"outlinewidth\":0,\"ticks\":\"\"}},\"type\":\"scatterpolargl\"}],\"scatterternary\":[{\"marker\":{\"colorbar\":{\"outlinewidth\":0,\"ticks\":\"\"}},\"type\":\"scatterternary\"}],\"surface\":[{\"colorbar\":{\"outlinewidth\":0,\"ticks\":\"\"},\"colorscale\":[[0.0,\"#0d0887\"],[0.1111111111111111,\"#46039f\"],[0.2222222222222222,\"#7201a8\"],[0.3333333333333333,\"#9c179e\"],[0.4444444444444444,\"#bd3786\"],[0.5555555555555556,\"#d8576b\"],[0.6666666666666666,\"#ed7953\"],[0.7777777777777778,\"#fb9f3a\"],[0.8888888888888888,\"#fdca26\"],[1.0,\"#f0f921\"]],\"type\":\"surface\"}],\"table\":[{\"cells\":{\"fill\":{\"color\":\"#EBF0F8\"},\"line\":{\"color\":\"white\"}},\"header\":{\"fill\":{\"color\":\"#C8D4E3\"},\"line\":{\"color\":\"white\"}},\"type\":\"table\"}]},\"layout\":{\"annotationdefaults\":{\"arrowcolor\":\"#2a3f5f\",\"arrowhead\":0,\"arrowwidth\":1},\"autotypenumbers\":\"strict\",\"coloraxis\":{\"colorbar\":{\"outlinewidth\":0,\"ticks\":\"\"}},\"colorscale\":{\"diverging\":[[0,\"#8e0152\"],[0.1,\"#c51b7d\"],[0.2,\"#de77ae\"],[0.3,\"#f1b6da\"],[0.4,\"#fde0ef\"],[0.5,\"#f7f7f7\"],[0.6,\"#e6f5d0\"],[0.7,\"#b8e186\"],[0.8,\"#7fbc41\"],[0.9,\"#4d9221\"],[1,\"#276419\"]],\"sequential\":[[0.0,\"#0d0887\"],[0.1111111111111111,\"#46039f\"],[0.2222222222222222,\"#7201a8\"],[0.3333333333333333,\"#9c179e\"],[0.4444444444444444,\"#bd3786\"],[0.5555555555555556,\"#d8576b\"],[0.6666666666666666,\"#ed7953\"],[0.7777777777777778,\"#fb9f3a\"],[0.8888888888888888,\"#fdca26\"],[1.0,\"#f0f921\"]],\"sequentialminus\":[[0.0,\"#0d0887\"],[0.1111111111111111,\"#46039f\"],[0.2222222222222222,\"#7201a8\"],[0.3333333333333333,\"#9c179e\"],[0.4444444444444444,\"#bd3786\"],[0.5555555555555556,\"#d8576b\"],[0.6666666666666666,\"#ed7953\"],[0.7777777777777778,\"#fb9f3a\"],[0.8888888888888888,\"#fdca26\"],[1.0,\"#f0f921\"]]},\"colorway\":[\"#636efa\",\"#EF553B\",\"#00cc96\",\"#ab63fa\",\"#FFA15A\",\"#19d3f3\",\"#FF6692\",\"#B6E880\",\"#FF97FF\",\"#FECB52\"],\"font\":{\"color\":\"#2a3f5f\"},\"geo\":{\"bgcolor\":\"white\",\"lakecolor\":\"white\",\"landcolor\":\"#E5ECF6\",\"showlakes\":true,\"showland\":true,\"subunitcolor\":\"white\"},\"hoverlabel\":{\"align\":\"left\"},\"hovermode\":\"closest\",\"mapbox\":{\"style\":\"light\"},\"paper_bgcolor\":\"white\",\"plot_bgcolor\":\"#E5ECF6\",\"polar\":{\"angularaxis\":{\"gridcolor\":\"white\",\"linecolor\":\"white\",\"ticks\":\"\"},\"bgcolor\":\"#E5ECF6\",\"radialaxis\":{\"gridcolor\":\"white\",\"linecolor\":\"white\",\"ticks\":\"\"}},\"scene\":{\"xaxis\":{\"backgroundcolor\":\"#E5ECF6\",\"gridcolor\":\"white\",\"gridwidth\":2,\"linecolor\":\"white\",\"showbackground\":true,\"ticks\":\"\",\"zerolinecolor\":\"white\"},\"yaxis\":{\"backgroundcolor\":\"#E5ECF6\",\"gridcolor\":\"white\",\"gridwidth\":2,\"linecolor\":\"white\",\"showbackground\":true,\"ticks\":\"\",\"zerolinecolor\":\"white\"},\"zaxis\":{\"backgroundcolor\":\"#E5ECF6\",\"gridcolor\":\"white\",\"gridwidth\":2,\"linecolor\":\"white\",\"showbackground\":true,\"ticks\":\"\",\"zerolinecolor\":\"white\"}},\"shapedefaults\":{\"line\":{\"color\":\"#2a3f5f\"}},\"ternary\":{\"aaxis\":{\"gridcolor\":\"white\",\"linecolor\":\"white\",\"ticks\":\"\"},\"baxis\":{\"gridcolor\":\"white\",\"linecolor\":\"white\",\"ticks\":\"\"},\"bgcolor\":\"#E5ECF6\",\"caxis\":{\"gridcolor\":\"white\",\"linecolor\":\"white\",\"ticks\":\"\"}},\"title\":{\"x\":0.05},\"xaxis\":{\"automargin\":true,\"gridcolor\":\"white\",\"linecolor\":\"white\",\"ticks\":\"\",\"title\":{\"standoff\":15},\"zerolinecolor\":\"white\",\"zerolinewidth\":2},\"yaxis\":{\"automargin\":true,\"gridcolor\":\"white\",\"linecolor\":\"white\",\"ticks\":\"\",\"title\":{\"standoff\":15},\"zerolinecolor\":\"white\",\"zerolinewidth\":2}}},\"xaxis\":{\"anchor\":\"y\",\"domain\":[0.0,1.0],\"title\":{\"text\":\"age\"}},\"yaxis\":{\"anchor\":\"x\",\"domain\":[0.0,1.0]},\"legend\":{\"tracegroupgap\":0},\"margin\":{\"t\":60},\"boxmode\":\"group\"},                        {\"responsive\": true}                    ).then(function(){\n",
       "                            \n",
       "var gd = document.getElementById('1910ab8b-ef4d-4c9e-8ed2-ca5c06c51031');\n",
       "var x = new MutationObserver(function (mutations, observer) {{\n",
       "        var display = window.getComputedStyle(gd).display;\n",
       "        if (!display || display === 'none') {{\n",
       "            console.log([gd, 'removed!']);\n",
       "            Plotly.purge(gd);\n",
       "            observer.disconnect();\n",
       "        }}\n",
       "}});\n",
       "\n",
       "// Listen for the removal of the full notebook cells\n",
       "var notebookContainer = gd.closest('#notebook-container');\n",
       "if (notebookContainer) {{\n",
       "    x.observe(notebookContainer, {childList: true});\n",
       "}}\n",
       "\n",
       "// Listen for the clearing of the current output cell\n",
       "var outputEl = gd.closest('.output');\n",
       "if (outputEl) {{\n",
       "    x.observe(outputEl, {childList: true});\n",
       "}}\n",
       "\n",
       "                        })                };                });            </script>        </div>"
      ]
     },
     "metadata": {},
     "output_type": "display_data"
    }
   ],
   "source": [
    "px.box(data_frame=df, x='age')"
   ]
  },
  {
   "cell_type": "code",
   "execution_count": null,
   "id": "1686774c-1304-4be5-b1a0-c7cac9087d11",
   "metadata": {},
   "outputs": [],
   "source": []
  },
  {
   "cell_type": "code",
   "execution_count": null,
   "id": "414a3665-4979-4741-8bdd-747d89b2fbd8",
   "metadata": {},
   "outputs": [],
   "source": []
  },
  {
   "cell_type": "code",
   "execution_count": null,
   "id": "c3549e7b-aa3e-4fcc-a839-a9c09df16b3b",
   "metadata": {},
   "outputs": [],
   "source": []
  },
  {
   "cell_type": "markdown",
   "id": "ffdeb7d9-5760-441e-a701-1ca06204aba1",
   "metadata": {},
   "source": [
    "# The Uncovered Solution"
   ]
  },
  {
   "cell_type": "markdown",
   "id": "de2da76c-fb01-4615-acd9-d93b756874b1",
   "metadata": {},
   "source": [
    "1. `module`\n",
    "    - <font color=\"red\">pandas</font>\n",
    "2. `.` **DOT NOTATION** to look for *functions* inside the `module` or `instance`\n",
    "3. `function()`\n",
    "    - read_excel\n",
    "    <font color=\"red\">pandas</font>\n",
    "4. pass `objects` to the `parameters`\n",
    "    - pass `str (\"internet_usage_spain.xlsx\")` to `parameter (io=?)`\n",
    "    - pass `int (1)` to `parameter (sheet_name=?)`\n",
    "5. execute\n",
    "6. [ ] magic?\n",
    "7. the `function()` returns an `object`"
   ]
  },
  {
   "cell_type": "code",
   "execution_count": null,
   "id": "f17c9baf-8166-439b-9d2b-48b0ea044a57",
   "metadata": {},
   "outputs": [],
   "source": []
  }
 ],
 "metadata": {
  "authors": [
   {
    "blog": "https//blog.pythonresolver.com",
    "name": "Jesús López",
    "twitter": "https://twitter.com/jsulopz"
   }
  ],
  "kernelspec": {
   "display_name": "Python 3 (ipykernel)",
   "language": "python",
   "name": "python3"
  },
  "language_info": {
   "codemirror_mode": {
    "name": "ipython",
    "version": 3
   },
   "file_extension": ".py",
   "mimetype": "text/x-python",
   "name": "python",
   "nbconvert_exporter": "python",
   "pygments_lexer": "ipython3",
   "version": "3.9.7"
  },
  "title": "The Use of Functions",
  "toc-autonumbering": true
 },
 "nbformat": 4,
 "nbformat_minor": 5
}
