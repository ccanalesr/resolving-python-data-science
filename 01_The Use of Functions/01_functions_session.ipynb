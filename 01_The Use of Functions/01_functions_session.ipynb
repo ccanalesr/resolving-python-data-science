{
 "cells": [
  {
   "cell_type": "markdown",
   "id": "8e52b97d-1dd5-4585-b589-964f954af941",
   "metadata": {},
   "source": [
    "<font size=\"+5\">#01 | The Use of Functions</font>"
   ]
  },
  {
   "cell_type": "markdown",
   "id": "ee404e98-7cce-4d1a-897d-572ec26ee648",
   "metadata": {},
   "source": [
    "\n",
    "<div class=\"alert alert-warning\">\n",
    "  <ul>\n",
    "    <li>\n",
    "      <b>Python</b> + <b>Data Science</b> Tutorials in ↓\n",
    "      <ul>\n",
    "        <li>\n",
    "          <a href=\"https://www.youtube.com/c/PythonResolver?sub_confirmation=1\"\n",
    "            >YouTube</a\n",
    "          >\n",
    "        </li>\n",
    "        <li>\n",
    "          <a href=\"https://blog.pythonresolver.com/\">Blog</a>\n",
    "        </li>\n",
    "        <li>\n",
    "          <a href=\"https://github.com/jsulopz/00-python-resolver-discipline\">GitHub</a>\n",
    "        </li>\n",
    "      </ul>\n",
    "    </li>\n",
    "    <li>\n",
    "      Author: <a href=\"https://twitter.com/jsulopz\"><b>@jsulopz</b></a>\n",
    "    </li>\n",
    "  </ul>\n",
    "</div>\n",
    "\n",
    "<a href=\"https://colab.research.google.com/github/jsulopz/resolving-python-data-science/blob/main/01_The%20Use%20of%20Functions/01_functions_session.ipynb\">\n",
    "  <img src=\"https://colab.research.google.com/assets/colab-badge.svg\" alt=\"Open In Colab\"/>\n",
    "</a>\n"
   ]
  },
  {
   "cell_type": "markdown",
   "id": "ff269276-6dc1-406c-a20a-952c1792b995",
   "metadata": {},
   "source": [
    "# The Starting *Thing*"
   ]
  },
  {
   "cell_type": "code",
   "execution_count": 1,
   "id": "f1ff71e2-efc5-4870-96c5-b755e3568a83",
   "metadata": {},
   "outputs": [
    {
     "ename": "NameError",
     "evalue": "name 'internet_usage_spain' is not defined",
     "output_type": "error",
     "traceback": [
      "\u001b[0;31m---------------------------------------------------------------------------\u001b[0m",
      "\u001b[0;31mNameError\u001b[0m                                 Traceback (most recent call last)",
      "\u001b[0;32m/var/folders/24/tg28vxls25l9mjvqrnh0plc80000gn/T/ipykernel_9147/1915596964.py\u001b[0m in \u001b[0;36m<module>\u001b[0;34m\u001b[0m\n\u001b[0;32m----> 1\u001b[0;31m \u001b[0minternet_usage_spain\u001b[0m\u001b[0;34m.\u001b[0m\u001b[0mxlsx\u001b[0m \u001b[0;31m#!\u001b[0m\u001b[0;34m\u001b[0m\u001b[0;34m\u001b[0m\u001b[0m\n\u001b[0m",
      "\u001b[0;31mNameError\u001b[0m: name 'internet_usage_spain' is not defined"
     ]
    }
   ],
   "source": [
    "internet_usage_spain.xlsx #!"
   ]
  },
  {
   "cell_type": "markdown",
   "id": "ef8e6f83-a820-4c97-8da4-791c7679083c",
   "metadata": {},
   "source": [
    "- [ ] Type `your_name` and execute ↓"
   ]
  },
  {
   "cell_type": "code",
   "execution_count": null,
   "id": "7648540f-8bd3-4b97-9889-26ccc56d31d0",
   "metadata": {},
   "outputs": [],
   "source": []
  },
  {
   "cell_type": "markdown",
   "id": "b36f1c8f-8d3b-4629-afbe-2f8e29312c98",
   "metadata": {},
   "source": [
    "- [ ] Why is not Python recognising my name?"
   ]
  },
  {
   "cell_type": "markdown",
   "id": "8bd24a54-8440-4dae-8b39-7d20f1523af9",
   "metadata": {},
   "source": [
    "# Default *Things* in Python"
   ]
  },
  {
   "cell_type": "markdown",
   "id": "3913e701-8960-419c-949f-00b6e58026c7",
   "metadata": {},
   "source": [
    "- It is not [**predefined by default**]() in Python\n",
    "- [ ] Then, what is predefined by default?\n",
    "    - [Functions](https://docs.python.org/3/library/functions.html)\n",
    "    - [Constants](https://docs.python.org/3/library/constants.html)\n",
    "    - [Types](https://docs.python.org/3/library/stdtypes.html)\n",
    "    - [Exceptions](https://docs.python.org/3/library/exceptions.html)"
   ]
  },
  {
   "cell_type": "code",
   "execution_count": 1,
   "id": "d911c09f-1862-4ca3-b1e4-0f33bf007824",
   "metadata": {},
   "outputs": [
    {
     "data": {
      "text/plain": [
       "<function min>"
      ]
     },
     "execution_count": 1,
     "metadata": {},
     "output_type": "execute_result"
    }
   ],
   "source": [
    "min"
   ]
  },
  {
   "cell_type": "markdown",
   "id": "19ec6fba-a21b-4620-bcd8-52411509c1bd",
   "metadata": {},
   "source": [
    "- [ ] Why is it recognizing `sum`? Why not `your_name`?\n",
    "- [ ] How can Python recognize `your_name`?"
   ]
  },
  {
   "cell_type": "code",
   "execution_count": 2,
   "id": "fa512143-aaed-40c0-b934-06f54deba977",
   "metadata": {},
   "outputs": [
    {
     "data": {
      "text/plain": [
       "<function max>"
      ]
     },
     "execution_count": 2,
     "metadata": {},
     "output_type": "execute_result"
    }
   ],
   "source": [
    "max"
   ]
  },
  {
   "cell_type": "code",
   "execution_count": null,
   "id": "16607e87-dd23-48c3-9a56-92dca0db4168",
   "metadata": {},
   "outputs": [],
   "source": []
  },
  {
   "cell_type": "markdown",
   "id": "133439a5-12f3-42fa-a4af-156f21f49524",
   "metadata": {},
   "source": [
    "# Object-Oriented Programming"
   ]
  },
  {
   "cell_type": "markdown",
   "id": "f33fef3f-0171-46de-8b0d-1d903a354d1f",
   "metadata": {},
   "source": [
    "Which `objects` are predefined by Python?\n",
    "- Numbers\n",
    "    - `int`eger\n",
    "    - `float`\n",
    "- Text\n",
    "    - `str`\n",
    "- and [more...](https://docs.python.org/3/library/stdtypes.html#sequence-types-list-tuple-range)"
   ]
  },
  {
   "cell_type": "markdown",
   "id": "96bb17cf-8bb2-49eb-9451-61b3c5713224",
   "metadata": {},
   "source": [
    "## `string`"
   ]
  },
  {
   "cell_type": "code",
   "execution_count": 1,
   "id": "f150c97c-16b9-4929-80fc-7c4483060327",
   "metadata": {},
   "outputs": [],
   "source": [
    "import pandas as pd"
   ]
  },
  {
   "cell_type": "code",
   "execution_count": 4,
   "id": "7a9b3c44-02af-47dc-ba7f-261e28bd1554",
   "metadata": {},
   "outputs": [],
   "source": [
    "df=pd.read_html('https://soymotor.com/clasificacion-mundial-f1/2021')[0]"
   ]
  },
  {
   "cell_type": "raw",
   "id": "2a096ddf-fb85-479e-a362-5f4c10b363e2",
   "metadata": {},
   "source": []
  },
  {
   "cell_type": "markdown",
   "id": "349ccda8-726c-4c16-9a3b-564819d3c40e",
   "metadata": {},
   "source": [
    "## `integer`"
   ]
  },
  {
   "cell_type": "code",
   "execution_count": null,
   "id": "0cb69030-6107-4684-8a2c-3c199ab92ef2",
   "metadata": {},
   "outputs": [],
   "source": []
  },
  {
   "cell_type": "code",
   "execution_count": null,
   "id": "0d80807d-89b9-4953-8765-b79fd220ff4e",
   "metadata": {},
   "outputs": [],
   "source": []
  },
  {
   "cell_type": "markdown",
   "id": "854c79bb-3c80-49d1-be7b-eabe55bb0764",
   "metadata": {},
   "source": [
    "## `float`"
   ]
  },
  {
   "cell_type": "code",
   "execution_count": null,
   "id": "00c94f31-eb6d-4b49-8edc-83b92d3c1c35",
   "metadata": {},
   "outputs": [],
   "source": []
  },
  {
   "cell_type": "code",
   "execution_count": null,
   "id": "77b1b885-446f-4746-88d4-1913b75928e4",
   "metadata": {},
   "outputs": [],
   "source": []
  },
  {
   "cell_type": "markdown",
   "id": "1bf42dce-8ba7-4e31-bc5f-e7974a7ffb02",
   "metadata": {},
   "source": [
    "## `list`"
   ]
  },
  {
   "cell_type": "code",
   "execution_count": null,
   "id": "99319fbd-dbfb-47c2-8719-d30d42ddf05d",
   "metadata": {},
   "outputs": [],
   "source": []
  },
  {
   "cell_type": "code",
   "execution_count": null,
   "id": "211c7080-2114-4e58-a75c-74314eea2840",
   "metadata": {},
   "outputs": [],
   "source": []
  },
  {
   "cell_type": "markdown",
   "id": "d6ec66aa-f351-41e7-b08c-f860726a3baf",
   "metadata": {},
   "source": [
    "<div class=\"alert alert-info\">\n",
    "    <b>Tip</b>\n",
    "    <br>It isn't necessary to know all the objects.\n",
    "    <br>Rather, how to work with them.\n",
    "</div>"
   ]
  },
  {
   "cell_type": "markdown",
   "id": "8ae9eb5a-8556-47ca-b82e-af5a7e1a0707",
   "metadata": {
    "tags": []
   },
   "source": [
    "# The Elements of Python\n",
    "\n",
    "1. `module`: where `functions()` are stored \n",
    "2. `function()`: to execute 100 lines of code automatically (inside the computer)\n",
    "3. `instance`: a data structure"
   ]
  },
  {
   "cell_type": "markdown",
   "id": "571887e9-fb64-4289-8c81-82a67a756583",
   "metadata": {},
   "source": [
    "## Example 1. A Bar Plot"
   ]
  },
  {
   "cell_type": "code",
   "execution_count": null,
   "id": "94400414-c1f1-4bee-8549-ef7016407c52",
   "metadata": {},
   "outputs": [],
   "source": []
  },
  {
   "cell_type": "markdown",
   "id": "0b240805-36ea-4ed9-8e47-122f2f5797e4",
   "metadata": {},
   "source": [
    "`~/miniforge3/lib/python3.9/site-packages/plotly/express/_chart_types.py`"
   ]
  },
  {
   "cell_type": "markdown",
   "id": "50e3313d-3825-4400-b1b0-bb8474cb6031",
   "metadata": {},
   "source": [
    "### `instance`"
   ]
  },
  {
   "cell_type": "code",
   "execution_count": null,
   "id": "ba5e0620-48f9-41ae-841d-8eb59dab6c47",
   "metadata": {},
   "outputs": [],
   "source": []
  },
  {
   "cell_type": "markdown",
   "id": "321395e2-89fd-472c-ae04-3c65844ddaaa",
   "metadata": {},
   "source": [
    "### `module`"
   ]
  },
  {
   "cell_type": "code",
   "execution_count": null,
   "id": "195fbc05-8514-44fd-b0de-eacfe4ca52d5",
   "metadata": {},
   "outputs": [],
   "source": []
  },
  {
   "cell_type": "markdown",
   "id": "5db62dbb-e07b-4581-ae74-f1773fc50569",
   "metadata": {},
   "source": [
    "### `function`"
   ]
  },
  {
   "cell_type": "code",
   "execution_count": null,
   "id": "5ad2c675-135d-43d9-9e5c-e0bcbe42ebaf",
   "metadata": {},
   "outputs": [],
   "source": []
  },
  {
   "cell_type": "markdown",
   "id": "57997529-ed69-4a99-a31c-a78be97cde19",
   "metadata": {},
   "source": [
    "## Example 2. Read Table from URL"
   ]
  },
  {
   "cell_type": "markdown",
   "id": "4503f689-8aa9-4b96-b294-c7dbfb61ad6e",
   "metadata": {},
   "source": [
    "### `module`"
   ]
  },
  {
   "cell_type": "code",
   "execution_count": null,
   "id": "3a620c60-4369-4360-9297-54ee0e1b381c",
   "metadata": {},
   "outputs": [],
   "source": []
  },
  {
   "cell_type": "code",
   "execution_count": null,
   "id": "a8478b41-a7b2-409d-86d0-5581e7b23542",
   "metadata": {},
   "outputs": [],
   "source": []
  },
  {
   "cell_type": "markdown",
   "id": "ff13a470-443b-43ae-af92-07ff559c5a7d",
   "metadata": {},
   "source": [
    "### `instance`"
   ]
  },
  {
   "cell_type": "code",
   "execution_count": null,
   "id": "59f85c4c-ed1d-4048-a6c5-3bb6db153748",
   "metadata": {},
   "outputs": [],
   "source": []
  },
  {
   "cell_type": "markdown",
   "id": "f503e379-8491-4f03-a243-1990137173aa",
   "metadata": {},
   "source": [
    "### `function`"
   ]
  },
  {
   "cell_type": "code",
   "execution_count": null,
   "id": "c75e84fa-ae2c-4a91-ab38-1ba3197abf0c",
   "metadata": {},
   "outputs": [],
   "source": []
  },
  {
   "cell_type": "markdown",
   "id": "84df6a59-3141-491b-a68a-48b8b5f862af",
   "metadata": {},
   "source": [
    "## Example 3. A World Population Map"
   ]
  },
  {
   "cell_type": "markdown",
   "id": "0cf5c119-6ee5-4f4c-800e-2d241aef119d",
   "metadata": {},
   "source": [
    "### `module`"
   ]
  },
  {
   "cell_type": "code",
   "execution_count": null,
   "id": "25efaa9e-4f37-454f-a91d-b2c295ac2652",
   "metadata": {},
   "outputs": [],
   "source": []
  },
  {
   "cell_type": "code",
   "execution_count": null,
   "id": "78ecb670-216f-4c73-b89e-5d104f8af339",
   "metadata": {},
   "outputs": [],
   "source": []
  },
  {
   "cell_type": "markdown",
   "id": "8aacd22b-c97f-422b-bfd8-3305eaa123c4",
   "metadata": {},
   "source": [
    "### `instance`"
   ]
  },
  {
   "cell_type": "code",
   "execution_count": null,
   "id": "34565f39-6f9c-4ead-9333-d8f05368eebe",
   "metadata": {},
   "outputs": [],
   "source": []
  },
  {
   "cell_type": "code",
   "execution_count": null,
   "id": "a96d82c5-e4e5-4a87-aaaf-0e4327f2d7b7",
   "metadata": {},
   "outputs": [],
   "source": []
  },
  {
   "cell_type": "markdown",
   "id": "bca62674-15d3-44dc-b779-9de0c1ec9b57",
   "metadata": {},
   "source": [
    "### `function`"
   ]
  },
  {
   "cell_type": "code",
   "execution_count": null,
   "id": "75c0de2c-9728-4c62-8870-7952b3d2583a",
   "metadata": {},
   "outputs": [],
   "source": []
  },
  {
   "cell_type": "markdown",
   "id": "4da4d971-ac8f-4139-ac40-e94ea510c6b4",
   "metadata": {},
   "source": [
    "<div class=\"alert alert-info\">\n",
    "    <b>Tip</b>\n",
    "    <br>The <code>function()</code> is the most important element.\n",
    "    <br>The function automates the execution of 100 lines of code, for example, inside the computer.\n",
    "    <br>To do something cool in Python, you need to look for the function.\n",
    "</div>"
   ]
  },
  {
   "cell_type": "markdown",
   "id": "5149e538-3366-4654-9ab1-a7468c29e5c3",
   "metadata": {},
   "source": [
    "# Types of `functions()`"
   ]
  },
  {
   "cell_type": "code",
   "execution_count": null,
   "id": "c62769f7-c272-49e0-bec1-d722bac99817",
   "metadata": {},
   "outputs": [],
   "source": []
  },
  {
   "cell_type": "markdown",
   "id": "b43361d8-2c5b-4719-b9d4-7f4798e13b7d",
   "metadata": {},
   "source": [
    "1. `object.function()` "
   ]
  },
  {
   "cell_type": "code",
   "execution_count": null,
   "id": "6ba49aa2-6708-436e-8a73-f8447ff549dc",
   "metadata": {},
   "outputs": [],
   "source": []
  },
  {
   "cell_type": "markdown",
   "id": "39dc9ffc-8b5a-4364-a8ee-1ac3455067f7",
   "metadata": {},
   "source": [
    "2. `function(object)`"
   ]
  },
  {
   "cell_type": "code",
   "execution_count": null,
   "id": "45af671b-40ea-40f8-a02d-11c6f756c1bb",
   "metadata": {},
   "outputs": [],
   "source": []
  },
  {
   "cell_type": "markdown",
   "id": "8f809bb2-c7b7-4ead-bcf9-46fda0fa927d",
   "metadata": {},
   "source": [
    "3. `module.function(object)`"
   ]
  },
  {
   "cell_type": "code",
   "execution_count": null,
   "id": "5b693095-2425-43b0-bd43-814f183105eb",
   "metadata": {},
   "outputs": [],
   "source": []
  },
  {
   "cell_type": "markdown",
   "id": "e9011837-63d1-41dc-a9bb-8e45034eb58f",
   "metadata": {
    "tags": []
   },
   "source": [
    "## Functions Inside `instances`"
   ]
  },
  {
   "cell_type": "markdown",
   "id": "2a31a294-5271-4aaf-a006-b712328b28ea",
   "metadata": {},
   "source": [
    "```pytyhon\n",
    "instance.function(object)\n",
    "```"
   ]
  },
  {
   "cell_type": "markdown",
   "id": "dc63f9fa-a429-466f-9dc4-a941c6553096",
   "metadata": {},
   "source": [
    "- ✅ The `dog` makes `guau()`: `dog.guau()`\n",
    "- ✅ The `cat` makes `miau()`: `cat.miau()`"
   ]
  },
  {
   "cell_type": "code",
   "execution_count": null,
   "id": "01be3ef6-c7c1-4630-9685-d1c701ba257f",
   "metadata": {},
   "outputs": [],
   "source": []
  },
  {
   "cell_type": "markdown",
   "id": "aa4c1840-bbf6-4f93-b855-aa3b7626191e",
   "metadata": {},
   "source": [
    "- The instance is a copy stored in memory"
   ]
  },
  {
   "cell_type": "code",
   "execution_count": null,
   "id": "8323179c-ae0c-42c5-8485-0f1c3aabdf4d",
   "metadata": {},
   "outputs": [],
   "source": []
  },
  {
   "cell_type": "code",
   "execution_count": null,
   "id": "14295a6c-c2dd-4a87-bf84-1a546a989c0d",
   "metadata": {},
   "outputs": [],
   "source": []
  },
  {
   "cell_type": "code",
   "execution_count": null,
   "id": "cfd4dbb3-66a9-4488-a8e9-bdf930598119",
   "metadata": {},
   "outputs": [],
   "source": []
  },
  {
   "cell_type": "code",
   "execution_count": null,
   "id": "6f091c4b-6a03-4bbe-8d90-248d83612e83",
   "metadata": {},
   "outputs": [],
   "source": []
  },
  {
   "cell_type": "code",
   "execution_count": null,
   "id": "45b1f827-0b09-4c61-b92e-42d7d40258a3",
   "metadata": {},
   "outputs": [],
   "source": []
  },
  {
   "cell_type": "markdown",
   "id": "d41b7d00-3cc0-4743-be18-6339c0a5396a",
   "metadata": {},
   "source": [
    "- [ ] Can a `dog` make `miau()`: ~~`dog.miau()`~~ ? "
   ]
  },
  {
   "cell_type": "code",
   "execution_count": null,
   "id": "9708d649-0c76-4e24-85a5-df79fbe44c3a",
   "metadata": {},
   "outputs": [],
   "source": []
  },
  {
   "cell_type": "code",
   "execution_count": null,
   "id": "4d15fe44-e0c1-4427-9f3a-420ae417096e",
   "metadata": {},
   "outputs": [],
   "source": []
  },
  {
   "cell_type": "code",
   "execution_count": null,
   "id": "a3483cb4-2c4d-4af4-a667-0ddf1cd54f08",
   "metadata": {},
   "outputs": [],
   "source": []
  },
  {
   "cell_type": "code",
   "execution_count": null,
   "id": "88718f9f-8c06-468c-8153-62628e158c19",
   "metadata": {},
   "outputs": [],
   "source": []
  },
  {
   "cell_type": "markdown",
   "id": "4c508b7b-4002-4f54-b4f6-825a9a024166",
   "metadata": {},
   "source": [
    "- ❌ The `cat` DOESN'T make `guau()`: `cat.guau()`"
   ]
  },
  {
   "cell_type": "markdown",
   "id": "9c313e68-f3d7-4da9-8fc5-ff934c8d9f55",
   "metadata": {},
   "source": [
    "<div class=\"alert alert-success\">\n",
    "    <b>Python Fundamentals</b>\n",
    "    <ul>\n",
    "        <li>❌ You can't apply all functions to every object</li>\n",
    "        <li>✅ Each object contains its own functions</li>\n",
    "    </ul>\n",
    "</div>"
   ]
  },
  {
   "cell_type": "markdown",
   "id": "cb78c8eb-399f-4ba4-9b6e-92de8e10298b",
   "metadata": {},
   "source": [
    "<div class=\"alert alert-info\">\n",
    "    <b>Tip</b>\n",
    "    <br>Use the <b>Autocompletion</b> <code>element.[tab]</code> to show the list of functions available for the element.\n",
    "</div>"
   ]
  },
  {
   "cell_type": "code",
   "execution_count": null,
   "id": "b4a406c2-65ee-454f-babb-79228721fa9b",
   "metadata": {},
   "outputs": [],
   "source": []
  },
  {
   "cell_type": "code",
   "execution_count": null,
   "id": "d00bf95f-4c2d-4b87-ab35-e3be4be0de91",
   "metadata": {},
   "outputs": [],
   "source": []
  },
  {
   "cell_type": "code",
   "execution_count": null,
   "id": "7035e01a-ae26-4300-b241-51e5b2980fe5",
   "metadata": {},
   "outputs": [],
   "source": []
  },
  {
   "cell_type": "markdown",
   "id": "fde78c4b-01dc-438d-9135-0027b378f95e",
   "metadata": {},
   "source": [
    "<div class=\"alert alert-info\">\n",
    "    <b>Tip</b>\n",
    "    <br>Use the <b>Documentation</b> <code>[shift] + [tab]</code> to see the instructions of the function.\n",
    "</div>"
   ]
  },
  {
   "cell_type": "code",
   "execution_count": null,
   "id": "fc89ddee-146f-4b1b-bb56-efa9722a55f0",
   "metadata": {},
   "outputs": [],
   "source": []
  },
  {
   "cell_type": "code",
   "execution_count": null,
   "id": "91f0f1e9-c36f-4bf9-9991-98c2df8804bd",
   "metadata": {},
   "outputs": [],
   "source": []
  },
  {
   "cell_type": "code",
   "execution_count": null,
   "id": "a7f9b25a-e921-4931-a796-d95a200220b6",
   "metadata": {},
   "outputs": [],
   "source": []
  },
  {
   "cell_type": "markdown",
   "id": "41c118a3-2ec1-4fbb-a428-2f673ad3020e",
   "metadata": {},
   "source": [
    "<div class=\"alert alert-info\">\n",
    "    <b>Tip</b>\n",
    "    <br>Read the <b>error message</b> to understand what's going on.\n",
    "    <ul>\n",
    "        <li>❌ A doctor who <b>has not</b> diagnosed the illness cannot gives you a propper treatment</li>\n",
    "        <li>✅ A doctor who <b>has</b> correctly diagnose the illness can give you a propper treatment</li>\n",
    "    </ul>\n",
    "</div>"
   ]
  },
  {
   "cell_type": "code",
   "execution_count": null,
   "id": "3c7b08c0-2ad5-47aa-900d-a003ba3a85f8",
   "metadata": {},
   "outputs": [],
   "source": []
  },
  {
   "cell_type": "code",
   "execution_count": null,
   "id": "8e9cde54-4919-4c05-894a-84564573d9bb",
   "metadata": {},
   "outputs": [],
   "source": []
  },
  {
   "cell_type": "code",
   "execution_count": null,
   "id": "979044d9-290a-4afd-b934-cbbdbbff8394",
   "metadata": {},
   "outputs": [],
   "source": []
  },
  {
   "cell_type": "markdown",
   "id": "691c6f83-aa03-4359-9acf-dbd054f3c8b7",
   "metadata": {
    "tags": []
   },
   "source": [
    "## `Built-in` Functions"
   ]
  },
  {
   "cell_type": "markdown",
   "id": "d7ac17c4-5f31-49a6-a6de-025c86614fde",
   "metadata": {},
   "source": [
    "```python\n",
    "function(object)\n",
    "```\n",
    "\n",
    "- See how many `functions()` Python has by default [here ↗︎](https://docs.python.org/3/library/functions.html)"
   ]
  },
  {
   "cell_type": "code",
   "execution_count": null,
   "id": "6bc13472-e55b-4d96-8081-05839295638b",
   "metadata": {},
   "outputs": [],
   "source": []
  },
  {
   "cell_type": "code",
   "execution_count": null,
   "id": "1b54a90a-8967-4825-bde6-18a11e4f9ba9",
   "metadata": {},
   "outputs": [],
   "source": []
  },
  {
   "cell_type": "code",
   "execution_count": null,
   "id": "b12f6aed-21e7-4259-93fa-4a4e3e46b685",
   "metadata": {},
   "outputs": [],
   "source": []
  },
  {
   "cell_type": "code",
   "execution_count": null,
   "id": "f0021db5-ab45-4a8e-91a4-7cb30d7dda6d",
   "metadata": {},
   "outputs": [],
   "source": []
  },
  {
   "cell_type": "code",
   "execution_count": null,
   "id": "7a027216-6721-4348-8414-e97e394f00b8",
   "metadata": {},
   "outputs": [],
   "source": []
  },
  {
   "cell_type": "code",
   "execution_count": null,
   "id": "2fd4503c-4d3d-4614-97c1-fa7eae4b2c99",
   "metadata": {},
   "outputs": [],
   "source": []
  },
  {
   "cell_type": "code",
   "execution_count": null,
   "id": "06b3a807-a4c4-470e-8fef-3b1ff113a61d",
   "metadata": {},
   "outputs": [],
   "source": []
  },
  {
   "cell_type": "code",
   "execution_count": null,
   "id": "ead6e98e-eb0a-4dac-85e6-b83dea1ad0a4",
   "metadata": {},
   "outputs": [],
   "source": []
  },
  {
   "cell_type": "code",
   "execution_count": null,
   "id": "85abe200-8d9d-40bd-b134-d8850bc957eb",
   "metadata": {},
   "outputs": [],
   "source": []
  },
  {
   "cell_type": "markdown",
   "id": "2c4a9bf3-e496-45b3-84ef-20e61581cb48",
   "metadata": {},
   "source": [
    "<div class=\"alert alert-success\">\n",
    "    <b>Python Fundamentals</b>\n",
    "    <ul>\n",
    "        <li>❌ Not all functions are applicable to all objects</li>\n",
    "        <li>✅ Ask the <b>Documentation</b> to see the objects you can pass to the function</li>\n",
    "    </ul>\n",
    "</div>"
   ]
  },
  {
   "cell_type": "markdown",
   "id": "27b5eb52-05ec-4ce4-9561-1d32c4a1bfdc",
   "metadata": {},
   "source": [
    "### Another Example"
   ]
  },
  {
   "cell_type": "code",
   "execution_count": null,
   "id": "037a0537-91d8-472c-88c7-9e4dc4410c50",
   "metadata": {},
   "outputs": [],
   "source": []
  },
  {
   "cell_type": "code",
   "execution_count": null,
   "id": "d2690407-67db-4916-bbce-4974947695fc",
   "metadata": {},
   "outputs": [],
   "source": []
  },
  {
   "cell_type": "code",
   "execution_count": null,
   "id": "5886d0bb-3cd8-48a7-955b-aaa556abd3c8",
   "metadata": {},
   "outputs": [],
   "source": []
  },
  {
   "cell_type": "markdown",
   "id": "3c54edca-692d-446a-abb4-3394e46494f2",
   "metadata": {},
   "source": [
    "<div class=\"alert alert-success\">\n",
    "    <b>Python Fundamentals</b>\n",
    "    <ul>\n",
    "        <li>❌ Default <code>function(element)</code> is not the same than <code>element.function()</code></li>\n",
    "        <li>✅ Sometimes the function comes from the element, other times from default</li>\n",
    "    </ul>\n",
    "</div>"
   ]
  },
  {
   "cell_type": "markdown",
   "id": "34f4bcc2-fa8c-4392-9769-302c954f0f23",
   "metadata": {},
   "source": [
    "<div class=\"alert alert-info\">\n",
    "    <b>Tip</b>\n",
    "    <br>You will rarely need a default <code>function(element)</code>\n",
    "</div>"
   ]
  },
  {
   "cell_type": "code",
   "execution_count": null,
   "id": "3640bc92-6611-481b-9e6f-0265483646e9",
   "metadata": {},
   "outputs": [],
   "source": []
  },
  {
   "cell_type": "code",
   "execution_count": null,
   "id": "a4759da7-281e-4ba8-a4c6-2222ab3572e5",
   "metadata": {},
   "outputs": [],
   "source": []
  },
  {
   "cell_type": "code",
   "execution_count": null,
   "id": "606f1472-844d-49b6-8ff9-f512fd993f02",
   "metadata": {},
   "outputs": [],
   "source": []
  },
  {
   "cell_type": "code",
   "execution_count": null,
   "id": "ac662e15-e7de-4dbe-90f2-423b09f97c4c",
   "metadata": {},
   "outputs": [],
   "source": []
  },
  {
   "cell_type": "code",
   "execution_count": null,
   "id": "d463a43a-258f-42ef-ac5f-f08df6c7f367",
   "metadata": {},
   "outputs": [],
   "source": []
  },
  {
   "cell_type": "markdown",
   "id": "e99dc12a-5b63-4ae3-af87-8e63ea66472b",
   "metadata": {},
   "source": [
    "<div class=\"alert alert-info\">\n",
    "    <b>Tip</b>\n",
    "    <br>Sometimes, you need to <b>combine functions</b> to get the result you want\n",
    "</div>"
   ]
  },
  {
   "cell_type": "markdown",
   "id": "056382e8-979f-4043-afdf-9b774594a0cb",
   "metadata": {},
   "source": [
    "## Where is the `function()` that loads the Excel?\n",
    "\n",
    "### `object.function()`"
   ]
  },
  {
   "cell_type": "code",
   "execution_count": null,
   "id": "b8a0082b-eeeb-45a0-9b46-fc386194a4fe",
   "metadata": {},
   "outputs": [],
   "source": []
  },
  {
   "cell_type": "code",
   "execution_count": null,
   "id": "f36987f6-ef1b-46f0-803b-b2114d4552af",
   "metadata": {},
   "outputs": [],
   "source": []
  },
  {
   "cell_type": "markdown",
   "id": "b78739f2-d229-47c3-a4b0-0de51c88a515",
   "metadata": {},
   "source": [
    "### `function(object)`"
   ]
  },
  {
   "cell_type": "code",
   "execution_count": null,
   "id": "4c25d4ac-5e83-4e0d-a929-9ef69fa35bc0",
   "metadata": {},
   "outputs": [],
   "source": []
  },
  {
   "cell_type": "markdown",
   "id": "878566d5-ea63-4457-9274-b11a0ca73694",
   "metadata": {},
   "source": [
    "### It will be in a `module.function()`"
   ]
  },
  {
   "cell_type": "code",
   "execution_count": null,
   "id": "c4d32570-9356-4b07-b80d-f87a5c811f91",
   "metadata": {},
   "outputs": [],
   "source": []
  },
  {
   "cell_type": "markdown",
   "id": "1e92eba3-d757-477d-9306-0e21b5686a5b",
   "metadata": {},
   "source": [
    "<div class=\"alert alert-info\">\n",
    "    <b>Tip</b>\n",
    "    <br>Other times, the functions are stored in a <code>module.function()</code>\n",
    "    <br>As you don't know, look for the function in Google\n",
    "</div>"
   ]
  },
  {
   "cell_type": "markdown",
   "id": "91a65bcf-4db7-4600-8ab1-14e140926abe",
   "metadata": {},
   "source": [
    "## External Functions: from the `module`\n",
    "\n",
    "- [ ] Load [this Excel](https://github.com/sotastica/data/raw/main/internet_usage_spain.xlsx) into Python"
   ]
  },
  {
   "cell_type": "markdown",
   "id": "9d57586f-bfbd-4af3-bdc2-619486f1e3eb",
   "metadata": {},
   "source": [
    "<div class=\"alert alert-info\">\n",
    "    <b>Tip</b>\n",
    "    <br>Apply the <a href=\"https://github.com/jsulopz/python-resolver-discipline/blob/main/01_Code%20of%20Discipline/01_Sketch%20the%20Result.md\">Python Resolver Discipline</a> to look for the function in Google\n",
    "</div>"
   ]
  },
  {
   "cell_type": "code",
   "execution_count": null,
   "id": "b77c21bb-d474-4774-b5b3-a8668d78653b",
   "metadata": {},
   "outputs": [],
   "source": []
  },
  {
   "cell_type": "code",
   "execution_count": null,
   "id": "9bf91c66-0d86-4e22-8ccc-3fbe2e1845a7",
   "metadata": {},
   "outputs": [],
   "source": []
  },
  {
   "cell_type": "code",
   "execution_count": null,
   "id": "427be50f-0cee-4645-bcb3-0914354847b4",
   "metadata": {},
   "outputs": [],
   "source": []
  },
  {
   "cell_type": "code",
   "execution_count": null,
   "id": "0bb94897-674c-4347-ad29-77470d9b73a2",
   "metadata": {},
   "outputs": [],
   "source": []
  },
  {
   "cell_type": "code",
   "execution_count": null,
   "id": "9837c25f-8031-41e8-8b43-29de620107bb",
   "metadata": {},
   "outputs": [],
   "source": []
  },
  {
   "cell_type": "code",
   "execution_count": null,
   "id": "07a88d4f-f84a-444f-bb22-e646c4e498df",
   "metadata": {},
   "outputs": [],
   "source": []
  },
  {
   "cell_type": "markdown",
   "id": "eba1f9b6-fb5a-45c1-a324-68dd9fefa433",
   "metadata": {},
   "source": [
    "> - [ ] Could you read the **second table** of the `Excel`?"
   ]
  },
  {
   "cell_type": "code",
   "execution_count": null,
   "id": "3b1546d0-f2b9-4653-8b00-8979e4cc8c9e",
   "metadata": {},
   "outputs": [],
   "source": []
  },
  {
   "cell_type": "markdown",
   "id": "4791fe3f-2508-492d-ba5b-34a34c035c2a",
   "metadata": {
    "tags": []
   },
   "source": [
    "# Use of `functions()`"
   ]
  },
  {
   "cell_type": "markdown",
   "id": "ca15e755-a027-4eff-aa6b-c9bf759c3ca2",
   "metadata": {},
   "source": [
    "## Change Default Parameters of a Function"
   ]
  },
  {
   "cell_type": "markdown",
   "id": "cb053560-1296-42d4-bc6f-fd94803a881e",
   "metadata": {},
   "source": [
    "- By Default ↓"
   ]
  },
  {
   "cell_type": "code",
   "execution_count": null,
   "id": "71664811-db50-4df3-bd4d-feb32288de56",
   "metadata": {},
   "outputs": [],
   "source": []
  },
  {
   "cell_type": "markdown",
   "id": "954c5780-ec44-4cd4-af0f-b527c990b116",
   "metadata": {},
   "source": [
    "- [ ] Change the default `object` of the `(parameter=?)` ↓"
   ]
  },
  {
   "cell_type": "code",
   "execution_count": null,
   "id": "48e30005-e825-459c-83d4-64d549ec69f7",
   "metadata": {},
   "outputs": [],
   "source": []
  },
  {
   "cell_type": "markdown",
   "id": "27a491ee-33c7-43fb-9847-27d427170375",
   "metadata": {},
   "source": [
    "<div class=\"alert alert-success\">\n",
    "    <b>Python Fundamentals</b>\n",
    "    <ul>\n",
    "        <li>❌ If the function gives you an unnexpected result\n",
    "        <li>✅ You may <b>change the default values of the parameters</b></li>\n",
    "    </ul>\n",
    "</div>"
   ]
  },
  {
   "cell_type": "markdown",
   "id": "b87dc731-6f75-4035-a3a8-9bc5aa66171a",
   "metadata": {},
   "source": [
    "<div class=\"alert alert-info\">\n",
    "    <b>Tip</b>\n",
    "    <br>You don't need to know all parameters of a function\n",
    "    <br>Use the <b>Documentation</b> to see all the parameters of a function and their what they change in the function's behaviour\n",
    "</div>"
   ]
  },
  {
   "cell_type": "markdown",
   "id": "95e4a13e-8107-48e7-87af-ebf9b969b222",
   "metadata": {},
   "source": [
    "- [ ] Change the index to be the `name` column"
   ]
  },
  {
   "cell_type": "code",
   "execution_count": null,
   "id": "60049555-b1bd-468d-8a2a-163a4f542db2",
   "metadata": {},
   "outputs": [],
   "source": []
  },
  {
   "cell_type": "markdown",
   "id": "52f9e240-02b6-449e-9e6c-a9a337310e00",
   "metadata": {},
   "source": [
    "<div class=\"alert alert-info\">\n",
    "    <b>Tip</b>\n",
    "    <br><a href=\"https://github.com/jsulopz/python-resolver-discipline/blob/main/01_Code%20of%20Discipline/00_The%20Elements%20of%20Python.md\">CheatSheet/Summary</a> for the Elements of Python\n",
    "</div>"
   ]
  },
  {
   "cell_type": "markdown",
   "id": "e2c7d721-d2cd-4f0e-abea-0ccbb5a4e17b",
   "metadata": {},
   "source": [
    "# Code Syntax"
   ]
  },
  {
   "cell_type": "markdown",
   "id": "6edab2a4-b271-41c7-ae36-16542de7a810",
   "metadata": {},
   "source": [
    "In which order Python reads the line of code?\n",
    "- From <ins>left to right</ins>.\n",
    "- From <ins>up to down</ins>."
   ]
  },
  {
   "cell_type": "code",
   "execution_count": null,
   "id": "7c5e0cfd-6420-41dc-b039-71959e66fe43",
   "metadata": {},
   "outputs": [],
   "source": []
  },
  {
   "cell_type": "markdown",
   "id": "94077e8e-f3b4-4350-846a-f8574f85c2c2",
   "metadata": {},
   "source": [
    "## The `module`"
   ]
  },
  {
   "cell_type": "code",
   "execution_count": null,
   "id": "b70b6bc5-be36-455e-94bb-7cca6ea3a583",
   "metadata": {},
   "outputs": [],
   "source": []
  },
  {
   "cell_type": "markdown",
   "id": "1164afdf-9bfb-4b8b-a1d1-a07bbc3cc481",
   "metadata": {
    "tags": []
   },
   "source": [
    "## The `.` **DOT NOTATION**"
   ]
  },
  {
   "cell_type": "code",
   "execution_count": null,
   "id": "e3a9f0e3-cbd7-4272-a73e-d2eef2f09591",
   "metadata": {},
   "outputs": [],
   "source": []
  },
  {
   "cell_type": "markdown",
   "id": "3ff161f7-a02a-47e3-8a22-e2727a4418bb",
   "metadata": {},
   "source": [
    "<div class=\"alert alert-info\">\n",
    "    <b>Tip</b>\n",
    "    <br>The `.` gives to access to everything you can do with an element.\n",
    "    <br>You use <code>pd. + [tab]</code> to use the autocompletion tool.\n",
    "</div>"
   ]
  },
  {
   "cell_type": "markdown",
   "id": "575b2824-4cae-44f3-9d46-a82e93c23e2b",
   "metadata": {},
   "source": [
    "## The `function()`"
   ]
  },
  {
   "cell_type": "code",
   "execution_count": null,
   "id": "0dcdb0bf-fb97-4e88-ba7e-0781e7a81a74",
   "metadata": {},
   "outputs": [],
   "source": []
  },
  {
   "cell_type": "markdown",
   "id": "571afc9a-d1ac-4fef-aa83-7e6cd41f2169",
   "metadata": {
    "tags": []
   },
   "source": [
    "## The `(parameter=object)`"
   ]
  },
  {
   "cell_type": "markdown",
   "id": "0d1a1a08-4faa-4159-9f79-aa0d8151751c",
   "metadata": {},
   "source": [
    "### `(io='internet_usage_spain.xlsx')`\n",
    "\n",
    "- we pass the `string` object `'internet_usage_spain.xlsx'` to the parameter `io`\n",
    "    - because it's the name of the `Excel` file we want to load"
   ]
  },
  {
   "cell_type": "code",
   "execution_count": null,
   "id": "d145e813-f369-4ae8-8c38-9213dafadb50",
   "metadata": {},
   "outputs": [],
   "source": []
  },
  {
   "cell_type": "markdown",
   "id": "2fb94757-98b6-44ff-aa3e-e8ea552439ee",
   "metadata": {},
   "source": [
    "### Default objects for the parameters"
   ]
  },
  {
   "cell_type": "code",
   "execution_count": null,
   "id": "0effaf04-0134-4918-b6ad-670ecc8f2f20",
   "metadata": {},
   "outputs": [],
   "source": []
  },
  {
   "cell_type": "markdown",
   "id": "0872a64a-acb9-4a34-90d1-67d9daef4364",
   "metadata": {},
   "source": [
    "### `(sheet_name=1)`\n",
    "- we pass the `integer` object `1` to the parameter `sheet_name`\n",
    "    - beacuse it's the position of the `Sheet` we want to load"
   ]
  },
  {
   "cell_type": "code",
   "execution_count": null,
   "id": "a0a87220-128e-4bbf-9942-64d7ccf00c45",
   "metadata": {},
   "outputs": [],
   "source": []
  },
  {
   "cell_type": "markdown",
   "id": "5d578b20-2d55-416b-8485-6545dea757e0",
   "metadata": {},
   "source": [
    "## The `function()` returns an `object`"
   ]
  },
  {
   "cell_type": "code",
   "execution_count": null,
   "id": "ab3659dd-0336-42f3-8598-56f35631f5ee",
   "metadata": {},
   "outputs": [],
   "source": []
  },
  {
   "cell_type": "code",
   "execution_count": null,
   "id": "24b6e627-5ba6-48a8-8fcf-282174b349f7",
   "metadata": {},
   "outputs": [],
   "source": []
  },
  {
   "cell_type": "code",
   "execution_count": null,
   "id": "91cdae3f-ed7c-41d8-ab79-c06501221582",
   "metadata": {},
   "outputs": [],
   "source": []
  },
  {
   "cell_type": "markdown",
   "id": "b210505d-4128-4c71-a08e-76482610ad8d",
   "metadata": {},
   "source": [
    "## Recap"
   ]
  },
  {
   "cell_type": "markdown",
   "id": "474673bb-9801-4c97-a24b-0f92651e618a",
   "metadata": {},
   "source": [
    "1. `module`\n",
    "2. `.` **DOT NOTATION** to look for *functions* inside the `module` or `instance`\n",
    "3. `function()`\n",
    "4. pass `objects` to the `parameters`\n",
    "    - pass `str (\"internet_usage_spain.xlsx\")` to `parameter (io=\"internet_usage_spain.xlsx\")`\n",
    "    - pass `int (1)` to `parameter (sheet_name=1)`\n",
    "5. execute\n",
    "6. [ ] magic?\n",
    "7. the `function()` returns an `object`"
   ]
  },
  {
   "cell_type": "code",
   "execution_count": null,
   "id": "62ca1a1e-e1a6-4400-805a-34fc7c612859",
   "metadata": {},
   "outputs": [],
   "source": []
  },
  {
   "cell_type": "code",
   "execution_count": null,
   "id": "59910a2f-ba2d-45de-842f-c0fb0187f66e",
   "metadata": {},
   "outputs": [],
   "source": []
  },
  {
   "cell_type": "code",
   "execution_count": null,
   "id": "9b2acc0b-ee87-4835-a1ab-0e87e0807d72",
   "metadata": {},
   "outputs": [],
   "source": []
  },
  {
   "cell_type": "code",
   "execution_count": null,
   "id": "d162d001-8b4a-4f7b-8b13-b3b6a98a8d05",
   "metadata": {},
   "outputs": [],
   "source": []
  },
  {
   "cell_type": "markdown",
   "id": "1fe3408d-bacb-4d5f-bf27-de966d592bd1",
   "metadata": {},
   "source": [
    "<div class=\"alert alert-info\">\n",
    "    <b>Tip</b>\n",
    "    <br>Don't think a <code>DataFrame</code> is way different of an <code>integer</code> or a <code>string</code>\n",
    "    <br>In terms of the Elements of Python, they are all <b>objects</b>\n",
    "</div>"
   ]
  },
  {
   "cell_type": "markdown",
   "id": "15b9d6d1-bb75-4fa7-badf-b3e125f0d8f2",
   "metadata": {},
   "source": [
    "# Source Code Execution | What happens <ins>inside</ins> the computer ?"
   ]
  },
  {
   "cell_type": "markdown",
   "id": "e649c73c-5103-4bd6-baf2-9b2c2f88dce8",
   "metadata": {},
   "source": [
    "- When we type `pd.read_excel()`\n",
    "- and execute `shift` + `enter`"
   ]
  },
  {
   "cell_type": "code",
   "execution_count": null,
   "id": "ef5cf978-6844-4bd7-82a6-e89462d522d8",
   "metadata": {},
   "outputs": [],
   "source": []
  },
  {
   "cell_type": "markdown",
   "id": "071ba97a-0b62-4ed1-af1b-6163a4478e74",
   "metadata": {},
   "source": [
    "- [ ] How Python locates the error when it doesn't find the `filename`?"
   ]
  },
  {
   "cell_type": "code",
   "execution_count": null,
   "id": "e5e9a4f5-086f-4c87-b245-d801d68e1546",
   "metadata": {},
   "outputs": [],
   "source": []
  },
  {
   "cell_type": "markdown",
   "id": "aa7c0039-9327-469e-8486-d75ba81b92de",
   "metadata": {},
   "source": [
    "`~/miniforge3/lib/python3.9/site-packages/pandas/io/excel/_base.py`"
   ]
  },
  {
   "cell_type": "markdown",
   "id": "d8573e6d-70f7-4696-b9a5-c5523dae0daa",
   "metadata": {},
   "source": [
    "<div class=\"alert alert-success\">\n",
    "    <b>Python Fundamentals</b>\n",
    "    <ul>\n",
    "        <li>❌ Don't walk away from the errors\n",
    "        <li>✅ Understand them; you don't need to know the output of the error, just the last line</li>\n",
    "        <li>The lines in the middle represents the <b>Source Code</b>\n",
    "    </ul>\n",
    "</div>"
   ]
  },
  {
   "cell_type": "markdown",
   "id": "74598ecc-652a-4f4a-90b8-9df308d2e47d",
   "metadata": {},
   "source": [
    "# The Importance of the `function()`"
   ]
  },
  {
   "cell_type": "markdown",
   "id": "707962d5-7de7-434d-b4f8-e76eb3401b1d",
   "metadata": {},
   "source": [
    "- Your focus should always be:\n",
    "- [ ] Which `function()` do I need to calculate this? Or that?\n",
    "- Apply the [Python Resolver Discipline](https://github.com/jsulopz/python-resolver-discipline/blob/main/01_Code%20of%20Discipline/01_Sketch%20the%20Result.md) discover the `function()` you need"
   ]
  },
  {
   "cell_type": "markdown",
   "id": "2aeea07f-37b5-4654-a993-6518c1f55075",
   "metadata": {
    "tags": []
   },
   "source": [
    "## Python doesn't know about the Excel File\n",
    "\n",
    "- Python just interprets a `string`\n",
    "- and an `integer`"
   ]
  },
  {
   "cell_type": "code",
   "execution_count": null,
   "id": "7246bf3a-29dd-477b-94fa-c36a6587627b",
   "metadata": {},
   "outputs": [],
   "source": []
  },
  {
   "cell_type": "code",
   "execution_count": null,
   "id": "107d19e8-53ce-491d-a56a-e2fb598f5923",
   "metadata": {},
   "outputs": [],
   "source": []
  },
  {
   "cell_type": "markdown",
   "id": "26c61205-85c7-4b46-a973-dedd6f0de4c1",
   "metadata": {},
   "source": [
    "- As you pass the `objects` to the `parameters` of the `function()`\n",
    "- `function(parameter=object)`"
   ]
  },
  {
   "cell_type": "code",
   "execution_count": null,
   "id": "3f5063a3-8797-4001-95b8-bb7ca0dca64a",
   "metadata": {},
   "outputs": [],
   "source": []
  },
  {
   "cell_type": "markdown",
   "id": "50cd08df-62a0-42a2-b118-d1d4838813a4",
   "metadata": {},
   "source": [
    "## Other `functions()`"
   ]
  },
  {
   "cell_type": "code",
   "execution_count": null,
   "id": "72113e6b-53dd-4f83-92c9-50a6244d3efd",
   "metadata": {},
   "outputs": [],
   "source": []
  },
  {
   "cell_type": "code",
   "execution_count": null,
   "id": "cf6ea0e1-7ebd-4460-9590-3149d84738a9",
   "metadata": {},
   "outputs": [],
   "source": []
  },
  {
   "cell_type": "code",
   "execution_count": null,
   "id": "ab984028-7d76-4717-ba08-c73b180e0cbc",
   "metadata": {},
   "outputs": [],
   "source": []
  },
  {
   "cell_type": "code",
   "execution_count": null,
   "id": "cc75f383-61af-4dcb-b57a-1155a7fa6552",
   "metadata": {},
   "outputs": [],
   "source": []
  },
  {
   "cell_type": "code",
   "execution_count": null,
   "id": "048c0dfb-ebcd-4edb-b0f9-7460d42fa810",
   "metadata": {},
   "outputs": [],
   "source": []
  },
  {
   "cell_type": "code",
   "execution_count": null,
   "id": "1686774c-1304-4be5-b1a0-c7cac9087d11",
   "metadata": {},
   "outputs": [],
   "source": []
  },
  {
   "cell_type": "code",
   "execution_count": null,
   "id": "414a3665-4979-4741-8bdd-747d89b2fbd8",
   "metadata": {},
   "outputs": [],
   "source": []
  },
  {
   "cell_type": "code",
   "execution_count": null,
   "id": "c3549e7b-aa3e-4fcc-a839-a9c09df16b3b",
   "metadata": {},
   "outputs": [],
   "source": []
  },
  {
   "cell_type": "markdown",
   "id": "ffdeb7d9-5760-441e-a701-1ca06204aba1",
   "metadata": {},
   "source": [
    "# The Uncovered Solution"
   ]
  },
  {
   "cell_type": "markdown",
   "id": "de2da76c-fb01-4615-acd9-d93b756874b1",
   "metadata": {},
   "source": [
    "1. `module`\n",
    "    - <font color=\"red\">pandas</font>\n",
    "2. `.` **DOT NOTATION** to look for *functions* inside the `module` or `instance`\n",
    "3. `function()`\n",
    "    - read_excel\n",
    "    <font color=\"red\">pandas</font>\n",
    "4. pass `objects` to the `parameters`\n",
    "    - pass `str (\"internet_usage_spain.xlsx\")` to `parameter (io=?)`\n",
    "    - pass `int (1)` to `parameter (sheet_name=?)`\n",
    "5. execute\n",
    "6. [ ] magic?\n",
    "7. the `function()` returns an `object`"
   ]
  },
  {
   "cell_type": "code",
   "execution_count": null,
   "id": "f17c9baf-8166-439b-9d2b-48b0ea044a57",
   "metadata": {},
   "outputs": [],
   "source": []
  }
 ],
 "metadata": {
  "authors": [
   {
    "blog": "https//blog.pythonresolver.com",
    "name": "Jesús López",
    "twitter": "https://twitter.com/jsulopz"
   }
  ],
  "kernelspec": {
   "display_name": "Python 3 (ipykernel)",
   "language": "python",
   "name": "python3"
  },
  "language_info": {
   "codemirror_mode": {
    "name": "ipython",
    "version": 3
   },
   "file_extension": ".py",
   "mimetype": "text/x-python",
   "name": "python",
   "nbconvert_exporter": "python",
   "pygments_lexer": "ipython3",
   "version": "3.9.7"
  },
  "title": "The Use of Functions",
  "toc-autonumbering": true
 },
 "nbformat": 4,
 "nbformat_minor": 5
}
